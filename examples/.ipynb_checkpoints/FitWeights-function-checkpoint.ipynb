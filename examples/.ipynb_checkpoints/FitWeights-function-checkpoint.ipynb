{
 "cells": [
  {
   "cell_type": "code",
   "execution_count": 1,
   "id": "20c6fd9c",
   "metadata": {},
   "outputs": [
    {
     "name": "stdout",
     "output_type": "stream",
     "text": [
      "Collecting scikit-learn\n",
      "  Obtaining dependency information for scikit-learn from https://files.pythonhosted.org/packages/40/c6/2e91eefb757822e70d351e02cc38d07c137212ae7c41ac12746415b4860a/scikit_learn-1.3.2-cp311-cp311-macosx_12_0_arm64.whl.metadata\n",
      "  Downloading scikit_learn-1.3.2-cp311-cp311-macosx_12_0_arm64.whl.metadata (11 kB)\n",
      "Collecting numpy<2.0,>=1.17.3 (from scikit-learn)\n",
      "  Obtaining dependency information for numpy<2.0,>=1.17.3 from https://files.pythonhosted.org/packages/2e/54/218ce51bb571a70975f223671b2a86aa951e83abfd2a416a3d540f35115c/numpy-1.26.2-cp311-cp311-macosx_11_0_arm64.whl.metadata\n",
      "  Using cached numpy-1.26.2-cp311-cp311-macosx_11_0_arm64.whl.metadata (115 kB)\n",
      "Collecting scipy>=1.5.0 (from scikit-learn)\n",
      "  Obtaining dependency information for scipy>=1.5.0 from https://files.pythonhosted.org/packages/4b/48/20e77ddb1f473d4717a7d4d3fc8d15557f406f7708496054c59f635b7734/scipy-1.11.4-cp311-cp311-macosx_12_0_arm64.whl.metadata\n",
      "  Downloading scipy-1.11.4-cp311-cp311-macosx_12_0_arm64.whl.metadata (165 kB)\n",
      "\u001b[2K     \u001b[90m━━━━━━━━━━━━━━━━━━━━━━━━━━━━━━━━━━━━━━━\u001b[0m \u001b[32m165.4/165.4 kB\u001b[0m \u001b[31m1.5 MB/s\u001b[0m eta \u001b[36m0:00:00\u001b[0ma \u001b[36m0:00:01\u001b[0m\n",
      "\u001b[?25hCollecting joblib>=1.1.1 (from scikit-learn)\n",
      "  Obtaining dependency information for joblib>=1.1.1 from https://files.pythonhosted.org/packages/10/40/d551139c85db202f1f384ba8bcf96aca2f329440a844f924c8a0040b6d02/joblib-1.3.2-py3-none-any.whl.metadata\n",
      "  Downloading joblib-1.3.2-py3-none-any.whl.metadata (5.4 kB)\n",
      "Collecting threadpoolctl>=2.0.0 (from scikit-learn)\n",
      "  Obtaining dependency information for threadpoolctl>=2.0.0 from https://files.pythonhosted.org/packages/81/12/fd4dea011af9d69e1cad05c75f3f7202cdcbeac9b712eea58ca779a72865/threadpoolctl-3.2.0-py3-none-any.whl.metadata\n",
      "  Downloading threadpoolctl-3.2.0-py3-none-any.whl.metadata (10.0 kB)\n",
      "Downloading scikit_learn-1.3.2-cp311-cp311-macosx_12_0_arm64.whl (9.4 MB)\n",
      "\u001b[2K   \u001b[90m━━━━━━━━━━━━━━━━━━━━━━━━━━━━━━━━━━━━━━━━\u001b[0m \u001b[32m9.4/9.4 MB\u001b[0m \u001b[31m16.4 MB/s\u001b[0m eta \u001b[36m0:00:00\u001b[0m00:01\u001b[0m00:01\u001b[0m\n",
      "\u001b[?25hDownloading joblib-1.3.2-py3-none-any.whl (302 kB)\n",
      "\u001b[2K   \u001b[90m━━━━━━━━━━━━━━━━━━━━━━━━━━━━━━━━━━━━━━━━\u001b[0m \u001b[32m302.2/302.2 kB\u001b[0m \u001b[31m9.1 MB/s\u001b[0m eta \u001b[36m0:00:00\u001b[0m\n",
      "\u001b[?25hUsing cached numpy-1.26.2-cp311-cp311-macosx_11_0_arm64.whl (14.0 MB)\n",
      "Downloading scipy-1.11.4-cp311-cp311-macosx_12_0_arm64.whl (29.7 MB)\n",
      "\u001b[2K   \u001b[90m━━━━━━━━━━━━━━━━━━━━━━━━━━━━━━━━━━━━━━━━\u001b[0m \u001b[32m29.7/29.7 MB\u001b[0m \u001b[31m21.2 MB/s\u001b[0m eta \u001b[36m0:00:00\u001b[0m00:01\u001b[0m00:01\u001b[0m\n",
      "\u001b[?25hDownloading threadpoolctl-3.2.0-py3-none-any.whl (15 kB)\n",
      "Installing collected packages: threadpoolctl, numpy, joblib, scipy, scikit-learn\n",
      "Successfully installed joblib-1.3.2 numpy-1.26.2 scikit-learn-1.3.2 scipy-1.11.4 threadpoolctl-3.2.0\n",
      "\n",
      "\u001b[1m[\u001b[0m\u001b[34;49mnotice\u001b[0m\u001b[1;39;49m]\u001b[0m\u001b[39;49m A new release of pip is available: \u001b[0m\u001b[31;49m23.2.1\u001b[0m\u001b[39;49m -> \u001b[0m\u001b[32;49m23.3.1\u001b[0m\n",
      "\u001b[1m[\u001b[0m\u001b[34;49mnotice\u001b[0m\u001b[1;39;49m]\u001b[0m\u001b[39;49m To update, run: \u001b[0m\u001b[32;49mpython3.11 -m pip install --upgrade pip\u001b[0m\n"
     ]
    }
   ],
   "source": [
    "!pip3 install -U scikit-learn"
   ]
  },
  {
   "cell_type": "code",
   "execution_count": 5,
   "id": "6e2f6cdc",
   "metadata": {},
   "outputs": [
    {
     "name": "stdout",
     "output_type": "stream",
     "text": [
      "Defaulting to user installation because normal site-packages is not writeable\n",
      "Collecting numba\n",
      "  Downloading numba-0.58.1-cp38-cp38-macosx_11_0_arm64.whl (2.6 MB)\n",
      "\u001b[2K     \u001b[90m━━━━━━━━━━━━━━━━━━━━━━━━━━━━━━━━━━━━━━━━\u001b[0m \u001b[32m2.6/2.6 MB\u001b[0m \u001b[31m8.4 MB/s\u001b[0m eta \u001b[36m0:00:00\u001b[0m00:01\u001b[0m00:01\u001b[0m\n",
      "\u001b[?25hRequirement already satisfied: importlib-metadata in /Users/maksimshuklin/Library/Python/3.8/lib/python/site-packages (from numba) (6.0.0)\n",
      "Collecting llvmlite<0.42,>=0.41.0dev0\n",
      "  Downloading llvmlite-0.41.1-cp38-cp38-macosx_11_0_arm64.whl (28.8 MB)\n",
      "\u001b[2K     \u001b[90m━━━━━━━━━━━━━━━━━━━━━━━━━━━━━━━━━━━━━━━━\u001b[0m \u001b[32m28.8/28.8 MB\u001b[0m \u001b[31m19.3 MB/s\u001b[0m eta \u001b[36m0:00:00\u001b[0m00:01\u001b[0m00:01\u001b[0m\n",
      "\u001b[?25hRequirement already satisfied: numpy<1.27,>=1.22 in /Users/maksimshuklin/Library/Python/3.8/lib/python/site-packages (from numba) (1.24.2)\n",
      "Requirement already satisfied: zipp>=0.5 in /Users/maksimshuklin/Library/Python/3.8/lib/python/site-packages (from importlib-metadata->numba) (3.15.0)\n",
      "Installing collected packages: llvmlite, numba\n",
      "Successfully installed llvmlite-0.41.1 numba-0.58.1\n",
      "\n",
      "\u001b[1m[\u001b[0m\u001b[34;49mnotice\u001b[0m\u001b[1;39;49m]\u001b[0m\u001b[39;49m A new release of pip is available: \u001b[0m\u001b[31;49m23.0.1\u001b[0m\u001b[39;49m -> \u001b[0m\u001b[32;49m23.3.1\u001b[0m\n",
      "\u001b[1m[\u001b[0m\u001b[34;49mnotice\u001b[0m\u001b[1;39;49m]\u001b[0m\u001b[39;49m To update, run: \u001b[0m\u001b[32;49m/Library/Developer/CommandLineTools/usr/bin/python3 -m pip install --upgrade pip\u001b[0m\n"
     ]
    }
   ],
   "source": [
    "!pip install numba"
   ]
  },
  {
   "cell_type": "code",
   "execution_count": 183,
   "id": "0efec447",
   "metadata": {},
   "outputs": [
    {
     "data": {
      "text/plain": [
       "'0.58.1'"
      ]
     },
     "execution_count": 183,
     "metadata": {},
     "output_type": "execute_result"
    }
   ],
   "source": [
    "import numba\n",
    "numba.__version__"
   ]
  },
  {
   "cell_type": "code",
   "execution_count": 184,
   "id": "64deb16d",
   "metadata": {},
   "outputs": [],
   "source": [
    "import numpy as np\n",
    "import csv\n",
    "\n",
    "import pandas as pd\n",
    "import json\n",
    "from collections import ChainMap\n",
    "from collections import Counter\n",
    "\n",
    "import numba\n",
    "from numba import njit, prange\n",
    "from numba import types\n",
    "from numba.typed import Dict\n",
    "import math\n",
    "\n",
    "from scipy.optimize import LinearConstraint, minimize\n",
    "#from sklearn.model_selection import train_test_split"
   ]
  },
  {
   "cell_type": "code",
   "execution_count": 185,
   "id": "f07c557d",
   "metadata": {},
   "outputs": [],
   "source": [
    "def jsonToDF(data):\n",
    "    sales = []\n",
    "    for sale in data:\n",
    "        tempSale = dict()\n",
    "        tempSale.update(sale)\n",
    "        for fee in ['sellerFee', 'protocolFee', 'royaltyFee']:\n",
    "            if tempSale[fee]:\n",
    "                if 'tokenAddress' in tempSale[fee]:\n",
    "                    tempSale[fee+'Address'] = sale[fee]['tokenAddress']\n",
    "                else:\n",
    "                    tempSale[fee+'Address'] = None\n",
    "                tempSale[fee] = int(sale[fee]['amount'])\n",
    "        sales.append(tempSale)\n",
    "    salesDF = pd.DataFrame(sales)\n",
    "    salesDF[['protocolFee', 'royaltyFee']] = salesDF[['protocolFee', 'royaltyFee']].replace([{}], [0])\n",
    "    salesDF['Fee'] = (salesDF['sellerFee']) + (salesDF['protocolFee']) + (salesDF['royaltyFee'])\n",
    "    return salesDF"
   ]
  },
  {
   "cell_type": "code",
   "execution_count": 206,
   "id": "11e04237",
   "metadata": {},
   "outputs": [],
   "source": [
    "@njit(parallel=True)\n",
    "def getAllCombinationsNP(salesData: np.ndarray, blocksPerOneDay: int = 6000, numberOfDays: int = 7):\n",
    "    length = math.ceil(len(salesData) * (len(salesData) - 1) / 2)\n",
    "    salesDFCombinations = np.zeros((length, 6), dtype=np.float64)\n",
    "    # salesDFCombinations = []\n",
    "    z = 0\n",
    "    for i in range(len(salesData)):\n",
    "        saleI = salesData[i]\n",
    "        for j in range(i + 1, len(salesData)):\n",
    "            saleJ = salesData[j]\n",
    "            # Token ID - Block Number - Fee\n",
    "            if abs(saleI[1] - saleJ[1]) <= blocksPerOneDay * numberOfDays: #assuming blockNumber is at index 1\n",
    "                if saleI[0] != saleJ[0]: #assuming tokenId is at index 0\n",
    "                    salesDFCombinations[z] = np.array([saleI[0], saleJ[0], saleI[1], saleJ[1], saleI[2], saleJ[2]])\n",
    "                    z += 1\n",
    "            else:\n",
    "                break\n",
    "    salesDFCombinations = salesDFCombinations[salesDFCombinations[:, 2] != 0]\n",
    "    return salesDFCombinations"
   ]
  },
  {
   "cell_type": "code",
   "execution_count": 207,
   "id": "5be3e3fa",
   "metadata": {},
   "outputs": [
    {
     "data": {
      "text/plain": [
       "array([[0., 0., 0.],\n",
       "       [0., 0., 0.],\n",
       "       [0., 0., 0.],\n",
       "       [0., 0., 0.],\n",
       "       [0., 0., 0.]])"
      ]
     },
     "execution_count": 207,
     "metadata": {},
     "output_type": "execute_result"
    }
   ],
   "source": [
    "np.zeros((5, 3))"
   ]
  },
  {
   "cell_type": "code",
   "execution_count": 208,
   "id": "f52fdcd3",
   "metadata": {},
   "outputs": [],
   "source": [
    "@njit(parallel=False)\n",
    "def relativeRarityCalculation(pairwiseTransactions, idToScoreDict, lengthScore):\n",
    "    # second new approach\n",
    "    matrixOne = np.zeros((len(pairwiseTransactions), lengthScore))\n",
    "    matrixTwo = np.zeros((len(pairwiseTransactions), lengthScore))\n",
    "\n",
    "    for index in prange(len(pairwiseTransactions)):\n",
    "        matrixOne[index] = idToScoreDict[pairwiseTransactions[index, 0]]\n",
    "        matrixTwo[index] = idToScoreDict[pairwiseTransactions[index, 1]]\n",
    "\n",
    "    relativeRarityVector = np.zeros((len(pairwiseTransactions)))\n",
    "    # relativeRarityVector = np.log(np.divide((1+matrixOne), (1+matrixTwo)))\n",
    "    return np.log(np.divide((1+matrixOne), (1+matrixTwo)))"
   ]
  },
  {
   "cell_type": "code",
   "execution_count": 209,
   "id": "ccfd5165",
   "metadata": {},
   "outputs": [],
   "source": [
    "# psi function in vector form\n",
    "@njit(parallel=True)\n",
    "def relativePrice(priceOneVector, priceTwoVector):\n",
    "    return np.log(np.divide(priceOneVector, priceTwoVector))"
   ]
  },
  {
   "cell_type": "code",
   "execution_count": 210,
   "id": "80174be9",
   "metadata": {},
   "outputs": [],
   "source": [
    "@njit(parallel=True)\n",
    "def vectorNormalization(xVector, weightVector):\n",
    "    weigtedMean = np.average(xVector, weights = weightVector)\n",
    "    return (xVector - weigtedMean)\n",
    "\n",
    "@njit(parallel=False)\n",
    "def matrixNormalization(matrix, weightsVector):\n",
    "    for i in range(len(matrix[0])):\n",
    "        matrix[:, i] = vectorNormalization(matrix[:, i], weightsVector)\n",
    "    return matrix"
   ]
  },
  {
   "cell_type": "code",
   "execution_count": 211,
   "id": "8acb0d09",
   "metadata": {},
   "outputs": [],
   "source": [
    "@njit(parallel=True)\n",
    "def kernelEpanechnikov(pairDeltasVector, blocksPerOneDay=6000, dayLimit=7):\n",
    "    blockNumberLimit = dayLimit * blocksPerOneDay\n",
    "    resultVector = 3 / 4 * (np.power(1 - np.abs(pairDeltasVector) / blockNumberLimit, 2))\n",
    "    return (resultVector)"
   ]
  },
  {
   "cell_type": "code",
   "execution_count": 212,
   "id": "d3f229aa",
   "metadata": {},
   "outputs": [],
   "source": [
    "@njit(parallel=False)\n",
    "def weightedCorrelationCalculation(xVector, yVector, weightsVector):\n",
    "    # Calculate weighted means\n",
    "\n",
    "    wX = np.average(xVector, weights = weightsVector)\n",
    "    wY = np.average(yVector, weights = weightsVector)\n",
    "    \n",
    "    # Calculate numer and denom\n",
    "    num = np.sum(weightsVector * (xVector - wX) * (yVector - wY)) \n",
    "\n",
    "    denomX = np.sqrt(np.sum(weightsVector * np.power((xVector - wX), 2)))\n",
    "    denomY = np.sqrt(np.sum(weightsVector * np.power((yVector - wY), 2)))\n",
    "    denom = denomX * denomY\n",
    "    \n",
    "    # Calculate weighted correlation\n",
    "    wcorr = num / denom\n",
    "    \n",
    "    return wcorr"
   ]
  },
  {
   "cell_type": "code",
   "execution_count": 213,
   "id": "46dcf3f8",
   "metadata": {},
   "outputs": [
    {
     "data": {
      "text/plain": [
       "[array([[1, 0, 0, 0, 0],\n",
       "        [0, 1, 0, 0, 0],\n",
       "        [0, 0, 1, 0, 0],\n",
       "        [0, 0, 0, 1, 0],\n",
       "        [0, 0, 0, 0, 1],\n",
       "        [1, 1, 1, 1, 1]]),\n",
       " array([0, 0, 0, 0, 0, 0])]"
      ]
     },
     "execution_count": 213,
     "metadata": {},
     "output_type": "execute_result"
    }
   ],
   "source": [
    "a = []\n",
    "combinations = np.eye(5, dtype=int)    \n",
    "all_ones = np.ones(5, dtype=int)\n",
    "combinations = np.concatenate((combinations, all_ones[np.newaxis, :]), axis=0)\n",
    "a.append(combinations)\n",
    "a.append(np.full(6, 0))\n",
    "a"
   ]
  },
  {
   "cell_type": "code",
   "execution_count": 214,
   "id": "fb52a822",
   "metadata": {},
   "outputs": [],
   "source": [
    "def generatePermutations(n):\n",
    "    combinations = np.eye(n, dtype=int)    \n",
    "    all_ones = np.ones(n, dtype=int)\n",
    "    combinations = np.concatenate((combinations, all_ones[np.newaxis, :]), axis=0)\n",
    "    return combinations\n"
   ]
  },
  {
   "cell_type": "code",
   "execution_count": 215,
   "id": "04869a11",
   "metadata": {},
   "outputs": [],
   "source": [
    "@njit(parallel=False)\n",
    "def weightedCorrelationCalculation(xVector, yVector, weightsVector):\n",
    "    # Calculate weighted means\n",
    "\n",
    "    wX = np.average(xVector, weights = weightsVector)\n",
    "    wY = np.average(yVector, weights = weightsVector)\n",
    "    \n",
    "    # Calculate numer and denom\n",
    "    num = np.sum(weightsVector * (xVector - wX) * (yVector - wY)) \n",
    "\n",
    "    denomX = np.sqrt(np.sum(weightsVector * np.power((xVector - wX), 2)))\n",
    "    denomY = np.sqrt(np.sum(weightsVector * np.power((yVector - wY), 2)))\n",
    "    denom = denomX * denomY\n",
    "    \n",
    "    # Calculate weighted correlation\n",
    "    wcorr = num / denom\n",
    "    \n",
    "    return wcorr"
   ]
  },
  {
   "cell_type": "code",
   "execution_count": 216,
   "id": "7c3d1f4a",
   "metadata": {},
   "outputs": [],
   "source": [
    "# as I understand this function, objective, is calculating the \n",
    "# weighted correlation for the given coefficients and rarity scores\n",
    "# thus, this is the function we neeed to minimize\n",
    "def objectiveToMinimize(coefficientsVector, rarityMatrix, relativePriceVector, weightVector):\n",
    "  # as for N traits we need only N-1 coefficients,\n",
    "  # we have to append N-th coefficient\n",
    "#     coefficientsVector = np.append(coefficientsVector, 1-np.sum(coefficientsVector))\n",
    "    return -weightedCorrelationCalculation(\n",
    "        np.matmul(rarityMatrix, coefficientsVector), relativePriceVector, weightVector\n",
    "    )"
   ]
  },
  {
   "cell_type": "code",
   "execution_count": 237,
   "id": "ec0a72de",
   "metadata": {},
   "outputs": [],
   "source": [
    "def fitWeights(salesDF, scoresDF): # (salesDF, scoresDF):\n",
    "    #salesDF.drop(salesDF[salesDF['Fee'] == 0].index, inplace=True)\n",
    "    blocksPerOneDay = 6000\n",
    "    numberOfDays = 7\n",
    "    \n",
    "    # create sales numpy matrix\n",
    "    # --> salesDFNumPy\n",
    "    # moved to external function!\n",
    "    \n",
    "    salesDFPrepared = pd.DataFrame()\n",
    "    salesDFPrepared['tokenId'] = salesDF['tokenId'].astype(np.uint64)\n",
    "    salesDFPrepared['blockNumber'] = salesDF['blockNumber'].astype(np.uint64)\n",
    "    salesDFPrepared['Fee'] = salesDF['Fee'].astype(np.float64)\n",
    "    salesDFNumPy = salesDFPrepared.to_numpy()\n",
    "    del salesDFPrepared\n",
    "    del salesDF\n",
    "    \n",
    "    \n",
    "    # create pair transactions matrix\n",
    "    # --> pairwiseTransactions\n",
    "    pairwiseTransactions = getAllCombinationsNP(salesDFNumPy, blocksPerOneDay, numberOfDays)\n",
    "    #pairwiseTransactions = pairwiseTransactions[pairwiseTransactions[:, 0] != 0] # moved to corresponding function\n",
    "    del blocksPerOneDay\n",
    "    del numberOfDays\n",
    "    \n",
    "    # remember the scores and indexes needed to be weighted\n",
    "    # --> scoresToWeightIndex, tokenIdIndex\n",
    "    scoresToWeight = scoresDF.columns.drop(['Token Id','Rarity score'])\n",
    "    scoresToWeightIndex = scoresDF.columns.get_indexer(scoresToWeight)\n",
    "    tokenIdIndex = scoresDF.columns.get_indexer(['Token Id'])\n",
    "    \n",
    "    # create dictionary to store (id : score vector)\n",
    "    # --> idToScoreDictNumba\n",
    "    traitsScoresNP = scoresDF.to_numpy(dtype=np.float64)\n",
    "    traitsScoresNPRequired = traitsScoresNP[:, scoresToWeightIndex]\n",
    "    traitsIdNP = traitsScoresNP[:, tokenIdIndex]\n",
    "    del traitsScoresNP\n",
    "    \n",
    "    idToScoreDict = {traitsIdNP[i][0]: traitsScoresNPRequired[i] for i in range(len(traitsIdNP))}\n",
    "    del traitsIdNP\n",
    "    del traitsScoresNPRequired\n",
    "    \n",
    "    idToScoreDictNumba = Dict.empty(\n",
    "        key_type=types.float64,\n",
    "        value_type=types.float64[:],\n",
    "    )\n",
    "    for key in idToScoreDict:\n",
    "        idToScoreDictNumba[key] = idToScoreDict[key]\n",
    "    del idToScoreDict\n",
    "    \n",
    "    # calculate relative rarity matrix\n",
    "    # --> relativeRarityMatrix\n",
    "    relativeRarityMatrix = relativeRarityCalculation(pairwiseTransactions, \n",
    "                                                     idToScoreDictNumba, \n",
    "                                                     len(scoresToWeight))\n",
    "    del idToScoreDictNumba\n",
    "    \n",
    "    # calculate relative price\n",
    "    # --> relativePriceVector\n",
    "    relativePriceVector = relativePrice(pairwiseTransactions[:, 4], pairwiseTransactions[:, 5])\n",
    "\n",
    "    \n",
    "    # calculate weights vector\n",
    "    # --> weightsVector\n",
    "    weightsVector = kernelEpanechnikov(pairwiseTransactions[:, 2] - pairwiseTransactions[:, 3])\n",
    "    \n",
    "    del pairwiseTransactions\n",
    "    \n",
    "    # define linear constraints\n",
    "    # --> linearConstraints\n",
    "    numberOfFreeCoefficients = len(relativeRarityMatrix[0])\n",
    "    linearConstraints = list()\n",
    "    linearConstraints.append(generatePermutations(numberOfFreeCoefficients))\n",
    "    linearConstraints.append(np.full(numberOfFreeCoefficients+1, 0))\n",
    "    linearConstraints.append(np.full(numberOfFreeCoefficients+1, 1))\n",
    "    linearConstraints = LinearConstraint(linearConstraints[0], linearConstraints[1], linearConstraints[2])\n",
    "    \n",
    "    # define starting coefficients \n",
    "    # --> coefficientsStart\n",
    "    coefficientsStart = np.full(numberOfFreeCoefficients, 1/len(relativeRarityMatrix[0]))\n",
    "    del numberOfFreeCoefficients\n",
    "    print('starting minimization')\n",
    "    \n",
    "    # running optimization \n",
    "    # --> minimizationResults\n",
    "    minimizationResults = minimize(\n",
    "        objectiveToMinimize, x0=coefficientsStart,\n",
    "        args=(relativeRarityMatrix, relativePriceVector, weightsVector),\n",
    "        constraints=linearConstraints, options={'disp': True},\n",
    "    )\n",
    "    return minimizationResults"
   ]
  },
  {
   "cell_type": "markdown",
   "id": "6ea2ee44",
   "metadata": {},
   "source": [
    "1. why functions of relative sth look like this? e.g. ln(x / y) or ln((x + 1) / (y + 1))\n",
    "2. why linear constraints look like this? e.g. A = concat(eye, ones)  "
   ]
  },
  {
   "cell_type": "code",
   "execution_count": 238,
   "id": "e3a4af25",
   "metadata": {},
   "outputs": [],
   "source": [
    "def jsonToDF(data):\n",
    "    sales = []\n",
    "    for sale in data:\n",
    "        tempSale = dict()\n",
    "        tempSale.update(sale)\n",
    "        for fee in ['sellerFee', 'protocolFee', 'royaltyFee']:\n",
    "            if tempSale[fee]:\n",
    "                if 'tokenAddress' in tempSale[fee]:\n",
    "                    tempSale[fee+'Address'] = sale[fee]['tokenAddress']\n",
    "                else:\n",
    "                    tempSale[fee+'Address'] = None\n",
    "                tempSale[fee] = int(sale[fee]['amount'])\n",
    "        sales.append(tempSale)\n",
    "    salesDF = pd.DataFrame(sales)\n",
    "    salesDF[['protocolFee', 'royaltyFee']] = salesDF[['protocolFee', 'royaltyFee']].replace([{}], [0])\n",
    "    salesDF['Fee'] = (salesDF['sellerFee']) + (salesDF['protocolFee']) + (salesDF['royaltyFee'])\n",
    "    return salesDF"
   ]
  },
  {
   "cell_type": "code",
   "execution_count": 239,
   "id": "f2663922",
   "metadata": {},
   "outputs": [],
   "source": [
    "def prepareSalesDF(salesDF):\n",
    "    salesDF.drop(salesDF[salesDF['Fee'] == 0].index, inplace=True)\n",
    "    salesDFPrepared = pd.DataFrame()\n",
    "    salesDFPrepared['tokenId'] = salesDF['tokenId'].astype(np.uint64)\n",
    "    salesDFPrepared['blockNumber'] = salesDF['blockNumber'].astype(np.uint64)\n",
    "    salesDFPrepared['Fee'] = salesDF['Fee'].astype(np.float64)\n",
    "    salesDFNumPy = salesDFPrepared.to_numpy()\n",
    "    del salesDFPrepared\n",
    "    return salesDFNumPy"
   ]
  },
  {
   "cell_type": "code",
   "execution_count": 240,
   "id": "e62e3ddb",
   "metadata": {},
   "outputs": [],
   "source": [
    "tradedataPath = '../dataset/tradedata'\n",
    "with open(tradedataPath + '/' + 'ABS.json', \"r\") as file:\n",
    "    salesDF = jsonToDF(json.load(file))"
   ]
  },
  {
   "cell_type": "code",
   "execution_count": 241,
   "id": "12b223a8",
   "metadata": {},
   "outputs": [
    {
     "data": {
      "text/plain": [
       "45121"
      ]
     },
     "execution_count": 241,
     "metadata": {},
     "output_type": "execute_result"
    }
   ],
   "source": [
    "len(salesDF)"
   ]
  },
  {
   "cell_type": "code",
   "execution_count": 242,
   "id": "2245063d",
   "metadata": {},
   "outputs": [
    {
     "data": {
      "text/html": [
       "<div>\n",
       "<style scoped>\n",
       "    .dataframe tbody tr th:only-of-type {\n",
       "        vertical-align: middle;\n",
       "    }\n",
       "\n",
       "    .dataframe tbody tr th {\n",
       "        vertical-align: top;\n",
       "    }\n",
       "\n",
       "    .dataframe thead th {\n",
       "        text-align: right;\n",
       "    }\n",
       "</style>\n",
       "<table border=\"1\" class=\"dataframe\">\n",
       "  <thead>\n",
       "    <tr style=\"text-align: right;\">\n",
       "      <th></th>\n",
       "      <th>marketplace</th>\n",
       "      <th>marketplaceAddress</th>\n",
       "      <th>contractAddress</th>\n",
       "      <th>tokenId</th>\n",
       "      <th>quantity</th>\n",
       "      <th>buyerAddress</th>\n",
       "      <th>sellerAddress</th>\n",
       "      <th>taker</th>\n",
       "      <th>sellerFee</th>\n",
       "      <th>protocolFee</th>\n",
       "      <th>royaltyFee</th>\n",
       "      <th>blockNumber</th>\n",
       "      <th>logIndex</th>\n",
       "      <th>bundleIndex</th>\n",
       "      <th>transactionHash</th>\n",
       "      <th>sellerFeeAddress</th>\n",
       "      <th>protocolFeeAddress</th>\n",
       "      <th>royaltyFeeAddress</th>\n",
       "      <th>Fee</th>\n",
       "    </tr>\n",
       "  </thead>\n",
       "  <tbody>\n",
       "    <tr>\n",
       "      <th>0</th>\n",
       "      <td>wyvern</td>\n",
       "      <td>0x7be8076f4ea4a4ad08075c2508e481d6c946d12b</td>\n",
       "      <td>0x7ab2352b1d2e185560494d5e577f9d3c238b78c5</td>\n",
       "      <td>10166</td>\n",
       "      <td>1</td>\n",
       "      <td>0xb876e9e9d89998a483dc9fbf83a12ecab172ac9f</td>\n",
       "      <td>0xa02113a2ed51e82b05649709fbbd4232dc11244c</td>\n",
       "      <td>BUYER</td>\n",
       "      <td>195000000000000000</td>\n",
       "      <td>5000000000000000</td>\n",
       "      <td>0</td>\n",
       "      <td>13108560</td>\n",
       "      <td>191</td>\n",
       "      <td>0</td>\n",
       "      <td>0x5039c01a89243d9ff1a8864efcb182ed1923a84e7e6a...</td>\n",
       "      <td>0x0000000000000000000000000000000000000000</td>\n",
       "      <td>0x0000000000000000000000000000000000000000</td>\n",
       "      <td>NaN</td>\n",
       "      <td>200000000000000000</td>\n",
       "    </tr>\n",
       "    <tr>\n",
       "      <th>1</th>\n",
       "      <td>wyvern</td>\n",
       "      <td>0x7be8076f4ea4a4ad08075c2508e481d6c946d12b</td>\n",
       "      <td>0x7ab2352b1d2e185560494d5e577f9d3c238b78c5</td>\n",
       "      <td>4040</td>\n",
       "      <td>1</td>\n",
       "      <td>0xa3787b27a7ec766fec381fb1c808f8d788431e40</td>\n",
       "      <td>0x7fb8f9e35b312a3828f1c24f1d2008e6cdf7bf96</td>\n",
       "      <td>BUYER</td>\n",
       "      <td>195000000000000000</td>\n",
       "      <td>5000000000000000</td>\n",
       "      <td>0</td>\n",
       "      <td>13108564</td>\n",
       "      <td>50</td>\n",
       "      <td>0</td>\n",
       "      <td>0x2d1907fbe7e756043759ab995405c4669d781275c882...</td>\n",
       "      <td>0x0000000000000000000000000000000000000000</td>\n",
       "      <td>0x0000000000000000000000000000000000000000</td>\n",
       "      <td>NaN</td>\n",
       "      <td>200000000000000000</td>\n",
       "    </tr>\n",
       "    <tr>\n",
       "      <th>2</th>\n",
       "      <td>wyvern</td>\n",
       "      <td>0x7be8076f4ea4a4ad08075c2508e481d6c946d12b</td>\n",
       "      <td>0x7ab2352b1d2e185560494d5e577f9d3c238b78c5</td>\n",
       "      <td>7352</td>\n",
       "      <td>1</td>\n",
       "      <td>0xb876e9e9d89998a483dc9fbf83a12ecab172ac9f</td>\n",
       "      <td>0xcb72ec4af6726daf5ccda709d8a3478c1a95bb5c</td>\n",
       "      <td>BUYER</td>\n",
       "      <td>195000000000000000</td>\n",
       "      <td>5000000000000000</td>\n",
       "      <td>0</td>\n",
       "      <td>13108567</td>\n",
       "      <td>138</td>\n",
       "      <td>0</td>\n",
       "      <td>0x2efa31cfb1d93fa85eaa852255ea908c11221c9bc966...</td>\n",
       "      <td>0x0000000000000000000000000000000000000000</td>\n",
       "      <td>0x0000000000000000000000000000000000000000</td>\n",
       "      <td>NaN</td>\n",
       "      <td>200000000000000000</td>\n",
       "    </tr>\n",
       "    <tr>\n",
       "      <th>3</th>\n",
       "      <td>wyvern</td>\n",
       "      <td>0x7be8076f4ea4a4ad08075c2508e481d6c946d12b</td>\n",
       "      <td>0x7ab2352b1d2e185560494d5e577f9d3c238b78c5</td>\n",
       "      <td>4038</td>\n",
       "      <td>1</td>\n",
       "      <td>0xb876e9e9d89998a483dc9fbf83a12ecab172ac9f</td>\n",
       "      <td>0x7fb8f9e35b312a3828f1c24f1d2008e6cdf7bf96</td>\n",
       "      <td>BUYER</td>\n",
       "      <td>204750000000000000</td>\n",
       "      <td>5250000000000000</td>\n",
       "      <td>0</td>\n",
       "      <td>13108572</td>\n",
       "      <td>105</td>\n",
       "      <td>0</td>\n",
       "      <td>0x40e003639e244f6bc8ae1355a1ce9b2a0ebcf2ced9ee...</td>\n",
       "      <td>0x0000000000000000000000000000000000000000</td>\n",
       "      <td>0x0000000000000000000000000000000000000000</td>\n",
       "      <td>NaN</td>\n",
       "      <td>210000000000000000</td>\n",
       "    </tr>\n",
       "    <tr>\n",
       "      <th>4</th>\n",
       "      <td>wyvern</td>\n",
       "      <td>0x7be8076f4ea4a4ad08075c2508e481d6c946d12b</td>\n",
       "      <td>0x7ab2352b1d2e185560494d5e577f9d3c238b78c5</td>\n",
       "      <td>3741</td>\n",
       "      <td>1</td>\n",
       "      <td>0xb876e9e9d89998a483dc9fbf83a12ecab172ac9f</td>\n",
       "      <td>0x7fb8f9e35b312a3828f1c24f1d2008e6cdf7bf96</td>\n",
       "      <td>BUYER</td>\n",
       "      <td>204750000000000000</td>\n",
       "      <td>5250000000000000</td>\n",
       "      <td>0</td>\n",
       "      <td>13108577</td>\n",
       "      <td>83</td>\n",
       "      <td>0</td>\n",
       "      <td>0x222182b481926bf87c04a3eb1e6f4c3294f226b70efa...</td>\n",
       "      <td>0x0000000000000000000000000000000000000000</td>\n",
       "      <td>0x0000000000000000000000000000000000000000</td>\n",
       "      <td>NaN</td>\n",
       "      <td>210000000000000000</td>\n",
       "    </tr>\n",
       "  </tbody>\n",
       "</table>\n",
       "</div>"
      ],
      "text/plain": [
       "  marketplace                          marketplaceAddress  \\\n",
       "0      wyvern  0x7be8076f4ea4a4ad08075c2508e481d6c946d12b   \n",
       "1      wyvern  0x7be8076f4ea4a4ad08075c2508e481d6c946d12b   \n",
       "2      wyvern  0x7be8076f4ea4a4ad08075c2508e481d6c946d12b   \n",
       "3      wyvern  0x7be8076f4ea4a4ad08075c2508e481d6c946d12b   \n",
       "4      wyvern  0x7be8076f4ea4a4ad08075c2508e481d6c946d12b   \n",
       "\n",
       "                              contractAddress tokenId quantity  \\\n",
       "0  0x7ab2352b1d2e185560494d5e577f9d3c238b78c5   10166        1   \n",
       "1  0x7ab2352b1d2e185560494d5e577f9d3c238b78c5    4040        1   \n",
       "2  0x7ab2352b1d2e185560494d5e577f9d3c238b78c5    7352        1   \n",
       "3  0x7ab2352b1d2e185560494d5e577f9d3c238b78c5    4038        1   \n",
       "4  0x7ab2352b1d2e185560494d5e577f9d3c238b78c5    3741        1   \n",
       "\n",
       "                                 buyerAddress  \\\n",
       "0  0xb876e9e9d89998a483dc9fbf83a12ecab172ac9f   \n",
       "1  0xa3787b27a7ec766fec381fb1c808f8d788431e40   \n",
       "2  0xb876e9e9d89998a483dc9fbf83a12ecab172ac9f   \n",
       "3  0xb876e9e9d89998a483dc9fbf83a12ecab172ac9f   \n",
       "4  0xb876e9e9d89998a483dc9fbf83a12ecab172ac9f   \n",
       "\n",
       "                                sellerAddress  taker           sellerFee  \\\n",
       "0  0xa02113a2ed51e82b05649709fbbd4232dc11244c  BUYER  195000000000000000   \n",
       "1  0x7fb8f9e35b312a3828f1c24f1d2008e6cdf7bf96  BUYER  195000000000000000   \n",
       "2  0xcb72ec4af6726daf5ccda709d8a3478c1a95bb5c  BUYER  195000000000000000   \n",
       "3  0x7fb8f9e35b312a3828f1c24f1d2008e6cdf7bf96  BUYER  204750000000000000   \n",
       "4  0x7fb8f9e35b312a3828f1c24f1d2008e6cdf7bf96  BUYER  204750000000000000   \n",
       "\n",
       "        protocolFee  royaltyFee  blockNumber  logIndex  bundleIndex  \\\n",
       "0  5000000000000000           0     13108560       191            0   \n",
       "1  5000000000000000           0     13108564        50            0   \n",
       "2  5000000000000000           0     13108567       138            0   \n",
       "3  5250000000000000           0     13108572       105            0   \n",
       "4  5250000000000000           0     13108577        83            0   \n",
       "\n",
       "                                     transactionHash  \\\n",
       "0  0x5039c01a89243d9ff1a8864efcb182ed1923a84e7e6a...   \n",
       "1  0x2d1907fbe7e756043759ab995405c4669d781275c882...   \n",
       "2  0x2efa31cfb1d93fa85eaa852255ea908c11221c9bc966...   \n",
       "3  0x40e003639e244f6bc8ae1355a1ce9b2a0ebcf2ced9ee...   \n",
       "4  0x222182b481926bf87c04a3eb1e6f4c3294f226b70efa...   \n",
       "\n",
       "                             sellerFeeAddress  \\\n",
       "0  0x0000000000000000000000000000000000000000   \n",
       "1  0x0000000000000000000000000000000000000000   \n",
       "2  0x0000000000000000000000000000000000000000   \n",
       "3  0x0000000000000000000000000000000000000000   \n",
       "4  0x0000000000000000000000000000000000000000   \n",
       "\n",
       "                           protocolFeeAddress royaltyFeeAddress  \\\n",
       "0  0x0000000000000000000000000000000000000000               NaN   \n",
       "1  0x0000000000000000000000000000000000000000               NaN   \n",
       "2  0x0000000000000000000000000000000000000000               NaN   \n",
       "3  0x0000000000000000000000000000000000000000               NaN   \n",
       "4  0x0000000000000000000000000000000000000000               NaN   \n",
       "\n",
       "                  Fee  \n",
       "0  200000000000000000  \n",
       "1  200000000000000000  \n",
       "2  200000000000000000  \n",
       "3  210000000000000000  \n",
       "4  210000000000000000  "
      ]
     },
     "execution_count": 242,
     "metadata": {},
     "output_type": "execute_result"
    }
   ],
   "source": [
    "salesDF.head()"
   ]
  },
  {
   "cell_type": "code",
   "execution_count": 243,
   "id": "474f474a",
   "metadata": {},
   "outputs": [
    {
     "name": "stderr",
     "output_type": "stream",
     "text": [
      "/var/folders/tv/9n19nz5j7cq_q4j3vm06dp9w0000gn/T/ipykernel_47846/2737411493.py:2: SettingWithCopyWarning: \n",
      "A value is trying to be set on a copy of a slice from a DataFrame\n",
      "\n",
      "See the caveats in the documentation: https://pandas.pydata.org/pandas-docs/stable/user_guide/indexing.html#returning-a-view-versus-a-copy\n",
      "  salesDF.drop(salesDF[salesDF['Fee'] == 0].index, inplace=True)\n"
     ]
    }
   ],
   "source": [
    "salesDFNumPy = prepareSalesDF(salesDF[:5000])"
   ]
  },
  {
   "cell_type": "code",
   "execution_count": 244,
   "id": "e7af52d9",
   "metadata": {
    "scrolled": true
   },
   "outputs": [
    {
     "data": {
      "text/plain": [
       "4994"
      ]
     },
     "execution_count": 244,
     "metadata": {},
     "output_type": "execute_result"
    }
   ],
   "source": [
    "len(salesDFNumPy)"
   ]
  },
  {
   "cell_type": "code",
   "execution_count": 245,
   "id": "6db293fd",
   "metadata": {},
   "outputs": [
    {
     "data": {
      "text/plain": [
       "12467405"
      ]
     },
     "execution_count": 245,
     "metadata": {},
     "output_type": "execute_result"
    }
   ],
   "source": [
    "pairwiseTransactions = getAllCombinationsNP(salesDFNumPy)\n",
    "len(pairwiseTransactions)"
   ]
  },
  {
   "cell_type": "code",
   "execution_count": 246,
   "id": "ff8e5f6b",
   "metadata": {},
   "outputs": [],
   "source": [
    "del salesDFNumPy"
   ]
  },
  {
   "cell_type": "code",
   "execution_count": 247,
   "id": "df8d0b7f",
   "metadata": {},
   "outputs": [
    {
     "data": {
      "text/plain": [
       "array([[1.0166000e+04, 4.0400000e+03, 1.3108560e+07, 1.3108564e+07,\n",
       "        2.0000000e+17, 2.0000000e+17],\n",
       "       [1.0166000e+04, 7.3520000e+03, 1.3108560e+07, 1.3108567e+07,\n",
       "        2.0000000e+17, 2.0000000e+17],\n",
       "       [1.0166000e+04, 4.0380000e+03, 1.3108560e+07, 1.3108572e+07,\n",
       "        2.0000000e+17, 2.1000000e+17],\n",
       "       [1.0166000e+04, 3.7410000e+03, 1.3108560e+07, 1.3108577e+07,\n",
       "        2.0000000e+17, 2.1000000e+17],\n",
       "       [1.0166000e+04, 4.0360000e+03, 1.3108560e+07, 1.3108584e+07,\n",
       "        2.0000000e+17, 1.9500000e+17]])"
      ]
     },
     "execution_count": 247,
     "metadata": {},
     "output_type": "execute_result"
    }
   ],
   "source": [
    "pairwiseTransactions[:5]"
   ]
  },
  {
   "cell_type": "code",
   "execution_count": 248,
   "id": "85e745a6",
   "metadata": {},
   "outputs": [],
   "source": [
    "openRarityScoresPath = '../results/openrarity_scores'\n",
    "with open(openRarityScoresPath + '/' + 'ABS_openrarity_scores.csv', \"r\") as file:\n",
    "    scoresDF = pd.read_csv(file, index_col=0)"
   ]
  },
  {
   "cell_type": "code",
   "execution_count": 249,
   "id": "b3d50168",
   "metadata": {},
   "outputs": [
    {
     "data": {
      "text/html": [
       "<div>\n",
       "<style scoped>\n",
       "    .dataframe tbody tr th:only-of-type {\n",
       "        vertical-align: middle;\n",
       "    }\n",
       "\n",
       "    .dataframe tbody tr th {\n",
       "        vertical-align: top;\n",
       "    }\n",
       "\n",
       "    .dataframe thead th {\n",
       "        text-align: right;\n",
       "    }\n",
       "</style>\n",
       "<table border=\"1\" class=\"dataframe\">\n",
       "  <thead>\n",
       "    <tr style=\"text-align: right;\">\n",
       "      <th></th>\n",
       "      <th>Broken Background information value</th>\n",
       "      <th>Double Trouble information value</th>\n",
       "      <th>Error Terror information value</th>\n",
       "      <th>Background Branded information value</th>\n",
       "      <th>Background Colorway information value</th>\n",
       "      <th>Background Name information value</th>\n",
       "      <th>Branded information value</th>\n",
       "      <th>Spark information value</th>\n",
       "      <th>Year information value</th>\n",
       "      <th>Distribution information value</th>\n",
       "      <th>...</th>\n",
       "      <th>Tooth Color information value</th>\n",
       "      <th>Eye Ring Color information value</th>\n",
       "      <th>Bandana Color information value</th>\n",
       "      <th>Theme information value</th>\n",
       "      <th>Earring Color information value</th>\n",
       "      <th>Lips Color information value</th>\n",
       "      <th>Trait count information value</th>\n",
       "      <th>Unique Trait count</th>\n",
       "      <th>Token Id</th>\n",
       "      <th>Rarity score</th>\n",
       "    </tr>\n",
       "  </thead>\n",
       "  <tbody>\n",
       "    <tr>\n",
       "      <th>0</th>\n",
       "      <td>0.015491</td>\n",
       "      <td>0.005261</td>\n",
       "      <td>0.000981</td>\n",
       "      <td>0.034574</td>\n",
       "      <td>7.009728</td>\n",
       "      <td>3.104821</td>\n",
       "      <td>0.069149</td>\n",
       "      <td>0.416654</td>\n",
       "      <td>7.923140</td>\n",
       "      <td>2.678903</td>\n",
       "      <td>...</td>\n",
       "      <td>0.014849</td>\n",
       "      <td>0.014849</td>\n",
       "      <td>0.014849</td>\n",
       "      <td>0.369744</td>\n",
       "      <td>0.020809</td>\n",
       "      <td>0.020809</td>\n",
       "      <td>1.835677</td>\n",
       "      <td>0</td>\n",
       "      <td>0</td>\n",
       "      <td>0.474210</td>\n",
       "    </tr>\n",
       "    <tr>\n",
       "      <th>1</th>\n",
       "      <td>0.015491</td>\n",
       "      <td>0.005261</td>\n",
       "      <td>0.000981</td>\n",
       "      <td>0.034574</td>\n",
       "      <td>7.324238</td>\n",
       "      <td>2.649639</td>\n",
       "      <td>0.069149</td>\n",
       "      <td>0.416654</td>\n",
       "      <td>4.816850</td>\n",
       "      <td>1.015433</td>\n",
       "      <td>...</td>\n",
       "      <td>0.014849</td>\n",
       "      <td>0.014849</td>\n",
       "      <td>0.014849</td>\n",
       "      <td>0.369744</td>\n",
       "      <td>0.020809</td>\n",
       "      <td>0.020809</td>\n",
       "      <td>2.409661</td>\n",
       "      <td>0</td>\n",
       "      <td>1</td>\n",
       "      <td>0.496527</td>\n",
       "    </tr>\n",
       "    <tr>\n",
       "      <th>2</th>\n",
       "      <td>0.015491</td>\n",
       "      <td>0.005261</td>\n",
       "      <td>0.000981</td>\n",
       "      <td>0.034574</td>\n",
       "      <td>6.655444</td>\n",
       "      <td>1.579836</td>\n",
       "      <td>0.069149</td>\n",
       "      <td>0.416654</td>\n",
       "      <td>4.272019</td>\n",
       "      <td>2.339053</td>\n",
       "      <td>...</td>\n",
       "      <td>0.014849</td>\n",
       "      <td>0.014849</td>\n",
       "      <td>0.014849</td>\n",
       "      <td>0.369744</td>\n",
       "      <td>0.020809</td>\n",
       "      <td>0.020809</td>\n",
       "      <td>1.835677</td>\n",
       "      <td>0</td>\n",
       "      <td>2</td>\n",
       "      <td>0.426637</td>\n",
       "    </tr>\n",
       "    <tr>\n",
       "      <th>3</th>\n",
       "      <td>0.015491</td>\n",
       "      <td>0.005261</td>\n",
       "      <td>0.000981</td>\n",
       "      <td>0.034574</td>\n",
       "      <td>6.632361</td>\n",
       "      <td>1.579836</td>\n",
       "      <td>0.069149</td>\n",
       "      <td>0.416654</td>\n",
       "      <td>3.824188</td>\n",
       "      <td>2.678903</td>\n",
       "      <td>...</td>\n",
       "      <td>0.014849</td>\n",
       "      <td>0.014849</td>\n",
       "      <td>0.014849</td>\n",
       "      <td>0.369744</td>\n",
       "      <td>0.020809</td>\n",
       "      <td>0.020809</td>\n",
       "      <td>1.371833</td>\n",
       "      <td>0</td>\n",
       "      <td>3</td>\n",
       "      <td>0.428106</td>\n",
       "    </tr>\n",
       "    <tr>\n",
       "      <th>4</th>\n",
       "      <td>0.015491</td>\n",
       "      <td>0.005261</td>\n",
       "      <td>0.000981</td>\n",
       "      <td>0.034574</td>\n",
       "      <td>6.708774</td>\n",
       "      <td>1.579836</td>\n",
       "      <td>0.069149</td>\n",
       "      <td>0.416654</td>\n",
       "      <td>2.776750</td>\n",
       "      <td>2.339053</td>\n",
       "      <td>...</td>\n",
       "      <td>0.014849</td>\n",
       "      <td>0.014849</td>\n",
       "      <td>0.014849</td>\n",
       "      <td>0.369744</td>\n",
       "      <td>0.020809</td>\n",
       "      <td>0.020809</td>\n",
       "      <td>3.616702</td>\n",
       "      <td>0</td>\n",
       "      <td>4</td>\n",
       "      <td>0.748715</td>\n",
       "    </tr>\n",
       "  </tbody>\n",
       "</table>\n",
       "<p>5 rows × 29 columns</p>\n",
       "</div>"
      ],
      "text/plain": [
       "   Broken Background information value  Double Trouble information value  \\\n",
       "0                             0.015491                          0.005261   \n",
       "1                             0.015491                          0.005261   \n",
       "2                             0.015491                          0.005261   \n",
       "3                             0.015491                          0.005261   \n",
       "4                             0.015491                          0.005261   \n",
       "\n",
       "   Error Terror information value  Background Branded information value  \\\n",
       "0                        0.000981                              0.034574   \n",
       "1                        0.000981                              0.034574   \n",
       "2                        0.000981                              0.034574   \n",
       "3                        0.000981                              0.034574   \n",
       "4                        0.000981                              0.034574   \n",
       "\n",
       "   Background Colorway information value  Background Name information value  \\\n",
       "0                               7.009728                           3.104821   \n",
       "1                               7.324238                           2.649639   \n",
       "2                               6.655444                           1.579836   \n",
       "3                               6.632361                           1.579836   \n",
       "4                               6.708774                           1.579836   \n",
       "\n",
       "   Branded information value  Spark information value  Year information value  \\\n",
       "0                   0.069149                 0.416654                7.923140   \n",
       "1                   0.069149                 0.416654                4.816850   \n",
       "2                   0.069149                 0.416654                4.272019   \n",
       "3                   0.069149                 0.416654                3.824188   \n",
       "4                   0.069149                 0.416654                2.776750   \n",
       "\n",
       "   Distribution information value  ...  Tooth Color information value  \\\n",
       "0                        2.678903  ...                       0.014849   \n",
       "1                        1.015433  ...                       0.014849   \n",
       "2                        2.339053  ...                       0.014849   \n",
       "3                        2.678903  ...                       0.014849   \n",
       "4                        2.339053  ...                       0.014849   \n",
       "\n",
       "   Eye Ring Color information value  Bandana Color information value  \\\n",
       "0                          0.014849                         0.014849   \n",
       "1                          0.014849                         0.014849   \n",
       "2                          0.014849                         0.014849   \n",
       "3                          0.014849                         0.014849   \n",
       "4                          0.014849                         0.014849   \n",
       "\n",
       "   Theme information value  Earring Color information value  \\\n",
       "0                 0.369744                         0.020809   \n",
       "1                 0.369744                         0.020809   \n",
       "2                 0.369744                         0.020809   \n",
       "3                 0.369744                         0.020809   \n",
       "4                 0.369744                         0.020809   \n",
       "\n",
       "   Lips Color information value  Trait count information value  \\\n",
       "0                      0.020809                       1.835677   \n",
       "1                      0.020809                       2.409661   \n",
       "2                      0.020809                       1.835677   \n",
       "3                      0.020809                       1.371833   \n",
       "4                      0.020809                       3.616702   \n",
       "\n",
       "   Unique Trait count  Token Id  Rarity score  \n",
       "0                   0         0      0.474210  \n",
       "1                   0         1      0.496527  \n",
       "2                   0         2      0.426637  \n",
       "3                   0         3      0.428106  \n",
       "4                   0         4      0.748715  \n",
       "\n",
       "[5 rows x 29 columns]"
      ]
     },
     "execution_count": 249,
     "metadata": {},
     "output_type": "execute_result"
    }
   ],
   "source": [
    "scoresDF.head()"
   ]
  },
  {
   "cell_type": "code",
   "execution_count": 250,
   "id": "ba6d710c",
   "metadata": {},
   "outputs": [
    {
     "data": {
      "text/plain": [
       "array([27])"
      ]
     },
     "execution_count": 250,
     "metadata": {},
     "output_type": "execute_result"
    }
   ],
   "source": [
    "scoresToWeight = scoresDF.columns.drop(['Token Id', 'Rarity score'])\n",
    "scoresToWeightIndex = scoresDF.columns.get_indexer(scoresToWeight)\n",
    "tokenIdIndex = scoresDF.columns.get_indexer(['Token Id'])\n",
    "tokenIdIndex"
   ]
  },
  {
   "cell_type": "code",
   "execution_count": 251,
   "id": "45b3647b",
   "metadata": {},
   "outputs": [
    {
     "name": "stdout",
     "output_type": "stream",
     "text": [
      "[[1.54908522e-02 5.26099077e-03 9.81366330e-04 3.45740099e-02\n",
      "  7.00972763e+00 3.10482149e+00 6.91491434e-02 4.16654223e-01\n",
      "  7.92313995e+00 2.67890314e+00 4.30471880e+00 7.92313995e+00\n",
      "  7.57306042e-01 6.22909576e-01 3.18110010e-01 5.64911988e-02\n",
      "  1.04387155e-01 1.04387155e-01 1.42990415e-01 1.48493563e-02\n",
      "  1.48493563e-02 1.48493563e-02 3.69743652e-01 2.08087417e-02\n",
      "  2.08087417e-02 1.83567711e+00 0.00000000e+00 0.00000000e+00\n",
      "  4.74209761e-01]\n",
      " [1.54908522e-02 5.26099077e-03 9.81366330e-04 3.45740099e-02\n",
      "  7.32423826e+00 2.64963854e+00 6.91491434e-02 4.16654223e-01\n",
      "  4.81685018e+00 1.01543252e+00 8.60294768e-01 6.90228134e+00\n",
      "  4.08314124e+00 7.88172002e+00 3.18110010e-01 5.64911988e-02\n",
      "  1.04387155e-01 1.04387155e-01 1.42990415e-01 1.48493563e-02\n",
      "  1.48493563e-02 1.48493563e-02 3.69743652e-01 2.08087417e-02\n",
      "  2.08087417e-02 2.40966147e+00 0.00000000e+00 1.00000000e+00\n",
      "  4.96526815e-01]\n",
      " [1.54908522e-02 5.26099077e-03 9.81366330e-04 3.45740099e-02\n",
      "  6.65544416e+00 1.57983563e+00 6.91491434e-02 4.16654223e-01\n",
      "  4.27201857e+00 2.33905313e+00 3.27201857e+00 4.27313391e+00\n",
      "  7.57306042e-01 6.22909576e-01 7.07048166e+00 5.64911988e-02\n",
      "  1.04387155e-01 1.04387155e-01 1.42990415e-01 1.48493563e-02\n",
      "  1.48493563e-02 1.48493563e-02 3.69743652e-01 2.08087417e-02\n",
      "  2.08087417e-02 1.83567711e+00 0.00000000e+00 2.00000000e+00\n",
      "  4.26637298e-01]\n",
      " [1.54908522e-02 5.26099077e-03 9.81366330e-04 3.45740099e-02\n",
      "  6.63236055e+00 1.57983563e+00 6.91491434e-02 4.16654223e-01\n",
      "  3.82418801e+00 2.67890314e+00 8.60294768e-01 8.32423826e+00\n",
      "  7.57306042e-01 6.22909576e-01 3.18110010e-01 5.88172002e+00\n",
      "  1.04387155e-01 1.04387155e-01 1.42990415e-01 1.48493563e-02\n",
      "  1.48493563e-02 1.48493563e-02 3.69743652e-01 2.08087417e-02\n",
      "  2.08087417e-02 1.37183300e+00 0.00000000e+00 3.00000000e+00\n",
      "  4.28105930e-01]\n",
      " [1.54908522e-02 5.26099077e-03 9.81366330e-04 3.45740099e-02\n",
      "  6.70877367e+00 1.57983563e+00 6.91491434e-02 4.16654223e-01\n",
      "  2.77675046e+00 2.33905313e+00 3.40935487e+00 3.84145615e+00\n",
      "  7.57306042e-01 6.22909576e-01 7.11778738e+00 5.64911988e-02\n",
      "  8.85475297e+00 8.65544416e+00 8.48035746e+00 1.48493563e-02\n",
      "  1.48493563e-02 1.48493563e-02 3.69743652e-01 2.08087417e-02\n",
      "  2.08087417e-02 3.61670214e+00 0.00000000e+00 4.00000000e+00\n",
      "  7.48714714e-01]]\n"
     ]
    },
    {
     "data": {
      "text/plain": [
       "array([[1.54908522e-02, 5.26099077e-03, 9.81366330e-04, 3.45740099e-02,\n",
       "        7.00972763e+00, 3.10482149e+00, 6.91491434e-02, 4.16654223e-01,\n",
       "        7.92313995e+00, 2.67890314e+00, 4.30471880e+00, 7.92313995e+00,\n",
       "        7.57306042e-01, 6.22909576e-01, 3.18110010e-01, 5.64911988e-02,\n",
       "        1.04387155e-01, 1.04387155e-01, 1.42990415e-01, 1.48493563e-02,\n",
       "        1.48493563e-02, 1.48493563e-02, 3.69743652e-01, 2.08087417e-02,\n",
       "        2.08087417e-02, 1.83567711e+00, 0.00000000e+00],\n",
       "       [1.54908522e-02, 5.26099077e-03, 9.81366330e-04, 3.45740099e-02,\n",
       "        7.32423826e+00, 2.64963854e+00, 6.91491434e-02, 4.16654223e-01,\n",
       "        4.81685018e+00, 1.01543252e+00, 8.60294768e-01, 6.90228134e+00,\n",
       "        4.08314124e+00, 7.88172002e+00, 3.18110010e-01, 5.64911988e-02,\n",
       "        1.04387155e-01, 1.04387155e-01, 1.42990415e-01, 1.48493563e-02,\n",
       "        1.48493563e-02, 1.48493563e-02, 3.69743652e-01, 2.08087417e-02,\n",
       "        2.08087417e-02, 2.40966147e+00, 0.00000000e+00],\n",
       "       [1.54908522e-02, 5.26099077e-03, 9.81366330e-04, 3.45740099e-02,\n",
       "        6.65544416e+00, 1.57983563e+00, 6.91491434e-02, 4.16654223e-01,\n",
       "        4.27201857e+00, 2.33905313e+00, 3.27201857e+00, 4.27313391e+00,\n",
       "        7.57306042e-01, 6.22909576e-01, 7.07048166e+00, 5.64911988e-02,\n",
       "        1.04387155e-01, 1.04387155e-01, 1.42990415e-01, 1.48493563e-02,\n",
       "        1.48493563e-02, 1.48493563e-02, 3.69743652e-01, 2.08087417e-02,\n",
       "        2.08087417e-02, 1.83567711e+00, 0.00000000e+00],\n",
       "       [1.54908522e-02, 5.26099077e-03, 9.81366330e-04, 3.45740099e-02,\n",
       "        6.63236055e+00, 1.57983563e+00, 6.91491434e-02, 4.16654223e-01,\n",
       "        3.82418801e+00, 2.67890314e+00, 8.60294768e-01, 8.32423826e+00,\n",
       "        7.57306042e-01, 6.22909576e-01, 3.18110010e-01, 5.88172002e+00,\n",
       "        1.04387155e-01, 1.04387155e-01, 1.42990415e-01, 1.48493563e-02,\n",
       "        1.48493563e-02, 1.48493563e-02, 3.69743652e-01, 2.08087417e-02,\n",
       "        2.08087417e-02, 1.37183300e+00, 0.00000000e+00],\n",
       "       [1.54908522e-02, 5.26099077e-03, 9.81366330e-04, 3.45740099e-02,\n",
       "        6.70877367e+00, 1.57983563e+00, 6.91491434e-02, 4.16654223e-01,\n",
       "        2.77675046e+00, 2.33905313e+00, 3.40935487e+00, 3.84145615e+00,\n",
       "        7.57306042e-01, 6.22909576e-01, 7.11778738e+00, 5.64911988e-02,\n",
       "        8.85475297e+00, 8.65544416e+00, 8.48035746e+00, 1.48493563e-02,\n",
       "        1.48493563e-02, 1.48493563e-02, 3.69743652e-01, 2.08087417e-02,\n",
       "        2.08087417e-02, 3.61670214e+00, 0.00000000e+00]])"
      ]
     },
     "execution_count": 251,
     "metadata": {},
     "output_type": "execute_result"
    }
   ],
   "source": [
    "traitsScoresNP = scoresDF.to_numpy(dtype=np.float64)\n",
    "print(traitsScoresNP[:5])\n",
    "traitsScoresNPRequired = traitsScoresNP[:, scoresToWeightIndex]\n",
    "traitsScoresNPRequired[:5]"
   ]
  },
  {
   "cell_type": "code",
   "execution_count": 252,
   "id": "f65f6f9b",
   "metadata": {},
   "outputs": [
    {
     "ename": "UnboundLocalError",
     "evalue": "local variable 'salesDF' referenced before assignment",
     "output_type": "error",
     "traceback": [
      "\u001b[0;31m---------------------------------------------------------------------------\u001b[0m",
      "\u001b[0;31mUnboundLocalError\u001b[0m                         Traceback (most recent call last)",
      "Cell \u001b[0;32mIn[252], line 1\u001b[0m\n\u001b[0;32m----> 1\u001b[0m minimizationResults \u001b[38;5;241m=\u001b[39m \u001b[43mfitWeights\u001b[49m\u001b[43m(\u001b[49m\u001b[43msalesDF\u001b[49m\u001b[43m,\u001b[49m\u001b[43m \u001b[49m\u001b[43mscoresDF\u001b[49m\u001b[43m)\u001b[49m\n",
      "Cell \u001b[0;32mIn[237], line 11\u001b[0m, in \u001b[0;36mfitWeights\u001b[0;34m(salesDFNumPy, scoresDF)\u001b[0m\n\u001b[1;32m      6\u001b[0m \u001b[38;5;66;03m# create sales numpy matrix\u001b[39;00m\n\u001b[1;32m      7\u001b[0m \u001b[38;5;66;03m# --> salesDFNumPy\u001b[39;00m\n\u001b[1;32m      8\u001b[0m \u001b[38;5;66;03m# moved to external function!\u001b[39;00m\n\u001b[1;32m     10\u001b[0m salesDFPrepared \u001b[38;5;241m=\u001b[39m pd\u001b[38;5;241m.\u001b[39mDataFrame()\n\u001b[0;32m---> 11\u001b[0m salesDFPrepared[\u001b[38;5;124m'\u001b[39m\u001b[38;5;124mtokenId\u001b[39m\u001b[38;5;124m'\u001b[39m] \u001b[38;5;241m=\u001b[39m \u001b[43msalesDF\u001b[49m[\u001b[38;5;124m'\u001b[39m\u001b[38;5;124mtokenId\u001b[39m\u001b[38;5;124m'\u001b[39m]\u001b[38;5;241m.\u001b[39mastype(np\u001b[38;5;241m.\u001b[39muint64)\n\u001b[1;32m     12\u001b[0m salesDFPrepared[\u001b[38;5;124m'\u001b[39m\u001b[38;5;124mblockNumber\u001b[39m\u001b[38;5;124m'\u001b[39m] \u001b[38;5;241m=\u001b[39m salesDF[\u001b[38;5;124m'\u001b[39m\u001b[38;5;124mblockNumber\u001b[39m\u001b[38;5;124m'\u001b[39m]\u001b[38;5;241m.\u001b[39mastype(np\u001b[38;5;241m.\u001b[39muint64)\n\u001b[1;32m     13\u001b[0m salesDFPrepared[\u001b[38;5;124m'\u001b[39m\u001b[38;5;124mFee\u001b[39m\u001b[38;5;124m'\u001b[39m] \u001b[38;5;241m=\u001b[39m salesDF[\u001b[38;5;124m'\u001b[39m\u001b[38;5;124mFee\u001b[39m\u001b[38;5;124m'\u001b[39m]\u001b[38;5;241m.\u001b[39mastype(np\u001b[38;5;241m.\u001b[39mfloat64)\n",
      "\u001b[0;31mUnboundLocalError\u001b[0m: local variable 'salesDF' referenced before assignment"
     ]
    }
   ],
   "source": [
    "minimizationResults = fitWeights(salesDF, scoresDF)"
   ]
  },
  {
   "cell_type": "code",
   "execution_count": null,
   "id": "8634f490",
   "metadata": {},
   "outputs": [],
   "source": []
  },
  {
   "cell_type": "code",
   "execution_count": 253,
   "id": "02796edd",
   "metadata": {},
   "outputs": [
    {
     "ename": "NameError",
     "evalue": "name 'minimizationResults' is not defined",
     "output_type": "error",
     "traceback": [
      "\u001b[0;31m---------------------------------------------------------------------------\u001b[0m",
      "\u001b[0;31mNameError\u001b[0m                                 Traceback (most recent call last)",
      "Cell \u001b[0;32mIn[253], line 1\u001b[0m\n\u001b[0;32m----> 1\u001b[0m coefficentsFinal \u001b[38;5;241m=\u001b[39m \u001b[43mminimizationResults\u001b[49m\u001b[38;5;241m.\u001b[39mx\n\u001b[1;32m      2\u001b[0m display(coefficentsFinal)\n",
      "\u001b[0;31mNameError\u001b[0m: name 'minimizationResults' is not defined"
     ]
    }
   ],
   "source": [
    "coefficentsFinal = minimizationResults.x\n",
    "display(coefficentsFinal)"
   ]
  },
  {
   "cell_type": "code",
   "execution_count": null,
   "id": "8849f661",
   "metadata": {},
   "outputs": [],
   "source": [
    "scoresDF.columns"
   ]
  },
  {
   "cell_type": "code",
   "execution_count": null,
   "id": "300f70e4",
   "metadata": {},
   "outputs": [],
   "source": []
  },
  {
   "cell_type": "code",
   "execution_count": null,
   "id": "1253758f",
   "metadata": {},
   "outputs": [],
   "source": []
  },
  {
   "cell_type": "code",
   "execution_count": null,
   "id": "73bf06e0",
   "metadata": {},
   "outputs": [],
   "source": []
  },
  {
   "cell_type": "code",
   "execution_count": null,
   "id": "720c302b",
   "metadata": {},
   "outputs": [],
   "source": []
  },
  {
   "cell_type": "code",
   "execution_count": null,
   "id": "fbc2d151",
   "metadata": {},
   "outputs": [],
   "source": []
  },
  {
   "cell_type": "code",
   "execution_count": null,
   "id": "24af1fdb",
   "metadata": {},
   "outputs": [],
   "source": []
  },
  {
   "cell_type": "code",
   "execution_count": null,
   "id": "88b03699",
   "metadata": {},
   "outputs": [],
   "source": []
  },
  {
   "cell_type": "code",
   "execution_count": null,
   "id": "1c1a63d6",
   "metadata": {},
   "outputs": [],
   "source": []
  },
  {
   "cell_type": "code",
   "execution_count": null,
   "id": "2a56cef1",
   "metadata": {},
   "outputs": [],
   "source": []
  }
 ],
 "metadata": {
  "kernelspec": {
   "display_name": "Python 3 (ipykernel)",
   "language": "python",
   "name": "python3"
  },
  "language_info": {
   "codemirror_mode": {
    "name": "ipython",
    "version": 3
   },
   "file_extension": ".py",
   "mimetype": "text/x-python",
   "name": "python",
   "nbconvert_exporter": "python",
   "pygments_lexer": "ipython3",
   "version": "3.8.9"
  }
 },
 "nbformat": 4,
 "nbformat_minor": 5
}
