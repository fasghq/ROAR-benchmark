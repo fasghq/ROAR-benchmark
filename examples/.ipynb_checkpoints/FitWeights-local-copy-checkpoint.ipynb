{
 "cells": [
  {
   "cell_type": "code",
   "execution_count": 1,
   "id": "7c5f2140",
   "metadata": {
    "id": "9138b71c"
   },
   "outputs": [],
   "source": [
    "import numpy as np\n",
    "import csv\n",
    "import datetime"
   ]
  },
  {
   "cell_type": "code",
   "execution_count": 2,
   "id": "fc23478a",
   "metadata": {
    "id": "ZX3p3bZonXmy"
   },
   "outputs": [],
   "source": [
    "import pandas as pd\n",
    "import numpy as np\n",
    "import json\n",
    "from collections import ChainMap\n",
    "from collections import Counter\n",
    "import requests"
   ]
  },
  {
   "cell_type": "code",
   "execution_count": 3,
   "id": "e9ea6c98",
   "metadata": {},
   "outputs": [],
   "source": [
    "import numba\n",
    "from numba import njit, prange\n",
    "from numba import types\n",
    "from numba.typed import Dict\n",
    "import math"
   ]
  },
  {
   "cell_type": "code",
   "execution_count": 4,
   "id": "4a1294aa",
   "metadata": {
    "id": "2180a59c"
   },
   "outputs": [],
   "source": [
    "np.set_printoptions(formatter={'all':lambda x: str(x)})"
   ]
  },
  {
   "cell_type": "markdown",
   "id": "dc43faca",
   "metadata": {
    "id": "76Yapj3Np5vx"
   },
   "source": [
    "## Reading data"
   ]
  },
  {
   "cell_type": "code",
   "execution_count": 5,
   "id": "8b59ca76",
   "metadata": {
    "id": "lSp_ONYwqRJv"
   },
   "outputs": [],
   "source": [
    "def jsonToDF(data):\n",
    "    sales = []\n",
    "    for sale in data:\n",
    "        tempSale = dict()\n",
    "        tempSale.update(sale)\n",
    "        for fee in ['sellerFee', 'protocolFee', 'royaltyFee']:\n",
    "            if tempSale[fee]:\n",
    "                if 'tokenAddress' in tempSale[fee]:\n",
    "                    tempSale[fee+'Address'] = sale[fee]['tokenAddress']\n",
    "                else:\n",
    "                    tempSale[fee+'Address'] = None\n",
    "                tempSale[fee] = int(sale[fee]['amount'])\n",
    "        sales.append(tempSale)\n",
    "    salesDF = pd.DataFrame(sales)\n",
    "    salesDF[['protocolFee', 'royaltyFee']] = salesDF[['protocolFee', 'royaltyFee']].replace([{}], [0])\n",
    "    salesDF['Fee'] = (salesDF['sellerFee']) + (salesDF['protocolFee']) + (salesDF['royaltyFee'])\n",
    "    return salesDF"
   ]
  },
  {
   "cell_type": "code",
   "execution_count": 6,
   "id": "6e7f9b93",
   "metadata": {
    "id": "iKo9NPWbqSaI"
   },
   "outputs": [],
   "source": [
    "def metadataJsonToDF(data):\n",
    "  attributes = []\n",
    "  for metadata in data:\n",
    "    if metadata['nft_data']['external_data']:\n",
    "      metadata['nft_data']['external_data']['attributes'].append({'trait_type': 'Token Id', \n",
    "                                                                  'value': metadata['nft_data']['token_id']})\n",
    "      attributes.append([dict(ChainMap(*[{d['trait_type']: d['value']} for d in metadata['nft_data']['external_data']['attributes']]))])\n",
    "    else:\n",
    "      print(metadata['nft_data']['token_id'])\n",
    "  attributesDF = pd.concat([pd.DataFrame(attribute) for attribute in attributes]).reset_index(drop=True)\n",
    "  return attributesDF"
   ]
  },
  {
   "cell_type": "code",
   "execution_count": 13,
   "id": "29f4e92d",
   "metadata": {},
   "outputs": [],
   "source": [
    "path = \"../dataset/metadata/\""
   ]
  },
  {
   "cell_type": "code",
   "execution_count": 14,
   "id": "5cf6aba6",
   "metadata": {
    "id": "ASKumjR8qVUp"
   },
   "outputs": [
    {
     "ename": "KeyError",
     "evalue": "'nft_data'",
     "output_type": "error",
     "traceback": [
      "\u001b[0;31m---------------------------------------------------------------------------\u001b[0m",
      "\u001b[0;31mKeyError\u001b[0m                                  Traceback (most recent call last)",
      "Cell \u001b[0;32mIn[14], line 2\u001b[0m\n\u001b[1;32m      1\u001b[0m \u001b[38;5;28;01mwith\u001b[39;00m \u001b[38;5;28mopen\u001b[39m(path \u001b[38;5;241m+\u001b[39m \u001b[38;5;124m'\u001b[39m\u001b[38;5;124m0N1_metadata.json\u001b[39m\u001b[38;5;124m'\u001b[39m, \u001b[38;5;124m\"\u001b[39m\u001b[38;5;124mr\u001b[39m\u001b[38;5;124m\"\u001b[39m) \u001b[38;5;28;01mas\u001b[39;00m file:\n\u001b[0;32m----> 2\u001b[0m     metadataDF \u001b[38;5;241m=\u001b[39m \u001b[43mmetadataJsonToDF\u001b[49m\u001b[43m(\u001b[49m\u001b[43mjson\u001b[49m\u001b[38;5;241;43m.\u001b[39;49m\u001b[43mload\u001b[49m\u001b[43m(\u001b[49m\u001b[43mfile\u001b[49m\u001b[43m)\u001b[49m\u001b[43m)\u001b[49m\n\u001b[1;32m      3\u001b[0m \u001b[38;5;66;03m#     metadataDF.to_csv('metadata.csv')\u001b[39;00m\n",
      "Cell \u001b[0;32mIn[6], line 4\u001b[0m, in \u001b[0;36mmetadataJsonToDF\u001b[0;34m(data)\u001b[0m\n\u001b[1;32m      2\u001b[0m attributes \u001b[38;5;241m=\u001b[39m []\n\u001b[1;32m      3\u001b[0m \u001b[38;5;28;01mfor\u001b[39;00m metadata \u001b[38;5;129;01min\u001b[39;00m data:\n\u001b[0;32m----> 4\u001b[0m   \u001b[38;5;28;01mif\u001b[39;00m \u001b[43mmetadata\u001b[49m\u001b[43m[\u001b[49m\u001b[38;5;124;43m'\u001b[39;49m\u001b[38;5;124;43mnft_data\u001b[39;49m\u001b[38;5;124;43m'\u001b[39;49m\u001b[43m]\u001b[49m[\u001b[38;5;124m'\u001b[39m\u001b[38;5;124mexternal_data\u001b[39m\u001b[38;5;124m'\u001b[39m]:\n\u001b[1;32m      5\u001b[0m     metadata[\u001b[38;5;124m'\u001b[39m\u001b[38;5;124mnft_data\u001b[39m\u001b[38;5;124m'\u001b[39m][\u001b[38;5;124m'\u001b[39m\u001b[38;5;124mexternal_data\u001b[39m\u001b[38;5;124m'\u001b[39m][\u001b[38;5;124m'\u001b[39m\u001b[38;5;124mattributes\u001b[39m\u001b[38;5;124m'\u001b[39m]\u001b[38;5;241m.\u001b[39mappend({\u001b[38;5;124m'\u001b[39m\u001b[38;5;124mtrait_type\u001b[39m\u001b[38;5;124m'\u001b[39m: \u001b[38;5;124m'\u001b[39m\u001b[38;5;124mToken Id\u001b[39m\u001b[38;5;124m'\u001b[39m, \n\u001b[1;32m      6\u001b[0m                                                                 \u001b[38;5;124m'\u001b[39m\u001b[38;5;124mvalue\u001b[39m\u001b[38;5;124m'\u001b[39m: metadata[\u001b[38;5;124m'\u001b[39m\u001b[38;5;124mnft_data\u001b[39m\u001b[38;5;124m'\u001b[39m][\u001b[38;5;124m'\u001b[39m\u001b[38;5;124mtoken_id\u001b[39m\u001b[38;5;124m'\u001b[39m]})\n\u001b[1;32m      7\u001b[0m     attributes\u001b[38;5;241m.\u001b[39mappend([\u001b[38;5;28mdict\u001b[39m(ChainMap(\u001b[38;5;241m*\u001b[39m[{d[\u001b[38;5;124m'\u001b[39m\u001b[38;5;124mtrait_type\u001b[39m\u001b[38;5;124m'\u001b[39m]: d[\u001b[38;5;124m'\u001b[39m\u001b[38;5;124mvalue\u001b[39m\u001b[38;5;124m'\u001b[39m]} \u001b[38;5;28;01mfor\u001b[39;00m d \u001b[38;5;129;01min\u001b[39;00m metadata[\u001b[38;5;124m'\u001b[39m\u001b[38;5;124mnft_data\u001b[39m\u001b[38;5;124m'\u001b[39m][\u001b[38;5;124m'\u001b[39m\u001b[38;5;124mexternal_data\u001b[39m\u001b[38;5;124m'\u001b[39m][\u001b[38;5;124m'\u001b[39m\u001b[38;5;124mattributes\u001b[39m\u001b[38;5;124m'\u001b[39m]]))])\n",
      "\u001b[0;31mKeyError\u001b[0m: 'nft_data'"
     ]
    }
   ],
   "source": [
    "with open(path + '0N1_metadata.json', \"r\") as file:\n",
    "    metadataDF = metadataJsonToDF(json.load(file))\n",
    "#     metadataDF.to_csv('metadata.csv')"
   ]
  },
  {
   "cell_type": "markdown",
   "id": "0dbb0d9c",
   "metadata": {
    "id": "UI7A_k2BzD_V"
   },
   "source": [
    "## Consturcting pairwise dataset\n",
    "\n"
   ]
  },
  {
   "cell_type": "code",
   "execution_count": 9,
   "id": "7e318f43",
   "metadata": {
    "id": "cd3f5241"
   },
   "outputs": [],
   "source": [
    "salesDF = np.load(\"sasha.npy\", allow_pickle=True)\n",
    "salesDF = pd.DataFrame(salesDF, columns=['marketplace', 'marketplaceAddress', 'contractAddress', 'tokenId',\n",
    "       'quantity', 'buyerAddress', 'sellerAddress', 'taker', 'sellerFee',\n",
    "       'protocolFee', 'royaltyFee', 'blockNumber', 'logIndex', 'bundleIndex',\n",
    "       'transactionHash', 'sellerFeeAddress', 'protocolFeeAddress',\n",
    "       'royaltyFeeAddress', 'Fee'])"
   ]
  },
  {
   "cell_type": "code",
   "execution_count": 10,
   "id": "f4ad2cc8",
   "metadata": {
    "colab": {
     "base_uri": "https://localhost:8080/",
     "height": 488
    },
    "id": "VuyEVfGl7MEk",
    "outputId": "e24ec8c1-82ed-4a8d-b1e3-f705c9ac0dc7",
    "scrolled": true
   },
   "outputs": [
    {
     "data": {
      "text/html": [
       "<div>\n",
       "<style scoped>\n",
       "    .dataframe tbody tr th:only-of-type {\n",
       "        vertical-align: middle;\n",
       "    }\n",
       "\n",
       "    .dataframe tbody tr th {\n",
       "        vertical-align: top;\n",
       "    }\n",
       "\n",
       "    .dataframe thead th {\n",
       "        text-align: right;\n",
       "    }\n",
       "</style>\n",
       "<table border=\"1\" class=\"dataframe\">\n",
       "  <thead>\n",
       "    <tr style=\"text-align: right;\">\n",
       "      <th></th>\n",
       "      <th>marketplace</th>\n",
       "      <th>marketplaceAddress</th>\n",
       "      <th>contractAddress</th>\n",
       "      <th>tokenId</th>\n",
       "      <th>quantity</th>\n",
       "      <th>buyerAddress</th>\n",
       "      <th>sellerAddress</th>\n",
       "      <th>taker</th>\n",
       "      <th>sellerFee</th>\n",
       "      <th>protocolFee</th>\n",
       "      <th>royaltyFee</th>\n",
       "      <th>blockNumber</th>\n",
       "      <th>logIndex</th>\n",
       "      <th>bundleIndex</th>\n",
       "      <th>transactionHash</th>\n",
       "      <th>sellerFeeAddress</th>\n",
       "      <th>protocolFeeAddress</th>\n",
       "      <th>royaltyFeeAddress</th>\n",
       "      <th>Fee</th>\n",
       "    </tr>\n",
       "  </thead>\n",
       "  <tbody>\n",
       "    <tr>\n",
       "      <th>0</th>\n",
       "      <td>wyvern</td>\n",
       "      <td>0x7be8076f4ea4a4ad08075c2508e481d6c946d12b</td>\n",
       "      <td>0x3bf2922f4520a8ba0c2efc3d2a1539678dad5e9d</td>\n",
       "      <td>234</td>\n",
       "      <td>1</td>\n",
       "      <td>0xb3e33b5ab0366c4be40641efecfa5c5dab5a91e5</td>\n",
       "      <td>0x624e284f2038ee110674f65d6b631beffe0c2e71</td>\n",
       "      <td>BUYER</td>\n",
       "      <td>462500000000000000</td>\n",
       "      <td>12500000000000000</td>\n",
       "      <td>25000000000000000</td>\n",
       "      <td>13030732</td>\n",
       "      <td>43</td>\n",
       "      <td>0</td>\n",
       "      <td>0x16d101893b55fd4ae817f52d5e811ef52b85306f5ec0...</td>\n",
       "      <td>0x0000000000000000000000000000000000000000</td>\n",
       "      <td>0x0000000000000000000000000000000000000000</td>\n",
       "      <td>0x0000000000000000000000000000000000000000</td>\n",
       "      <td>500000000000000000</td>\n",
       "    </tr>\n",
       "    <tr>\n",
       "      <th>1</th>\n",
       "      <td>wyvern</td>\n",
       "      <td>0x7be8076f4ea4a4ad08075c2508e481d6c946d12b</td>\n",
       "      <td>0x3bf2922f4520a8ba0c2efc3d2a1539678dad5e9d</td>\n",
       "      <td>233</td>\n",
       "      <td>1</td>\n",
       "      <td>0xd492c4971ef568f33a1255a8b346f572ba65173b</td>\n",
       "      <td>0x624e284f2038ee110674f65d6b631beffe0c2e71</td>\n",
       "      <td>BUYER</td>\n",
       "      <td>647500000000000000</td>\n",
       "      <td>17500000000000000</td>\n",
       "      <td>35000000000000000</td>\n",
       "      <td>13030811</td>\n",
       "      <td>274</td>\n",
       "      <td>0</td>\n",
       "      <td>0xc0cb876e583cbab8b97ad95afe58442d6f88ce211aa2...</td>\n",
       "      <td>0x0000000000000000000000000000000000000000</td>\n",
       "      <td>0x0000000000000000000000000000000000000000</td>\n",
       "      <td>0x0000000000000000000000000000000000000000</td>\n",
       "      <td>700000000000000000</td>\n",
       "    </tr>\n",
       "    <tr>\n",
       "      <th>2</th>\n",
       "      <td>wyvern</td>\n",
       "      <td>0x7be8076f4ea4a4ad08075c2508e481d6c946d12b</td>\n",
       "      <td>0x3bf2922f4520a8ba0c2efc3d2a1539678dad5e9d</td>\n",
       "      <td>362</td>\n",
       "      <td>1</td>\n",
       "      <td>0xd73bd59e7c0d075c9a83cad272cf17c46f7f2784</td>\n",
       "      <td>0x0eeb91bfb03a18c593c20d9b277640e26f0bc9e8</td>\n",
       "      <td>BUYER</td>\n",
       "      <td>896325000000000000</td>\n",
       "      <td>24225000000000000</td>\n",
       "      <td>48450000000000000</td>\n",
       "      <td>13030869</td>\n",
       "      <td>11</td>\n",
       "      <td>0</td>\n",
       "      <td>0x5fd918cb70792de96a81f3ec4bdc753cde020f14163e...</td>\n",
       "      <td>0x0000000000000000000000000000000000000000</td>\n",
       "      <td>0x0000000000000000000000000000000000000000</td>\n",
       "      <td>0x0000000000000000000000000000000000000000</td>\n",
       "      <td>969000000000000000</td>\n",
       "    </tr>\n",
       "    <tr>\n",
       "      <th>3</th>\n",
       "      <td>wyvern</td>\n",
       "      <td>0x7be8076f4ea4a4ad08075c2508e481d6c946d12b</td>\n",
       "      <td>0x3bf2922f4520a8ba0c2efc3d2a1539678dad5e9d</td>\n",
       "      <td>334</td>\n",
       "      <td>1</td>\n",
       "      <td>0xb379760c83afb50fcc8296766ed912f0d57be635</td>\n",
       "      <td>0x1c29fed7470938f31d21eaccb89ecea1d779684f</td>\n",
       "      <td>BUYER</td>\n",
       "      <td>693750000000000000</td>\n",
       "      <td>18750000000000000</td>\n",
       "      <td>37500000000000000</td>\n",
       "      <td>13030931</td>\n",
       "      <td>197</td>\n",
       "      <td>0</td>\n",
       "      <td>0xe0510b86b0bbed04107c55fb54a6095f532a128d36e5...</td>\n",
       "      <td>0x0000000000000000000000000000000000000000</td>\n",
       "      <td>0x0000000000000000000000000000000000000000</td>\n",
       "      <td>0x0000000000000000000000000000000000000000</td>\n",
       "      <td>750000000000000000</td>\n",
       "    </tr>\n",
       "    <tr>\n",
       "      <th>4</th>\n",
       "      <td>wyvern</td>\n",
       "      <td>0x7be8076f4ea4a4ad08075c2508e481d6c946d12b</td>\n",
       "      <td>0x3bf2922f4520a8ba0c2efc3d2a1539678dad5e9d</td>\n",
       "      <td>432</td>\n",
       "      <td>1</td>\n",
       "      <td>0x74e56080d486bec3afd9c9866f84079bd8d3023b</td>\n",
       "      <td>0xa31a6fbda5f4c32661a74480fdd1e9b8fe52e797</td>\n",
       "      <td>BUYER</td>\n",
       "      <td>462500000000000000</td>\n",
       "      <td>12500000000000000</td>\n",
       "      <td>25000000000000000</td>\n",
       "      <td>13030946</td>\n",
       "      <td>91</td>\n",
       "      <td>0</td>\n",
       "      <td>0x89fe4725117cdf0588e0db95c9918be1707cc294e744...</td>\n",
       "      <td>0x0000000000000000000000000000000000000000</td>\n",
       "      <td>0x0000000000000000000000000000000000000000</td>\n",
       "      <td>0x0000000000000000000000000000000000000000</td>\n",
       "      <td>500000000000000000</td>\n",
       "    </tr>\n",
       "    <tr>\n",
       "      <th>...</th>\n",
       "      <td>...</td>\n",
       "      <td>...</td>\n",
       "      <td>...</td>\n",
       "      <td>...</td>\n",
       "      <td>...</td>\n",
       "      <td>...</td>\n",
       "      <td>...</td>\n",
       "      <td>...</td>\n",
       "      <td>...</td>\n",
       "      <td>...</td>\n",
       "      <td>...</td>\n",
       "      <td>...</td>\n",
       "      <td>...</td>\n",
       "      <td>...</td>\n",
       "      <td>...</td>\n",
       "      <td>...</td>\n",
       "      <td>...</td>\n",
       "      <td>...</td>\n",
       "      <td>...</td>\n",
       "    </tr>\n",
       "    <tr>\n",
       "      <th>42223</th>\n",
       "      <td>blur</td>\n",
       "      <td>0x000000000000ad05ccc4f10045630fb830b95127</td>\n",
       "      <td>0x3bf2922f4520a8ba0c2efc3d2a1539678dad5e9d</td>\n",
       "      <td>7605</td>\n",
       "      <td>1</td>\n",
       "      <td>0x39da41747a83aee658334415666f3ef92dd0d541</td>\n",
       "      <td>0x4cec924686aa44056eb36064abe887d6af0d7cff</td>\n",
       "      <td>BUYER</td>\n",
       "      <td>646252500000000000</td>\n",
       "      <td>0</td>\n",
       "      <td>3247500000000000</td>\n",
       "      <td>17177444</td>\n",
       "      <td>246</td>\n",
       "      <td>0</td>\n",
       "      <td>0xa02c4cc0c337680f2951835c3153a6ffa76b01931752...</td>\n",
       "      <td>0x0000000000000000000000000000000000000000</td>\n",
       "      <td>NaN</td>\n",
       "      <td>0x0000000000000000000000000000000000000000</td>\n",
       "      <td>649500000000000000</td>\n",
       "    </tr>\n",
       "    <tr>\n",
       "      <th>42224</th>\n",
       "      <td>seaport</td>\n",
       "      <td>0x00000000000001ad428e4906ae43d8f9852d0dd6</td>\n",
       "      <td>0x3bf2922f4520a8ba0c2efc3d2a1539678dad5e9d</td>\n",
       "      <td>3772</td>\n",
       "      <td>1</td>\n",
       "      <td>0x4cec924686aa44056eb36064abe887d6af0d7cff</td>\n",
       "      <td>0xbcc68d39c6b498c0a41178eb3beebe1cfbcb6108</td>\n",
       "      <td>SELLER</td>\n",
       "      <td>622170099999913472</td>\n",
       "      <td>31108504999995500</td>\n",
       "      <td>0</td>\n",
       "      <td>17178577</td>\n",
       "      <td>484</td>\n",
       "      <td>0</td>\n",
       "      <td>0x51ac8082cc73d26a406f52288c35debcdde1939136dc...</td>\n",
       "      <td>0xc02aaa39b223fe8d0a0e5c4f27ead9083c756cc2</td>\n",
       "      <td>0xc02aaa39b223fe8d0a0e5c4f27ead9083c756cc2</td>\n",
       "      <td>NaN</td>\n",
       "      <td>653278604999908972</td>\n",
       "    </tr>\n",
       "    <tr>\n",
       "      <th>42225</th>\n",
       "      <td>seaport</td>\n",
       "      <td>0x00000000000001ad428e4906ae43d8f9852d0dd6</td>\n",
       "      <td>0x3bf2922f4520a8ba0c2efc3d2a1539678dad5e9d</td>\n",
       "      <td>3772</td>\n",
       "      <td>1</td>\n",
       "      <td>0xbcc68d39c6b498c0a41178eb3beebe1cfbcb6108</td>\n",
       "      <td>0xbcc68d39c6b498c0a41178eb3beebe1cfbcb6108</td>\n",
       "      <td>BUYER</td>\n",
       "      <td>62217009999991</td>\n",
       "      <td>590999377989917981</td>\n",
       "      <td>0</td>\n",
       "      <td>17178577</td>\n",
       "      <td>485</td>\n",
       "      <td>0</td>\n",
       "      <td>0x51ac8082cc73d26a406f52288c35debcdde1939136dc...</td>\n",
       "      <td>0xc02aaa39b223fe8d0a0e5c4f27ead9083c756cc2</td>\n",
       "      <td>0xc02aaa39b223fe8d0a0e5c4f27ead9083c756cc2</td>\n",
       "      <td>NaN</td>\n",
       "      <td>591061594999917972</td>\n",
       "    </tr>\n",
       "    <tr>\n",
       "      <th>42226</th>\n",
       "      <td>seaport</td>\n",
       "      <td>0x00000000000001ad428e4906ae43d8f9852d0dd6</td>\n",
       "      <td>0x3bf2922f4520a8ba0c2efc3d2a1539678dad5e9d</td>\n",
       "      <td>7190</td>\n",
       "      <td>1</td>\n",
       "      <td>0x48d0983127f194c84d04a18bce46d7c9685002fb</td>\n",
       "      <td>0xccb73c82eba1bf99d8067b517c4d9bc69671e305</td>\n",
       "      <td>BUYER</td>\n",
       "      <td>766150000000000000</td>\n",
       "      <td>3850000000000000</td>\n",
       "      <td>0</td>\n",
       "      <td>17179924</td>\n",
       "      <td>398</td>\n",
       "      <td>0</td>\n",
       "      <td>0xcb02c6687731c5d10bc54db18ab4c0db1cd95fb87c00...</td>\n",
       "      <td>0x0000000000000000000000000000000000000000</td>\n",
       "      <td>0x0000000000000000000000000000000000000000</td>\n",
       "      <td>NaN</td>\n",
       "      <td>770000000000000000</td>\n",
       "    </tr>\n",
       "    <tr>\n",
       "      <th>42227</th>\n",
       "      <td>blur</td>\n",
       "      <td>0x000000000000ad05ccc4f10045630fb830b95127</td>\n",
       "      <td>0x3bf2922f4520a8ba0c2efc3d2a1539678dad5e9d</td>\n",
       "      <td>443</td>\n",
       "      <td>1</td>\n",
       "      <td>0x9d72f197b9cef08b56a280dbbd495ae1c026e9aa</td>\n",
       "      <td>0x329da22420eb43431c635356b2324cf8834f989a</td>\n",
       "      <td>SELLER</td>\n",
       "      <td>636800000000000000</td>\n",
       "      <td>0</td>\n",
       "      <td>3200000000000000</td>\n",
       "      <td>17180771</td>\n",
       "      <td>249</td>\n",
       "      <td>0</td>\n",
       "      <td>0xf9c7fba3d2addff706b098858169c168662f00b6dbd9...</td>\n",
       "      <td>0x0000000000a39bb272e79075ade125fd351887ac</td>\n",
       "      <td>NaN</td>\n",
       "      <td>0x0000000000a39bb272e79075ade125fd351887ac</td>\n",
       "      <td>640000000000000000</td>\n",
       "    </tr>\n",
       "  </tbody>\n",
       "</table>\n",
       "<p>42228 rows × 19 columns</p>\n",
       "</div>"
      ],
      "text/plain": [
       "      marketplace                          marketplaceAddress  \\\n",
       "0          wyvern  0x7be8076f4ea4a4ad08075c2508e481d6c946d12b   \n",
       "1          wyvern  0x7be8076f4ea4a4ad08075c2508e481d6c946d12b   \n",
       "2          wyvern  0x7be8076f4ea4a4ad08075c2508e481d6c946d12b   \n",
       "3          wyvern  0x7be8076f4ea4a4ad08075c2508e481d6c946d12b   \n",
       "4          wyvern  0x7be8076f4ea4a4ad08075c2508e481d6c946d12b   \n",
       "...           ...                                         ...   \n",
       "42223        blur  0x000000000000ad05ccc4f10045630fb830b95127   \n",
       "42224     seaport  0x00000000000001ad428e4906ae43d8f9852d0dd6   \n",
       "42225     seaport  0x00000000000001ad428e4906ae43d8f9852d0dd6   \n",
       "42226     seaport  0x00000000000001ad428e4906ae43d8f9852d0dd6   \n",
       "42227        blur  0x000000000000ad05ccc4f10045630fb830b95127   \n",
       "\n",
       "                                  contractAddress tokenId quantity  \\\n",
       "0      0x3bf2922f4520a8ba0c2efc3d2a1539678dad5e9d     234        1   \n",
       "1      0x3bf2922f4520a8ba0c2efc3d2a1539678dad5e9d     233        1   \n",
       "2      0x3bf2922f4520a8ba0c2efc3d2a1539678dad5e9d     362        1   \n",
       "3      0x3bf2922f4520a8ba0c2efc3d2a1539678dad5e9d     334        1   \n",
       "4      0x3bf2922f4520a8ba0c2efc3d2a1539678dad5e9d     432        1   \n",
       "...                                           ...     ...      ...   \n",
       "42223  0x3bf2922f4520a8ba0c2efc3d2a1539678dad5e9d    7605        1   \n",
       "42224  0x3bf2922f4520a8ba0c2efc3d2a1539678dad5e9d    3772        1   \n",
       "42225  0x3bf2922f4520a8ba0c2efc3d2a1539678dad5e9d    3772        1   \n",
       "42226  0x3bf2922f4520a8ba0c2efc3d2a1539678dad5e9d    7190        1   \n",
       "42227  0x3bf2922f4520a8ba0c2efc3d2a1539678dad5e9d     443        1   \n",
       "\n",
       "                                     buyerAddress  \\\n",
       "0      0xb3e33b5ab0366c4be40641efecfa5c5dab5a91e5   \n",
       "1      0xd492c4971ef568f33a1255a8b346f572ba65173b   \n",
       "2      0xd73bd59e7c0d075c9a83cad272cf17c46f7f2784   \n",
       "3      0xb379760c83afb50fcc8296766ed912f0d57be635   \n",
       "4      0x74e56080d486bec3afd9c9866f84079bd8d3023b   \n",
       "...                                           ...   \n",
       "42223  0x39da41747a83aee658334415666f3ef92dd0d541   \n",
       "42224  0x4cec924686aa44056eb36064abe887d6af0d7cff   \n",
       "42225  0xbcc68d39c6b498c0a41178eb3beebe1cfbcb6108   \n",
       "42226  0x48d0983127f194c84d04a18bce46d7c9685002fb   \n",
       "42227  0x9d72f197b9cef08b56a280dbbd495ae1c026e9aa   \n",
       "\n",
       "                                    sellerAddress   taker           sellerFee  \\\n",
       "0      0x624e284f2038ee110674f65d6b631beffe0c2e71   BUYER  462500000000000000   \n",
       "1      0x624e284f2038ee110674f65d6b631beffe0c2e71   BUYER  647500000000000000   \n",
       "2      0x0eeb91bfb03a18c593c20d9b277640e26f0bc9e8   BUYER  896325000000000000   \n",
       "3      0x1c29fed7470938f31d21eaccb89ecea1d779684f   BUYER  693750000000000000   \n",
       "4      0xa31a6fbda5f4c32661a74480fdd1e9b8fe52e797   BUYER  462500000000000000   \n",
       "...                                           ...     ...                 ...   \n",
       "42223  0x4cec924686aa44056eb36064abe887d6af0d7cff   BUYER  646252500000000000   \n",
       "42224  0xbcc68d39c6b498c0a41178eb3beebe1cfbcb6108  SELLER  622170099999913472   \n",
       "42225  0xbcc68d39c6b498c0a41178eb3beebe1cfbcb6108   BUYER      62217009999991   \n",
       "42226  0xccb73c82eba1bf99d8067b517c4d9bc69671e305   BUYER  766150000000000000   \n",
       "42227  0x329da22420eb43431c635356b2324cf8834f989a  SELLER  636800000000000000   \n",
       "\n",
       "              protocolFee         royaltyFee blockNumber logIndex bundleIndex  \\\n",
       "0       12500000000000000  25000000000000000    13030732       43           0   \n",
       "1       17500000000000000  35000000000000000    13030811      274           0   \n",
       "2       24225000000000000  48450000000000000    13030869       11           0   \n",
       "3       18750000000000000  37500000000000000    13030931      197           0   \n",
       "4       12500000000000000  25000000000000000    13030946       91           0   \n",
       "...                   ...                ...         ...      ...         ...   \n",
       "42223                   0   3247500000000000    17177444      246           0   \n",
       "42224   31108504999995500                  0    17178577      484           0   \n",
       "42225  590999377989917981                  0    17178577      485           0   \n",
       "42226    3850000000000000                  0    17179924      398           0   \n",
       "42227                   0   3200000000000000    17180771      249           0   \n",
       "\n",
       "                                         transactionHash  \\\n",
       "0      0x16d101893b55fd4ae817f52d5e811ef52b85306f5ec0...   \n",
       "1      0xc0cb876e583cbab8b97ad95afe58442d6f88ce211aa2...   \n",
       "2      0x5fd918cb70792de96a81f3ec4bdc753cde020f14163e...   \n",
       "3      0xe0510b86b0bbed04107c55fb54a6095f532a128d36e5...   \n",
       "4      0x89fe4725117cdf0588e0db95c9918be1707cc294e744...   \n",
       "...                                                  ...   \n",
       "42223  0xa02c4cc0c337680f2951835c3153a6ffa76b01931752...   \n",
       "42224  0x51ac8082cc73d26a406f52288c35debcdde1939136dc...   \n",
       "42225  0x51ac8082cc73d26a406f52288c35debcdde1939136dc...   \n",
       "42226  0xcb02c6687731c5d10bc54db18ab4c0db1cd95fb87c00...   \n",
       "42227  0xf9c7fba3d2addff706b098858169c168662f00b6dbd9...   \n",
       "\n",
       "                                 sellerFeeAddress  \\\n",
       "0      0x0000000000000000000000000000000000000000   \n",
       "1      0x0000000000000000000000000000000000000000   \n",
       "2      0x0000000000000000000000000000000000000000   \n",
       "3      0x0000000000000000000000000000000000000000   \n",
       "4      0x0000000000000000000000000000000000000000   \n",
       "...                                           ...   \n",
       "42223  0x0000000000000000000000000000000000000000   \n",
       "42224  0xc02aaa39b223fe8d0a0e5c4f27ead9083c756cc2   \n",
       "42225  0xc02aaa39b223fe8d0a0e5c4f27ead9083c756cc2   \n",
       "42226  0x0000000000000000000000000000000000000000   \n",
       "42227  0x0000000000a39bb272e79075ade125fd351887ac   \n",
       "\n",
       "                               protocolFeeAddress  \\\n",
       "0      0x0000000000000000000000000000000000000000   \n",
       "1      0x0000000000000000000000000000000000000000   \n",
       "2      0x0000000000000000000000000000000000000000   \n",
       "3      0x0000000000000000000000000000000000000000   \n",
       "4      0x0000000000000000000000000000000000000000   \n",
       "...                                           ...   \n",
       "42223                                         NaN   \n",
       "42224  0xc02aaa39b223fe8d0a0e5c4f27ead9083c756cc2   \n",
       "42225  0xc02aaa39b223fe8d0a0e5c4f27ead9083c756cc2   \n",
       "42226  0x0000000000000000000000000000000000000000   \n",
       "42227                                         NaN   \n",
       "\n",
       "                                royaltyFeeAddress                 Fee  \n",
       "0      0x0000000000000000000000000000000000000000  500000000000000000  \n",
       "1      0x0000000000000000000000000000000000000000  700000000000000000  \n",
       "2      0x0000000000000000000000000000000000000000  969000000000000000  \n",
       "3      0x0000000000000000000000000000000000000000  750000000000000000  \n",
       "4      0x0000000000000000000000000000000000000000  500000000000000000  \n",
       "...                                           ...                 ...  \n",
       "42223  0x0000000000000000000000000000000000000000  649500000000000000  \n",
       "42224                                         NaN  653278604999908972  \n",
       "42225                                         NaN  591061594999917972  \n",
       "42226                                         NaN  770000000000000000  \n",
       "42227  0x0000000000a39bb272e79075ade125fd351887ac  640000000000000000  \n",
       "\n",
       "[42228 rows x 19 columns]"
      ]
     },
     "execution_count": 10,
     "metadata": {},
     "output_type": "execute_result"
    }
   ],
   "source": [
    "salesDF"
   ]
  },
  {
   "cell_type": "code",
   "execution_count": 11,
   "id": "79dcfa71",
   "metadata": {
    "id": "dwOGncFF3afm"
   },
   "outputs": [],
   "source": [
    "blocksPerOneDay = 6000"
   ]
  },
  {
   "cell_type": "code",
   "execution_count": 12,
   "id": "2a22a90a",
   "metadata": {
    "id": "TzLpr57c3q7O"
   },
   "outputs": [],
   "source": [
    "numberOfDays = 7"
   ]
  },
  {
   "cell_type": "code",
   "execution_count": 13,
   "id": "9a250a7c",
   "metadata": {
    "id": "Qq-ps-u3Dqrm"
   },
   "outputs": [],
   "source": [
    "salesDFCombinations = []"
   ]
  },
  {
   "cell_type": "code",
   "execution_count": 14,
   "id": "1f80e7bf",
   "metadata": {
    "id": "SQDM50KaDRIC"
   },
   "outputs": [],
   "source": [
    "# def getAllCombinations(salesDF, blocksPerOneDay, numberOfDays):\n",
    "#     salesDFCombinations = []\n",
    "#     for indexI, saleI in salesDF.iterrows():\n",
    "#     # print(indexI)\n",
    "#         for indexJ in range(indexI+1, len(salesDF)):\n",
    "#             saleJ = salesDF.loc[indexJ]\n",
    "#             if ((abs(saleI.blockNumber - saleJ.blockNumber) <= blocksPerOneDay * numberOfDays)):\n",
    "#                 if saleI.tokenId != saleJ.tokenId:\n",
    "#                     pairSale = {'tokenId-1' : saleI.tokenId, 'tokenId-2' : saleJ.tokenId,\n",
    "#                                 'fee-1' : saleI.Fee, 'fee-2': saleJ.Fee,\n",
    "#                                 'transactionHash-1' : saleI.transactionHash, \n",
    "#                                 'transactionHash-2' : saleJ.transactionHash, \n",
    "#                                 'blockNumber-1': saleI.blockNumber, 'blockNumber-2': saleJ.blockNumber}\n",
    "#                     salesDFCombinations.append(pairSale)\n",
    "#             else:\n",
    "#                 break\n",
    "#     return salesDFCombinations"
   ]
  },
  {
   "cell_type": "code",
   "execution_count": 15,
   "id": "85fac339",
   "metadata": {
    "id": "6dFjxmhz3FyZ"
   },
   "outputs": [],
   "source": [
    "@njit(parallel=True)\n",
    "def getAllCombinationsNP(salesData: np.ndarray, blocksPerOneDay: int, numberOfDays: int):\n",
    "    length = math.ceil(len(salesData) * (len(salesData)-1) / 2)\n",
    "    salesDFCombinations = np.zeros((length, 6), dtype=np.float64)\n",
    "    # salesDFCombinations = []\n",
    "    z = 0\n",
    "    for i in range(len(salesData)):\n",
    "        saleI = salesData[i]\n",
    "        for j in range(i+1, len(salesData)):\n",
    "            saleJ = salesData[j]\n",
    "            if ((abs(saleI[1] - saleJ[1]) <= blocksPerOneDay * numberOfDays)): #assuming blockNumber is at index 3\n",
    "\n",
    "                if saleI[0] != saleJ[0]: #assuming tokenId is at index 3\n",
    "                    salesDFCombinations[z] = np.array([saleI[0], saleJ[0], saleI[1], saleJ[1], saleI[2], saleJ[2]])\n",
    "                    z += 1\n",
    "            else:\n",
    "                break\n",
    "    return salesDFCombinations"
   ]
  },
  {
   "cell_type": "code",
   "execution_count": 16,
   "id": "67844768",
   "metadata": {
    "id": "cWiJHpirpvRX"
   },
   "outputs": [],
   "source": [
    "salesDFPrepared = pd.DataFrame()"
   ]
  },
  {
   "cell_type": "code",
   "execution_count": 17,
   "id": "4466c3b2",
   "metadata": {
    "id": "1glt6O0Hk9Rs"
   },
   "outputs": [],
   "source": [
    "salesDFPrepared = pd.DataFrame()\n",
    "salesDFPrepared['tokenId'] = salesDF['tokenId'].astype(np.uint64)\n",
    "salesDFPrepared['blockNumber'] = salesDF['blockNumber'].astype(np.uint64)\n",
    "salesDFPrepared['Fee'] = salesDF['Fee'].astype(np.float64)"
   ]
  },
  {
   "cell_type": "code",
   "execution_count": 18,
   "id": "3fd6a84d",
   "metadata": {
    "id": "1f5accc1"
   },
   "outputs": [],
   "source": [
    "# Convert the pandas DataFrame to a numpy array\n",
    "salesDFNumPy = salesDFPrepared.to_numpy()"
   ]
  },
  {
   "cell_type": "code",
   "execution_count": 19,
   "id": "ae0ab3fb",
   "metadata": {
    "id": "xKqCboMMK2p-"
   },
   "outputs": [
    {
     "name": "stderr",
     "output_type": "stream",
     "text": [
      "OMP: Info #276: omp_set_nested routine deprecated, please use omp_set_max_active_levels instead.\n"
     ]
    }
   ],
   "source": [
    "# Call the function\n",
    "combs = getAllCombinationsNP(salesDFNumPy, blocksPerOneDay, numberOfDays)"
   ]
  },
  {
   "cell_type": "code",
   "execution_count": 20,
   "id": "aa83c8c5",
   "metadata": {
    "id": "988aec42"
   },
   "outputs": [],
   "source": [
    "pairwiseTransactions = combs[combs[:,0] != 0]"
   ]
  },
  {
   "cell_type": "code",
   "execution_count": 21,
   "id": "22ba2b7d",
   "metadata": {
    "id": "I9uGfgFQcF72"
   },
   "outputs": [],
   "source": [
    "# np.save('pairwise', pairwiseTransactions)"
   ]
  },
  {
   "cell_type": "code",
   "execution_count": 22,
   "id": "b8111192",
   "metadata": {
    "colab": {
     "base_uri": "https://localhost:8080/"
    },
    "id": "9df4a021",
    "outputId": "60c12631-6d98-4527-d343-10a069a8018d"
   },
   "outputs": [
    {
     "data": {
      "text/plain": [
       "(112205704, 6)"
      ]
     },
     "execution_count": 22,
     "metadata": {},
     "output_type": "execute_result"
    }
   ],
   "source": [
    "pairwiseTransactions.shape"
   ]
  },
  {
   "cell_type": "markdown",
   "id": "f1a998a9",
   "metadata": {
    "id": "TpTJkEOo5h30"
   },
   "source": [
    "## Calculating scores"
   ]
  },
  {
   "cell_type": "code",
   "execution_count": 23,
   "id": "7f9da0f3",
   "metadata": {
    "id": "kriHZsjPI_Kw"
   },
   "outputs": [],
   "source": [
    "def rarityToolsScore(traits_data):\n",
    "    tokenIdColumn = traits_data['Token Id']\n",
    "    traits_data = traits_data.drop('Token Id', axis=1)\n",
    "    if not('Trait count' in traits_data.columns):\n",
    "        traits_data['Trait count'] = traits_data.count(axis=1)\n",
    "    traits_data = traits_data.replace(np.nan, \"None\")\n",
    "    rarity_values = {}\n",
    "    for label in traits_data.columns:\n",
    "        trait_counts = traits_data[label].value_counts()\n",
    "        total_count = len(traits_data)\n",
    "        rarity = 1 / (trait_counts / total_count)\n",
    "        rarity_values[label + ' rarity score'] = traits_data[label].map(rarity)\n",
    "\n",
    "    rarityScores = pd.DataFrame(rarity_values)\n",
    "    rarityScores['Rarity score'] = rarityScores.sum(axis=\"columns\")\n",
    "    rarityScores['Token Id'] = tokenIdColumn\n",
    "    return rarityScores"
   ]
  },
  {
   "cell_type": "code",
   "execution_count": 24,
   "id": "1c58d6c8",
   "metadata": {},
   "outputs": [],
   "source": [
    "def calculateScores(traitsData):\n",
    "    traitScores = []\n",
    "    tokenIdColumn = traitsData['Token Id']\n",
    "    traitsData = traitsData.drop('Token Id', axis=1)\n",
    "    traitsData = traitsData.replace(np.nan, \"None\")\n",
    "    rarityValues = {}\n",
    "    for label in traitsData.columns:\n",
    "        scores = []\n",
    "        print('---------\\n' + label+'\\n')\n",
    "        scoresLabels = traitsData[label].value_counts().index.tolist()\n",
    "        traitsCount = traitsData[label].value_counts()\n",
    "\n",
    "        for i in range(len(traitsCount)):\n",
    "            scoresForI = []\n",
    "            for j in range(len(traitsCount)):\n",
    "                if i != j:\n",
    "                    scoresForI.append(traitsCount[j] / (traitsCount[i] + traitsCount[j]))\n",
    "            scoresForI = np.array(scoresForI)\n",
    "            # scores.append(np.average(scoresForI-1/2))\n",
    "            scores.append(np.average(scoresForI))\n",
    "        normalization = np.sum(np.multiply(scores, traitsCount)) / np.sum(traitsCount)\n",
    "        scores /= normalization\n",
    "        # scores = scores.tolist()\n",
    "        rarityValues[label + ' rarity score'] = traitsData[label].map((dict(zip(scoresLabels, scores))))\n",
    "    rarityScores=pd.DataFrame(rarityValues)\n",
    "    rarityScores['Rarity score'] = rarityScores.mean(axis=1)\n",
    "    rarityScores['Token Id'] = tokenIdColumn\n",
    "    return rarityScores"
   ]
  },
  {
   "cell_type": "code",
   "execution_count": 25,
   "id": "34e4bbed",
   "metadata": {
    "colab": {
     "base_uri": "https://localhost:8080/"
    },
    "id": "0ykk4eeY1eSG",
    "outputId": "1d8fca48-c12c-49b7-bbd3-c580b317141a",
    "scrolled": true
   },
   "outputs": [
    {
     "name": "stdout",
     "output_type": "stream",
     "text": [
      "---------\n",
      "Spirit\n",
      "\n",
      "---------\n",
      "Strength\n",
      "\n",
      "---------\n",
      "Style\n",
      "\n",
      "---------\n",
      "Extra\n",
      "\n",
      "---------\n",
      "Head\n",
      "\n",
      "---------\n",
      "Face\n",
      "\n",
      "---------\n",
      "Hair\n",
      "\n",
      "---------\n",
      "Wear\n",
      "\n",
      "---------\n",
      "Mouth\n",
      "\n",
      "---------\n",
      "Eyes\n",
      "\n",
      "---------\n",
      "Body\n",
      "\n",
      "---------\n",
      "Background\n",
      "\n",
      "---------\n",
      "Type\n",
      "\n",
      "---------\n",
      "Domain\n",
      "\n",
      "---------\n",
      "Helmet\n",
      "\n"
     ]
    }
   ],
   "source": [
    "traitsScores = calculateScores(metadataDF)"
   ]
  },
  {
   "cell_type": "code",
   "execution_count": 26,
   "id": "7b598976",
   "metadata": {
    "id": "ZM3G7wuv3_m9"
   },
   "outputs": [],
   "source": [
    "traitsScores = rarityToolsScore(metadataDF)"
   ]
  },
  {
   "cell_type": "markdown",
   "id": "ab1df772",
   "metadata": {
    "id": "lTzLBDVi5mq1"
   },
   "source": [
    "## Normalization"
   ]
  },
  {
   "cell_type": "code",
   "execution_count": 27,
   "id": "98b969d2",
   "metadata": {
    "id": "2GaHP-7IfSUr"
   },
   "outputs": [],
   "source": [
    "blockNumberDelta = pairwiseTransactions[:, 2] - pairwiseTransactions[:, 3]"
   ]
  },
  {
   "cell_type": "code",
   "execution_count": 28,
   "id": "6f94a6b6",
   "metadata": {
    "colab": {
     "base_uri": "https://localhost:8080/"
    },
    "id": "lpGvs8kagZKS",
    "outputId": "88df53aa-b99f-4f8b-faad-ccc6fda5e0ef"
   },
   "outputs": [
    {
     "data": {
      "text/plain": [
       "array([-79.0, -137.0, -199.0, ..., -1347.0, -2194.0, -847.0])"
      ]
     },
     "execution_count": 28,
     "metadata": {},
     "output_type": "execute_result"
    }
   ],
   "source": [
    "blockNumberDelta"
   ]
  },
  {
   "cell_type": "code",
   "execution_count": 29,
   "id": "ec890c2e",
   "metadata": {
    "id": "NMjYZ08S6XO7"
   },
   "outputs": [],
   "source": [
    "@njit(parallel=True)\n",
    "def kernelEpanechnikov(pairDeltasVector, dayLimit=7):\n",
    "    blockNumberLimit = dayLimit * blocksPerOneDay\n",
    "    resultVector = 3/4 * (np.power(1-np.abs(pairDeltasVector) / blockNumberLimit, 2))\n",
    "    return(resultVector)"
   ]
  },
  {
   "cell_type": "code",
   "execution_count": 30,
   "id": "c1b828f4",
   "metadata": {
    "id": "L0r67-KK9WDz"
   },
   "outputs": [],
   "source": [
    "weightsVector = kernelEpanechnikov(blockNumberDelta)"
   ]
  },
  {
   "cell_type": "code",
   "execution_count": 31,
   "id": "e62ac073",
   "metadata": {
    "colab": {
     "base_uri": "https://localhost:8080/"
    },
    "id": "o598SZJxhGKZ",
    "outputId": "b44c7bef-8680-49ba-ddb0-2f8ed1303279"
   },
   "outputs": [
    {
     "data": {
      "text/plain": [
       "(112205704,)"
      ]
     },
     "execution_count": 31,
     "metadata": {},
     "output_type": "execute_result"
    }
   ],
   "source": [
    "weightsVector.shape"
   ]
  },
  {
   "cell_type": "markdown",
   "id": "c85016b9",
   "metadata": {
    "id": "R1nMRUiEA6q2"
   },
   "source": [
    "## Relative functions, psi and phi"
   ]
  },
  {
   "cell_type": "code",
   "execution_count": 32,
   "id": "330d7a43",
   "metadata": {
    "id": "B7VEIwTBF7bt"
   },
   "outputs": [],
   "source": [
    "# psi function in vector form\n",
    "def relativePrice(priceOneVector, priceTwoVector):\n",
    "    return np.log(np.divide(priceOneVector, priceTwoVector))"
   ]
  },
  {
   "cell_type": "code",
   "execution_count": 33,
   "id": "68caffed",
   "metadata": {
    "id": "u-N7FmElhmL3"
   },
   "outputs": [],
   "source": [
    "scoresToWeight = ['Spirit rarity score', 'Strength rarity score', 'Style rarity score',\n",
    "                  'Extra rarity score', 'Head rarity score', 'Face rarity score',\n",
    "                  'Hair rarity score', 'Wear rarity score', 'Mouth rarity score',\n",
    "                  'Eyes rarity score', 'Body rarity score', 'Background rarity score',\n",
    "                  'Type rarity score', 'Domain rarity score', 'Helmet rarity score']"
   ]
  },
  {
   "cell_type": "code",
   "execution_count": 34,
   "id": "135571b0",
   "metadata": {
    "id": "zoFvuFiC9CTf"
   },
   "outputs": [],
   "source": [
    "scoresToWeightIndex = traitsScores.columns.get_indexer(scoresToWeight)\n",
    "tokenIdIndex = traitsScores.columns.get_indexer(['Token Id'])"
   ]
  },
  {
   "cell_type": "code",
   "execution_count": 35,
   "id": "08ae65c8",
   "metadata": {
    "id": "CF6GPU_ZmJwe"
   },
   "outputs": [],
   "source": [
    "traitsScoresNP = traitsScores.to_numpy(dtype=np.float64)\n",
    "traitsScoresNPRequired =traitsScoresNP[:, scoresToWeightIndex]\n",
    "traitsIdNP = traitsScoresNP[:, tokenIdIndex]"
   ]
  },
  {
   "cell_type": "code",
   "execution_count": 36,
   "id": "59553be2",
   "metadata": {
    "id": "Qt7BDdTknC3L"
   },
   "outputs": [],
   "source": [
    "idToScoreDict = {traitsIdNP[i][0]: traitsScoresNPRequired[i] for i in range(len(traitsIdNP))}"
   ]
  },
  {
   "cell_type": "code",
   "execution_count": 37,
   "id": "a826440e",
   "metadata": {
    "id": "-76O0a190393"
   },
   "outputs": [],
   "source": [
    "idToScoreDictNumba = Dict.empty(\n",
    "    key_type=types.float64,\n",
    "    value_type=types.float64[:],\n",
    ")\n",
    "\n",
    "\n",
    "for key in idToScoreDict:\n",
    "    idToScoreDictNumba[key] = idToScoreDict[key]"
   ]
  },
  {
   "cell_type": "code",
   "execution_count": 38,
   "id": "9828ee29",
   "metadata": {},
   "outputs": [],
   "source": [
    "@njit(parallel=False)\n",
    "def relativeRarityCalculation_second(pairwiseTransactions, idToScoreDict, lengthScore):\n",
    "    # second new approach\n",
    "    matrixOne = np.zeros((len(pairwiseTransactions), lengthScore))\n",
    "    matrixTwo = np.zeros((len(pairwiseTransactions), lengthScore))\n",
    "\n",
    "    for index in prange(len(pairwiseTransactions)):\n",
    "        matrixOne[index] = idToScoreDict[pairwiseTransactions[index, 0]]\n",
    "        matrixTwo[index] = idToScoreDict[pairwiseTransactions[index, 1]]\n",
    "\n",
    "    relativeRarityVector = np.zeros((len(pairwiseTransactions)))\n",
    "    # relativeRarityVector = np.log(np.divide((1+matrixOne), (1+matrixTwo)))\n",
    "    return np.log(np.divide((1+matrixOne), (1+matrixTwo)))"
   ]
  },
  {
   "cell_type": "code",
   "execution_count": 39,
   "id": "b9132bc3",
   "metadata": {
    "id": "AcAFu0piBupo"
   },
   "outputs": [],
   "source": [
    "# 12 sec\n",
    "testParallel = relativeRarityCalculation_second(pairwiseTransactions, idToScoreDictNumba, len(scoresToWeight))"
   ]
  },
  {
   "cell_type": "code",
   "execution_count": 40,
   "id": "fe9d778f",
   "metadata": {
    "id": "t_HnZ1QJ7ahu"
   },
   "outputs": [],
   "source": [
    "# 9 sec\n",
    "relativeRarityMatrix = testParallel"
   ]
  },
  {
   "cell_type": "code",
   "execution_count": 41,
   "id": "93ff56ed",
   "metadata": {
    "colab": {
     "base_uri": "https://localhost:8080/"
    },
    "id": "Axb2HmH6-8NX",
    "outputId": "c9d1d629-b2e1-4079-a676-cb638058cfa0"
   },
   "outputs": [],
   "source": [
    "# psi function in vector form\n",
    "@njit(parallel=True)\n",
    "def relativePrice(priceOneVector, priceTwoVector):\n",
    "    return np.log(np.divide(priceOneVector, priceTwoVector))"
   ]
  },
  {
   "cell_type": "code",
   "execution_count": 42,
   "id": "f5aa5e5b",
   "metadata": {
    "id": "IdMVTl5f-_lE"
   },
   "outputs": [],
   "source": [
    "relativePriceVector = relativePrice(pairwiseTransactions[:, 4], pairwiseTransactions[:, 5])"
   ]
  },
  {
   "cell_type": "code",
   "execution_count": 86,
   "id": "d9928f1f",
   "metadata": {},
   "outputs": [
    {
     "data": {
      "text/plain": [
       "80500"
      ]
     },
     "execution_count": 86,
     "metadata": {},
     "output_type": "execute_result"
    }
   ],
   "source": [
    "len(pairwiseTransactions[:, 4][np.where(pairwiseTransactions[:, 4] == 0)])"
   ]
  },
  {
   "cell_type": "code",
   "execution_count": 81,
   "id": "6d247117",
   "metadata": {},
   "outputs": [
    {
     "name": "stderr",
     "output_type": "stream",
     "text": [
      "/var/folders/3f/t650d10s0cv07w_48wd8qlb00000gn/T/ipykernel_82841/3387905236.py:1: RuntimeWarning: divide by zero encountered in divide\n",
      "  divd = np.divide(pairwiseTransactions[:, 4], pairwiseTransactions[:, 5])\n",
      "/var/folders/3f/t650d10s0cv07w_48wd8qlb00000gn/T/ipykernel_82841/3387905236.py:1: RuntimeWarning: invalid value encountered in divide\n",
      "  divd = np.divide(pairwiseTransactions[:, 4], pairwiseTransactions[:, 5])\n"
     ]
    }
   ],
   "source": [
    "divd = np.divide(pairwiseTransactions[:, 4], pairwiseTransactions[:, 5])"
   ]
  },
  {
   "cell_type": "code",
   "execution_count": 80,
   "id": "b261fd6e",
   "metadata": {},
   "outputs": [
    {
     "name": "stderr",
     "output_type": "stream",
     "text": [
      "/var/folders/3f/t650d10s0cv07w_48wd8qlb00000gn/T/ipykernel_82841/3381100303.py:1: RuntimeWarning: divide by zero encountered in divide\n",
      "  np.any(np.isnan(np.divide(pairwiseTransactions[:, 4], pairwiseTransactions[:, 5])))\n",
      "/var/folders/3f/t650d10s0cv07w_48wd8qlb00000gn/T/ipykernel_82841/3381100303.py:1: RuntimeWarning: invalid value encountered in divide\n",
      "  np.any(np.isnan(np.divide(pairwiseTransactions[:, 4], pairwiseTransactions[:, 5])))\n"
     ]
    },
    {
     "data": {
      "text/plain": [
       "True"
      ]
     },
     "execution_count": 80,
     "metadata": {},
     "output_type": "execute_result"
    }
   ],
   "source": [
    "np.any(np.isnan(np.divide(pairwiseTransactions[:, 4], pairwiseTransactions[:, 5])))"
   ]
  },
  {
   "cell_type": "markdown",
   "id": "80e19ece",
   "metadata": {
    "id": "X8DBlo2ea3QF"
   },
   "source": [
    "## Weighted Correlation"
   ]
  },
  {
   "cell_type": "code",
   "execution_count": 43,
   "id": "657dc097",
   "metadata": {},
   "outputs": [],
   "source": [
    "@njit(parallel=True)\n",
    "def vectorNormalization(xVector, weightVector):\n",
    "    weigtedMean = np.average(xVector, weights = weightVector)\n",
    "    return (xVector - weigtedMean)"
   ]
  },
  {
   "cell_type": "code",
   "execution_count": 44,
   "id": "e3c5cea2",
   "metadata": {
    "id": "6uLBvFt8m7pM"
   },
   "outputs": [],
   "source": [
    "@njit(parallel=True)\n",
    "def matrixNormalization(matrix, weightsVector):\n",
    "    for i in prange(len(matrix[0])):\n",
    "        matrix[:, i] = vectorNormalization(matrix[:, i], weightsVector)\n",
    "    return matrix"
   ]
  },
  {
   "cell_type": "code",
   "execution_count": 45,
   "id": "49d5e195",
   "metadata": {
    "id": "0VfFJeqV-oJr"
   },
   "outputs": [],
   "source": [
    "relativeRarityMatrixNormalized = matrixNormalization(relativeRarityMatrix, weightsVector)"
   ]
  },
  {
   "cell_type": "code",
   "execution_count": 46,
   "id": "561b2654",
   "metadata": {},
   "outputs": [
    {
     "data": {
      "text/plain": [
       "(112205704, 15)"
      ]
     },
     "execution_count": 46,
     "metadata": {},
     "output_type": "execute_result"
    }
   ],
   "source": [
    "relativeRarityMatrixNormalized.shape"
   ]
  },
  {
   "cell_type": "code",
   "execution_count": 47,
   "id": "dc121a15",
   "metadata": {
    "id": "CSJftuPDdIIW"
   },
   "outputs": [],
   "source": [
    "@njit(parallel=False)\n",
    "def weightedCorrelationCalculation(xVector, yVector, weightsVector):\n",
    "    # Calculate weighted means\n",
    "\n",
    "    wX = np.average(xVector, weights = weightsVector)\n",
    "    wY = np.average(yVector, weights = weightsVector)\n",
    "    \n",
    "    # Calculate numer and denom\n",
    "    num = np.sum(weightsVector * (xVector - wX) * (yVector - wY)) \n",
    "\n",
    "    denomX = np.sqrt(np.sum(weightsVector * np.power((xVector - wX), 2)))\n",
    "    denomY = np.sqrt(np.sum(weightsVector * np.power((yVector - wY), 2)))\n",
    "    denom = denomX * denomY\n",
    "    \n",
    "    # Calculate weighted correlation\n",
    "    wcorr = num / denom\n",
    "    \n",
    "    return wcorr"
   ]
  },
  {
   "cell_type": "code",
   "execution_count": 48,
   "id": "72236513",
   "metadata": {},
   "outputs": [],
   "source": [
    "import torch"
   ]
  },
  {
   "cell_type": "code",
   "execution_count": 49,
   "id": "93bf2eb5",
   "metadata": {},
   "outputs": [],
   "source": [
    "def weightedCorrelationCalculation_torch(xVector, yVector, weightsVector):\n",
    "   # Calculate weighted means\n",
    "\n",
    "    wX = torch.mean(xVector * weightsVector)\n",
    "    wY = torch.mean(yVector * weightsVector)\n",
    "\n",
    "    # Calculate numer and denom\n",
    "    num = torch.sum(weightsVector * (xVector - wX) * (yVector - wY))\n",
    "\n",
    "    denomX = torch.sqrt(torch.sum(weightsVector * torch.pow((xVector - wX), 2)))\n",
    "    denomY = torch.sqrt(torch.sum(weightsVector * torch.pow((yVector - wY), 2)))\n",
    "    denom = denomX * denomY\n",
    "\n",
    "    # Calculate weighted correlation\n",
    "    wcorr = num / denom\n",
    "\n",
    "    return wcorr"
   ]
  },
  {
   "cell_type": "code",
   "execution_count": 50,
   "id": "0e38e6a5",
   "metadata": {
    "id": "VSzbur60FwVK"
   },
   "outputs": [],
   "source": [
    "# as I understand this function, objective, is calculating the \n",
    "# weighted correlation for the given coefficients and rarity scores\n",
    "# thus, this is the function we neeed to minimize\n",
    "def objectiveToMinimize(coefficientsVector, rarityMatrix, relativePriceVector, weightVector):\n",
    "  # as for N traits we need only N-1 coefficients,\n",
    "  # we have to append N-th coefficient\n",
    "    coefficientsVector = np.append(coefficientsVector, 1-np.sum(coefficientsVector))\n",
    "    return -weightedCorrelationCalculation(\n",
    "        np.matmul(rarityMatrix, coefficientsVector), relativePriceVector, weightVector\n",
    "    )"
   ]
  },
  {
   "cell_type": "code",
   "execution_count": 51,
   "id": "82237f08",
   "metadata": {
    "colab": {
     "base_uri": "https://localhost:8080/",
     "height": 201
    },
    "id": "UEmP0EisLJIc",
    "outputId": "214438ba-df85-40ab-dcd8-cf92b57b3b5d"
   },
   "outputs": [],
   "source": [
    "# performing exactly the same cell as before, but this time, using objective function.\n",
    "# the output should be exactly the same, but with the opposite sign.\n",
    "\n",
    "# example of coefficients: 3 traits, then coefficientVector = [1/3, 1/3]\n",
    "coefficientsVector = np.full(len(relativeRarityMatrix[0])-1, 1/len(relativeRarityMatrix[0]))"
   ]
  },
  {
   "cell_type": "code",
   "execution_count": 52,
   "id": "118670f1",
   "metadata": {
    "colab": {
     "base_uri": "https://localhost:8080/",
     "height": 312
    },
    "id": "-yk2XFRKXlLM",
    "outputId": "70eb81e1-6c83-4219-a629-19bee95915e3"
   },
   "outputs": [
    {
     "data": {
      "text/plain": [
       "[array([[1, 0, 0, 0, 0, 0, 0, 0, 0, 0, 0, 0, 0, 0],\n",
       "        [0, 1, 0, 0, 0, 0, 0, 0, 0, 0, 0, 0, 0, 0],\n",
       "        [0, 0, 1, 0, 0, 0, 0, 0, 0, 0, 0, 0, 0, 0],\n",
       "        [0, 0, 0, 1, 0, 0, 0, 0, 0, 0, 0, 0, 0, 0],\n",
       "        [0, 0, 0, 0, 1, 0, 0, 0, 0, 0, 0, 0, 0, 0],\n",
       "        [0, 0, 0, 0, 0, 1, 0, 0, 0, 0, 0, 0, 0, 0],\n",
       "        [0, 0, 0, 0, 0, 0, 1, 0, 0, 0, 0, 0, 0, 0],\n",
       "        [0, 0, 0, 0, 0, 0, 0, 1, 0, 0, 0, 0, 0, 0],\n",
       "        [0, 0, 0, 0, 0, 0, 0, 0, 1, 0, 0, 0, 0, 0],\n",
       "        [0, 0, 0, 0, 0, 0, 0, 0, 0, 1, 0, 0, 0, 0],\n",
       "        [0, 0, 0, 0, 0, 0, 0, 0, 0, 0, 1, 0, 0, 0],\n",
       "        [0, 0, 0, 0, 0, 0, 0, 0, 0, 0, 0, 1, 0, 0],\n",
       "        [0, 0, 0, 0, 0, 0, 0, 0, 0, 0, 0, 0, 1, 0],\n",
       "        [0, 0, 0, 0, 0, 0, 0, 0, 0, 0, 0, 0, 0, 1],\n",
       "        [1, 1, 1, 1, 1, 1, 1, 1, 1, 1, 1, 1, 1, 1]]),\n",
       " array([0, 0, 0, 0, 0, 0, 0, 0, 0, 0, 0, 0, 0, 0, 0]),\n",
       " array([1, 1, 1, 1, 1, 1, 1, 1, 1, 1, 1, 1, 1, 1, 1])]"
      ]
     },
     "metadata": {},
     "output_type": "display_data"
    }
   ],
   "source": [
    "# optimization part\n",
    "\n",
    "# first we have to define linearConstraints, why are they like this I dunno\n",
    "# example 4 traits --> [[0, 0, 1], [0, 1, 0], [1, 0, 0], [1, 1, 1]], [0, 0, 0, 0], [1, 1, 1, 1]\n",
    "# so permutations of len(#traits)-1, where 1 is moving to all possble positions and full ones\n",
    "# and full 0 and 1 arrays of len(#traits)\n",
    "\n",
    "numberOfFreeCoefficients = len(relativeRarityMatrix[0])-1\n",
    "\n",
    "def generatePermutations(n):\n",
    "    combinations = np.eye(n, dtype=int)    \n",
    "    all_ones = np.ones(n, dtype=int)\n",
    "      \n",
    "    combinations = np.concatenate((combinations, all_ones[np.newaxis, :]), axis=0)\n",
    "    return combinations\n",
    "\n",
    "linearConstraints = list()\n",
    "linearConstraints.append(generatePermutations(numberOfFreeCoefficients))\n",
    "\n",
    "\n",
    "linearConstraints.append(np.full(numberOfFreeCoefficients+1, 0))\n",
    "linearConstraints.append(np.full(numberOfFreeCoefficients+1, 1))\n",
    "display(linearConstraints)"
   ]
  },
  {
   "cell_type": "code",
   "execution_count": 53,
   "id": "2d610776",
   "metadata": {
    "id": "SwYUbdyTQvcw"
   },
   "outputs": [],
   "source": [
    "from scipy.optimize import LinearConstraint #, minimize\n",
    "from torchmin import minimize_constr"
   ]
  },
  {
   "cell_type": "code",
   "execution_count": 54,
   "id": "18be5aa9",
   "metadata": {
    "id": "l7VFkKlyQahs"
   },
   "outputs": [],
   "source": [
    "coefficientsStart = coefficientsVector\n",
    "linearConstraints = LinearConstraint(linearConstraints[0], linearConstraints[1], linearConstraints[2])"
   ]
  },
  {
   "cell_type": "code",
   "execution_count": 55,
   "id": "bf4b65db",
   "metadata": {},
   "outputs": [],
   "source": [
    "from functools import partial"
   ]
  },
  {
   "cell_type": "code",
   "execution_count": 56,
   "id": "fc5cbecc",
   "metadata": {},
   "outputs": [],
   "source": [
    "def objectiveToMinimize_torch(rarityMatrix, relativePriceVector, weightVector, coefficientsVector):\n",
    "    coefficientsVector = torch.cat((coefficientsVector, (1-torch.sum(coefficientsVector)).unsqueeze(0)))\n",
    "    return -weightedCorrelationCalculation_torch(\n",
    "        torch.matmul(rarityMatrix, coefficientsVector), relativePriceVector, weightVector\n",
    "    )"
   ]
  },
  {
   "cell_type": "code",
   "execution_count": 57,
   "id": "beaf56f5",
   "metadata": {},
   "outputs": [],
   "source": [
    "coefficientsStart_torch = torch.from_numpy(coefficientsStart)\n",
    "relativeRarityMatrix_torch = torch.from_numpy(relativeRarityMatrix)\n",
    "relativePriceVector_torch = torch.from_numpy(relativePriceVector)\n",
    "weightsVector_torch = torch.from_numpy(weightsVector)\n",
    "objectiveToMinimize_torch = partial(objectiveToMinimize_torch, relativeRarityMatrix_torch, relativePriceVector_torch, weightsVector_torch)"
   ]
  },
  {
   "cell_type": "code",
   "execution_count": 58,
   "id": "6ed27355",
   "metadata": {},
   "outputs": [],
   "source": [
    "coefficientsStart_torch = torch.cat((coefficientsStart_torch, (1-torch.sum(coefficientsStart_torch)).unsqueeze(0)))"
   ]
  },
  {
   "cell_type": "code",
   "execution_count": 219,
   "id": "4d79e850",
   "metadata": {},
   "outputs": [
    {
     "data": {
      "text/plain": [
       "tensor(nan, dtype=torch.float64)"
      ]
     },
     "execution_count": 219,
     "metadata": {},
     "output_type": "execute_result"
    }
   ],
   "source": [
    "objectiveToMinimize_torch(coefficientsStart_torch)"
   ]
  },
  {
   "cell_type": "code",
   "execution_count": 59,
   "id": "cb6a9aee",
   "metadata": {},
   "outputs": [],
   "source": [
    "xVector = torch.matmul(relativeRarityMatrix_torch, coefficientsStart_torch)\n",
    "yVector = relativePriceVector_torch\n",
    "weightsVector = weightsVector_torch"
   ]
  },
  {
   "cell_type": "code",
   "execution_count": 60,
   "id": "bb3ef5d6",
   "metadata": {},
   "outputs": [],
   "source": [
    "wX = torch.dot(weightsVector, xVector) / torch.sum(weightsVector) \n",
    "wY = torch.dot(weightsVector, yVector) / torch.sum(weightsVector) "
   ]
  },
  {
   "cell_type": "code",
   "execution_count": 68,
   "id": "52153baa",
   "metadata": {},
   "outputs": [
    {
     "data": {
      "text/plain": [
       "tensor(True)"
      ]
     },
     "execution_count": 68,
     "metadata": {},
     "output_type": "execute_result"
    }
   ],
   "source": [
    "torch.any(torch.isnan(yVector))"
   ]
  },
  {
   "cell_type": "code",
   "execution_count": 70,
   "id": "de9a2eae",
   "metadata": {},
   "outputs": [
    {
     "data": {
      "text/plain": [
       "tensor([-0.3365, -0.6617, -0.4055,  ..., -0.2645, -0.0795,  0.1849],\n",
       "       dtype=torch.float64)"
      ]
     },
     "execution_count": 70,
     "metadata": {},
     "output_type": "execute_result"
    }
   ],
   "source": [
    "yVector"
   ]
  },
  {
   "cell_type": "code",
   "execution_count": null,
   "id": "73005fae",
   "metadata": {},
   "outputs": [],
   "source": []
  },
  {
   "cell_type": "code",
   "execution_count": null,
   "id": "e3279e0c",
   "metadata": {},
   "outputs": [],
   "source": []
  },
  {
   "cell_type": "code",
   "execution_count": null,
   "id": "fc30ab0b",
   "metadata": {},
   "outputs": [],
   "source": []
  },
  {
   "cell_type": "code",
   "execution_count": 234,
   "id": "9e91509d",
   "metadata": {},
   "outputs": [
    {
     "data": {
      "text/plain": [
       "tensor(nan, dtype=torch.float64)"
      ]
     },
     "execution_count": 234,
     "metadata": {},
     "output_type": "execute_result"
    }
   ],
   "source": [
    "-weightedCorrelationCalculation_torch(\n",
    "    torch.matmul(relativeRarityMatrix_torch, coefficientsStart_torch), relativePriceVector_torch, weightsVector_torch\n",
    ")"
   ]
  },
  {
   "cell_type": "code",
   "execution_count": 233,
   "id": "92d4e15b",
   "metadata": {},
   "outputs": [
    {
     "data": {
      "text/plain": [
       "tensor([0.7472, 0.7451, 0.7429,  ..., 0.7027, 0.6737, 0.7201],\n",
       "       dtype=torch.float64)"
      ]
     },
     "execution_count": 233,
     "metadata": {},
     "output_type": "execute_result"
    }
   ],
   "source": [
    "weightsVector_torch"
   ]
  },
  {
   "cell_type": "code",
   "execution_count": 231,
   "id": "d9db2263",
   "metadata": {},
   "outputs": [
    {
     "data": {
      "text/plain": [
       "torch.Size([15])"
      ]
     },
     "execution_count": 231,
     "metadata": {},
     "output_type": "execute_result"
    }
   ],
   "source": [
    "coefficientsStart_torch.shape"
   ]
  },
  {
   "cell_type": "code",
   "execution_count": null,
   "id": "ec7487dd",
   "metadata": {},
   "outputs": [],
   "source": []
  },
  {
   "cell_type": "code",
   "execution_count": null,
   "id": "1af9073f",
   "metadata": {},
   "outputs": [],
   "source": []
  },
  {
   "cell_type": "code",
   "execution_count": 170,
   "id": "5a4c03c7",
   "metadata": {
    "scrolled": false
   },
   "outputs": [
    {
     "ename": "RuntimeError",
     "evalue": "zero-dimensional tensor (at position 1) cannot be concatenated",
     "output_type": "error",
     "traceback": [
      "\u001b[0;31m---------------------------------------------------------------------------\u001b[0m",
      "\u001b[0;31mRuntimeError\u001b[0m                              Traceback (most recent call last)",
      "Cell \u001b[0;32mIn[170], line 2\u001b[0m\n\u001b[1;32m      1\u001b[0m \u001b[38;5;66;03m# torch\u001b[39;00m\n\u001b[0;32m----> 2\u001b[0m minimizationResults \u001b[38;5;241m=\u001b[39m \u001b[43mminimize_constr\u001b[49m\u001b[43m(\u001b[49m\n\u001b[1;32m      3\u001b[0m \u001b[43m    \u001b[49m\u001b[43mobjectiveToMinimize_torch\u001b[49m\u001b[43m,\u001b[49m\u001b[43m \u001b[49m\u001b[43mx0\u001b[49m\u001b[38;5;241;43m=\u001b[39;49m\u001b[43mcoefficientsStart_torch\u001b[49m\u001b[43m,\u001b[49m\n\u001b[1;32m      4\u001b[0m \u001b[43m)\u001b[49m\n\u001b[1;32m      5\u001b[0m display(minimizationResults)\n",
      "File \u001b[0;32m~/miniforge3/lib/python3.9/site-packages/torch/autograd/grad_mode.py:27\u001b[0m, in \u001b[0;36m_DecoratorContextManager.__call__.<locals>.decorate_context\u001b[0;34m(*args, **kwargs)\u001b[0m\n\u001b[1;32m     24\u001b[0m \u001b[38;5;129m@functools\u001b[39m\u001b[38;5;241m.\u001b[39mwraps(func)\n\u001b[1;32m     25\u001b[0m \u001b[38;5;28;01mdef\u001b[39;00m \u001b[38;5;21mdecorate_context\u001b[39m(\u001b[38;5;241m*\u001b[39margs, \u001b[38;5;241m*\u001b[39m\u001b[38;5;241m*\u001b[39mkwargs):\n\u001b[1;32m     26\u001b[0m     \u001b[38;5;28;01mwith\u001b[39;00m \u001b[38;5;28mself\u001b[39m\u001b[38;5;241m.\u001b[39mclone():\n\u001b[0;32m---> 27\u001b[0m         \u001b[38;5;28;01mreturn\u001b[39;00m \u001b[43mfunc\u001b[49m\u001b[43m(\u001b[49m\u001b[38;5;241;43m*\u001b[39;49m\u001b[43margs\u001b[49m\u001b[43m,\u001b[49m\u001b[43m \u001b[49m\u001b[38;5;241;43m*\u001b[39;49m\u001b[38;5;241;43m*\u001b[39;49m\u001b[43mkwargs\u001b[49m\u001b[43m)\u001b[49m\n",
      "File \u001b[0;32m~/miniforge3/lib/python3.9/site-packages/torchmin/minimize_constr.py:216\u001b[0m, in \u001b[0;36mminimize_constr\u001b[0;34m(f, x0, constr, bounds, max_iter, tol, callback, disp, **kwargs)\u001b[0m\n\u001b[1;32m    214\u001b[0m \u001b[38;5;66;03m# optimize\u001b[39;00m\n\u001b[1;32m    215\u001b[0m x0_np \u001b[38;5;241m=\u001b[39m x0\u001b[38;5;241m.\u001b[39mcpu()\u001b[38;5;241m.\u001b[39mnumpy()\u001b[38;5;241m.\u001b[39mflatten()\u001b[38;5;241m.\u001b[39mcopy()\n\u001b[0;32m--> 216\u001b[0m result \u001b[38;5;241m=\u001b[39m \u001b[43mminimize\u001b[49m\u001b[43m(\u001b[49m\n\u001b[1;32m    217\u001b[0m \u001b[43m    \u001b[49m\u001b[43mf_with_jac\u001b[49m\u001b[43m,\u001b[49m\u001b[43m \u001b[49m\u001b[43mx0_np\u001b[49m\u001b[43m,\u001b[49m\u001b[43m \u001b[49m\u001b[43mmethod\u001b[49m\u001b[38;5;241;43m=\u001b[39;49m\u001b[38;5;124;43m'\u001b[39;49m\u001b[38;5;124;43mtrust-constr\u001b[39;49m\u001b[38;5;124;43m'\u001b[39;49m\u001b[43m,\u001b[49m\u001b[43m \u001b[49m\u001b[43mjac\u001b[49m\u001b[38;5;241;43m=\u001b[39;49m\u001b[38;5;28;43;01mTrue\u001b[39;49;00m\u001b[43m,\u001b[49m\n\u001b[1;32m    218\u001b[0m \u001b[43m    \u001b[49m\u001b[43mhess\u001b[49m\u001b[38;5;241;43m=\u001b[39;49m\u001b[43mf_hess\u001b[49m\u001b[43m,\u001b[49m\u001b[43m \u001b[49m\u001b[43mcallback\u001b[49m\u001b[38;5;241;43m=\u001b[39;49m\u001b[43mcallback\u001b[49m\u001b[43m,\u001b[49m\u001b[43m \u001b[49m\u001b[43mtol\u001b[49m\u001b[38;5;241;43m=\u001b[39;49m\u001b[43mtol\u001b[49m\u001b[43m,\u001b[49m\n\u001b[1;32m    219\u001b[0m \u001b[43m    \u001b[49m\u001b[43mbounds\u001b[49m\u001b[38;5;241;43m=\u001b[39;49m\u001b[43mbounds\u001b[49m\u001b[43m,\u001b[49m\n\u001b[1;32m    220\u001b[0m \u001b[43m    \u001b[49m\u001b[43mconstraints\u001b[49m\u001b[38;5;241;43m=\u001b[39;49m\u001b[43mconstraints\u001b[49m\u001b[43m,\u001b[49m\n\u001b[1;32m    221\u001b[0m \u001b[43m    \u001b[49m\u001b[43moptions\u001b[49m\u001b[38;5;241;43m=\u001b[39;49m\u001b[38;5;28;43mdict\u001b[39;49m\u001b[43m(\u001b[49m\u001b[43mverbose\u001b[49m\u001b[38;5;241;43m=\u001b[39;49m\u001b[38;5;28;43mint\u001b[39;49m\u001b[43m(\u001b[49m\u001b[43mdisp\u001b[49m\u001b[43m)\u001b[49m\u001b[43m,\u001b[49m\u001b[43m \u001b[49m\u001b[43mmaxiter\u001b[49m\u001b[38;5;241;43m=\u001b[39;49m\u001b[43mmax_iter\u001b[49m\u001b[43m,\u001b[49m\u001b[43m \u001b[49m\u001b[38;5;241;43m*\u001b[39;49m\u001b[38;5;241;43m*\u001b[39;49m\u001b[43mkwargs\u001b[49m\u001b[43m)\u001b[49m\n\u001b[1;32m    222\u001b[0m \u001b[43m\u001b[49m\u001b[43m)\u001b[49m\n\u001b[1;32m    224\u001b[0m \u001b[38;5;66;03m# convert the important things to torch tensors\u001b[39;00m\n\u001b[1;32m    225\u001b[0m \u001b[38;5;28;01mfor\u001b[39;00m key \u001b[38;5;129;01min\u001b[39;00m [\u001b[38;5;124m'\u001b[39m\u001b[38;5;124mfun\u001b[39m\u001b[38;5;124m'\u001b[39m, \u001b[38;5;124m'\u001b[39m\u001b[38;5;124mgrad\u001b[39m\u001b[38;5;124m'\u001b[39m, \u001b[38;5;124m'\u001b[39m\u001b[38;5;124mx\u001b[39m\u001b[38;5;124m'\u001b[39m]:\n",
      "File \u001b[0;32m~/miniforge3/lib/python3.9/site-packages/scipy/optimize/_minimize.py:708\u001b[0m, in \u001b[0;36mminimize\u001b[0;34m(fun, x0, args, method, jac, hess, hessp, bounds, constraints, tol, callback, options)\u001b[0m\n\u001b[1;32m    705\u001b[0m     res \u001b[38;5;241m=\u001b[39m _minimize_slsqp(fun, x0, args, jac, bounds,\n\u001b[1;32m    706\u001b[0m                           constraints, callback\u001b[38;5;241m=\u001b[39mcallback, \u001b[38;5;241m*\u001b[39m\u001b[38;5;241m*\u001b[39moptions)\n\u001b[1;32m    707\u001b[0m \u001b[38;5;28;01melif\u001b[39;00m meth \u001b[38;5;241m==\u001b[39m \u001b[38;5;124m'\u001b[39m\u001b[38;5;124mtrust-constr\u001b[39m\u001b[38;5;124m'\u001b[39m:\n\u001b[0;32m--> 708\u001b[0m     res \u001b[38;5;241m=\u001b[39m \u001b[43m_minimize_trustregion_constr\u001b[49m\u001b[43m(\u001b[49m\u001b[43mfun\u001b[49m\u001b[43m,\u001b[49m\u001b[43m \u001b[49m\u001b[43mx0\u001b[49m\u001b[43m,\u001b[49m\u001b[43m \u001b[49m\u001b[43margs\u001b[49m\u001b[43m,\u001b[49m\u001b[43m \u001b[49m\u001b[43mjac\u001b[49m\u001b[43m,\u001b[49m\u001b[43m \u001b[49m\u001b[43mhess\u001b[49m\u001b[43m,\u001b[49m\u001b[43m \u001b[49m\u001b[43mhessp\u001b[49m\u001b[43m,\u001b[49m\n\u001b[1;32m    709\u001b[0m \u001b[43m                                       \u001b[49m\u001b[43mbounds\u001b[49m\u001b[43m,\u001b[49m\u001b[43m \u001b[49m\u001b[43mconstraints\u001b[49m\u001b[43m,\u001b[49m\n\u001b[1;32m    710\u001b[0m \u001b[43m                                       \u001b[49m\u001b[43mcallback\u001b[49m\u001b[38;5;241;43m=\u001b[39;49m\u001b[43mcallback\u001b[49m\u001b[43m,\u001b[49m\u001b[43m \u001b[49m\u001b[38;5;241;43m*\u001b[39;49m\u001b[38;5;241;43m*\u001b[39;49m\u001b[43moptions\u001b[49m\u001b[43m)\u001b[49m\n\u001b[1;32m    711\u001b[0m \u001b[38;5;28;01melif\u001b[39;00m meth \u001b[38;5;241m==\u001b[39m \u001b[38;5;124m'\u001b[39m\u001b[38;5;124mdogleg\u001b[39m\u001b[38;5;124m'\u001b[39m:\n\u001b[1;32m    712\u001b[0m     res \u001b[38;5;241m=\u001b[39m _minimize_dogleg(fun, x0, args, jac, hess,\n\u001b[1;32m    713\u001b[0m                            callback\u001b[38;5;241m=\u001b[39mcallback, \u001b[38;5;241m*\u001b[39m\u001b[38;5;241m*\u001b[39moptions)\n",
      "File \u001b[0;32m~/miniforge3/lib/python3.9/site-packages/scipy/optimize/_trustregion_constr/minimize_trustregion_constr.py:332\u001b[0m, in \u001b[0;36m_minimize_trustregion_constr\u001b[0;34m(fun, x0, args, grad, hess, hessp, bounds, constraints, xtol, gtol, barrier_tol, sparse_jacobian, callback, maxiter, verbose, finite_diff_rel_step, initial_constr_penalty, initial_tr_radius, initial_barrier_parameter, initial_barrier_tolerance, factorization_method, disp)\u001b[0m\n\u001b[1;32m    329\u001b[0m     finite_diff_bounds \u001b[38;5;241m=\u001b[39m (\u001b[38;5;241m-\u001b[39mnp\u001b[38;5;241m.\u001b[39minf, np\u001b[38;5;241m.\u001b[39minf)\n\u001b[1;32m    331\u001b[0m \u001b[38;5;66;03m# Define Objective Function\u001b[39;00m\n\u001b[0;32m--> 332\u001b[0m objective \u001b[38;5;241m=\u001b[39m \u001b[43mScalarFunction\u001b[49m\u001b[43m(\u001b[49m\u001b[43mfun\u001b[49m\u001b[43m,\u001b[49m\u001b[43m \u001b[49m\u001b[43mx0\u001b[49m\u001b[43m,\u001b[49m\u001b[43m \u001b[49m\u001b[43margs\u001b[49m\u001b[43m,\u001b[49m\u001b[43m \u001b[49m\u001b[43mgrad\u001b[49m\u001b[43m,\u001b[49m\u001b[43m \u001b[49m\u001b[43mhess\u001b[49m\u001b[43m,\u001b[49m\n\u001b[1;32m    333\u001b[0m \u001b[43m                           \u001b[49m\u001b[43mfinite_diff_rel_step\u001b[49m\u001b[43m,\u001b[49m\u001b[43m \u001b[49m\u001b[43mfinite_diff_bounds\u001b[49m\u001b[43m)\u001b[49m\n\u001b[1;32m    335\u001b[0m \u001b[38;5;66;03m# Put constraints in list format when needed.\u001b[39;00m\n\u001b[1;32m    336\u001b[0m \u001b[38;5;28;01mif\u001b[39;00m \u001b[38;5;28misinstance\u001b[39m(constraints, (NonlinearConstraint, LinearConstraint)):\n",
      "File \u001b[0;32m~/miniforge3/lib/python3.9/site-packages/scipy/optimize/_differentiable_functions.py:158\u001b[0m, in \u001b[0;36mScalarFunction.__init__\u001b[0;34m(self, fun, x0, args, grad, hess, finite_diff_rel_step, finite_diff_bounds, epsilon)\u001b[0m\n\u001b[1;32m    155\u001b[0m     \u001b[38;5;28mself\u001b[39m\u001b[38;5;241m.\u001b[39mf \u001b[38;5;241m=\u001b[39m fun_wrapped(\u001b[38;5;28mself\u001b[39m\u001b[38;5;241m.\u001b[39mx)\n\u001b[1;32m    157\u001b[0m \u001b[38;5;28mself\u001b[39m\u001b[38;5;241m.\u001b[39m_update_fun_impl \u001b[38;5;241m=\u001b[39m update_fun\n\u001b[0;32m--> 158\u001b[0m \u001b[38;5;28;43mself\u001b[39;49m\u001b[38;5;241;43m.\u001b[39;49m\u001b[43m_update_fun\u001b[49m\u001b[43m(\u001b[49m\u001b[43m)\u001b[49m\n\u001b[1;32m    160\u001b[0m \u001b[38;5;66;03m# Gradient evaluation\u001b[39;00m\n\u001b[1;32m    161\u001b[0m \u001b[38;5;28;01mif\u001b[39;00m callable(grad):\n",
      "File \u001b[0;32m~/miniforge3/lib/python3.9/site-packages/scipy/optimize/_differentiable_functions.py:251\u001b[0m, in \u001b[0;36mScalarFunction._update_fun\u001b[0;34m(self)\u001b[0m\n\u001b[1;32m    249\u001b[0m \u001b[38;5;28;01mdef\u001b[39;00m \u001b[38;5;21m_update_fun\u001b[39m(\u001b[38;5;28mself\u001b[39m):\n\u001b[1;32m    250\u001b[0m     \u001b[38;5;28;01mif\u001b[39;00m \u001b[38;5;129;01mnot\u001b[39;00m \u001b[38;5;28mself\u001b[39m\u001b[38;5;241m.\u001b[39mf_updated:\n\u001b[0;32m--> 251\u001b[0m         \u001b[38;5;28;43mself\u001b[39;49m\u001b[38;5;241;43m.\u001b[39;49m\u001b[43m_update_fun_impl\u001b[49m\u001b[43m(\u001b[49m\u001b[43m)\u001b[49m\n\u001b[1;32m    252\u001b[0m         \u001b[38;5;28mself\u001b[39m\u001b[38;5;241m.\u001b[39mf_updated \u001b[38;5;241m=\u001b[39m \u001b[38;5;28;01mTrue\u001b[39;00m\n",
      "File \u001b[0;32m~/miniforge3/lib/python3.9/site-packages/scipy/optimize/_differentiable_functions.py:155\u001b[0m, in \u001b[0;36mScalarFunction.__init__.<locals>.update_fun\u001b[0;34m()\u001b[0m\n\u001b[1;32m    154\u001b[0m \u001b[38;5;28;01mdef\u001b[39;00m \u001b[38;5;21mupdate_fun\u001b[39m():\n\u001b[0;32m--> 155\u001b[0m     \u001b[38;5;28mself\u001b[39m\u001b[38;5;241m.\u001b[39mf \u001b[38;5;241m=\u001b[39m \u001b[43mfun_wrapped\u001b[49m\u001b[43m(\u001b[49m\u001b[38;5;28;43mself\u001b[39;49m\u001b[38;5;241;43m.\u001b[39;49m\u001b[43mx\u001b[49m\u001b[43m)\u001b[49m\n",
      "File \u001b[0;32m~/miniforge3/lib/python3.9/site-packages/scipy/optimize/_differentiable_functions.py:137\u001b[0m, in \u001b[0;36mScalarFunction.__init__.<locals>.fun_wrapped\u001b[0;34m(x)\u001b[0m\n\u001b[1;32m    133\u001b[0m \u001b[38;5;28mself\u001b[39m\u001b[38;5;241m.\u001b[39mnfev \u001b[38;5;241m+\u001b[39m\u001b[38;5;241m=\u001b[39m \u001b[38;5;241m1\u001b[39m\n\u001b[1;32m    134\u001b[0m \u001b[38;5;66;03m# Send a copy because the user may overwrite it.\u001b[39;00m\n\u001b[1;32m    135\u001b[0m \u001b[38;5;66;03m# Overwriting results in undefined behaviour because\u001b[39;00m\n\u001b[1;32m    136\u001b[0m \u001b[38;5;66;03m# fun(self.x) will change self.x, with the two no longer linked.\u001b[39;00m\n\u001b[0;32m--> 137\u001b[0m fx \u001b[38;5;241m=\u001b[39m \u001b[43mfun\u001b[49m\u001b[43m(\u001b[49m\u001b[43mnp\u001b[49m\u001b[38;5;241;43m.\u001b[39;49m\u001b[43mcopy\u001b[49m\u001b[43m(\u001b[49m\u001b[43mx\u001b[49m\u001b[43m)\u001b[49m\u001b[43m,\u001b[49m\u001b[43m \u001b[49m\u001b[38;5;241;43m*\u001b[39;49m\u001b[43margs\u001b[49m\u001b[43m)\u001b[49m\n\u001b[1;32m    138\u001b[0m \u001b[38;5;66;03m# Make sure the function returns a true scalar\u001b[39;00m\n\u001b[1;32m    139\u001b[0m \u001b[38;5;28;01mif\u001b[39;00m \u001b[38;5;129;01mnot\u001b[39;00m np\u001b[38;5;241m.\u001b[39misscalar(fx):\n",
      "File \u001b[0;32m~/miniforge3/lib/python3.9/site-packages/scipy/optimize/_optimize.py:76\u001b[0m, in \u001b[0;36mMemoizeJac.__call__\u001b[0;34m(self, x, *args)\u001b[0m\n\u001b[1;32m     74\u001b[0m \u001b[38;5;28;01mdef\u001b[39;00m \u001b[38;5;21m__call__\u001b[39m(\u001b[38;5;28mself\u001b[39m, x, \u001b[38;5;241m*\u001b[39margs):\n\u001b[1;32m     75\u001b[0m \u001b[38;5;250m    \u001b[39m\u001b[38;5;124;03m\"\"\" returns the function value \"\"\"\u001b[39;00m\n\u001b[0;32m---> 76\u001b[0m     \u001b[38;5;28;43mself\u001b[39;49m\u001b[38;5;241;43m.\u001b[39;49m\u001b[43m_compute_if_needed\u001b[49m\u001b[43m(\u001b[49m\u001b[43mx\u001b[49m\u001b[43m,\u001b[49m\u001b[43m \u001b[49m\u001b[38;5;241;43m*\u001b[39;49m\u001b[43margs\u001b[49m\u001b[43m)\u001b[49m\n\u001b[1;32m     77\u001b[0m     \u001b[38;5;28;01mreturn\u001b[39;00m \u001b[38;5;28mself\u001b[39m\u001b[38;5;241m.\u001b[39m_value\n",
      "File \u001b[0;32m~/miniforge3/lib/python3.9/site-packages/scipy/optimize/_optimize.py:70\u001b[0m, in \u001b[0;36mMemoizeJac._compute_if_needed\u001b[0;34m(self, x, *args)\u001b[0m\n\u001b[1;32m     68\u001b[0m \u001b[38;5;28;01mif\u001b[39;00m \u001b[38;5;129;01mnot\u001b[39;00m np\u001b[38;5;241m.\u001b[39mall(x \u001b[38;5;241m==\u001b[39m \u001b[38;5;28mself\u001b[39m\u001b[38;5;241m.\u001b[39mx) \u001b[38;5;129;01mor\u001b[39;00m \u001b[38;5;28mself\u001b[39m\u001b[38;5;241m.\u001b[39m_value \u001b[38;5;129;01mis\u001b[39;00m \u001b[38;5;28;01mNone\u001b[39;00m \u001b[38;5;129;01mor\u001b[39;00m \u001b[38;5;28mself\u001b[39m\u001b[38;5;241m.\u001b[39mjac \u001b[38;5;129;01mis\u001b[39;00m \u001b[38;5;28;01mNone\u001b[39;00m:\n\u001b[1;32m     69\u001b[0m     \u001b[38;5;28mself\u001b[39m\u001b[38;5;241m.\u001b[39mx \u001b[38;5;241m=\u001b[39m np\u001b[38;5;241m.\u001b[39masarray(x)\u001b[38;5;241m.\u001b[39mcopy()\n\u001b[0;32m---> 70\u001b[0m     fg \u001b[38;5;241m=\u001b[39m \u001b[38;5;28;43mself\u001b[39;49m\u001b[38;5;241;43m.\u001b[39;49m\u001b[43mfun\u001b[49m\u001b[43m(\u001b[49m\u001b[43mx\u001b[49m\u001b[43m,\u001b[49m\u001b[43m \u001b[49m\u001b[38;5;241;43m*\u001b[39;49m\u001b[43margs\u001b[49m\u001b[43m)\u001b[49m\n\u001b[1;32m     71\u001b[0m     \u001b[38;5;28mself\u001b[39m\u001b[38;5;241m.\u001b[39mjac \u001b[38;5;241m=\u001b[39m fg[\u001b[38;5;241m1\u001b[39m]\n\u001b[1;32m     72\u001b[0m     \u001b[38;5;28mself\u001b[39m\u001b[38;5;241m.\u001b[39m_value \u001b[38;5;241m=\u001b[39m fg[\u001b[38;5;241m0\u001b[39m]\n",
      "File \u001b[0;32m~/miniforge3/lib/python3.9/site-packages/torchmin/minimize_constr.py:21\u001b[0m, in \u001b[0;36m_build_obj.<locals>.f_with_jac\u001b[0;34m(x)\u001b[0m\n\u001b[1;32m     19\u001b[0m x \u001b[38;5;241m=\u001b[39m to_tensor(x)\u001b[38;5;241m.\u001b[39mrequires_grad_(\u001b[38;5;28;01mTrue\u001b[39;00m)\n\u001b[1;32m     20\u001b[0m \u001b[38;5;28;01mwith\u001b[39;00m torch\u001b[38;5;241m.\u001b[39menable_grad():\n\u001b[0;32m---> 21\u001b[0m     fval \u001b[38;5;241m=\u001b[39m \u001b[43mf\u001b[49m\u001b[43m(\u001b[49m\u001b[43mx\u001b[49m\u001b[43m)\u001b[49m\n\u001b[1;32m     22\u001b[0m grad, \u001b[38;5;241m=\u001b[39m torch\u001b[38;5;241m.\u001b[39mautograd\u001b[38;5;241m.\u001b[39mgrad(fval, x)\n\u001b[1;32m     23\u001b[0m \u001b[38;5;28;01mreturn\u001b[39;00m fval\u001b[38;5;241m.\u001b[39mdetach()\u001b[38;5;241m.\u001b[39mcpu()\u001b[38;5;241m.\u001b[39mnumpy(), grad\u001b[38;5;241m.\u001b[39mview(\u001b[38;5;241m-\u001b[39m\u001b[38;5;241m1\u001b[39m)\u001b[38;5;241m.\u001b[39mcpu()\u001b[38;5;241m.\u001b[39mnumpy()\n",
      "Cell \u001b[0;32mIn[164], line 2\u001b[0m, in \u001b[0;36mobjectiveToMinimize_torch\u001b[0;34m(rarityMatrix, relativePriceVector, weightVector, coefficientsVector)\u001b[0m\n\u001b[1;32m      1\u001b[0m \u001b[38;5;28;01mdef\u001b[39;00m \u001b[38;5;21mobjectiveToMinimize_torch\u001b[39m(rarityMatrix, relativePriceVector, weightVector, coefficientsVector):\n\u001b[0;32m----> 2\u001b[0m     coefficientsVector \u001b[38;5;241m=\u001b[39m \u001b[43mtorch\u001b[49m\u001b[38;5;241;43m.\u001b[39;49m\u001b[43mcat\u001b[49m\u001b[43m(\u001b[49m\u001b[43m(\u001b[49m\u001b[43mcoefficientsVector\u001b[49m\u001b[43m,\u001b[49m\u001b[43m \u001b[49m\u001b[38;5;241;43m1\u001b[39;49m\u001b[38;5;241;43m-\u001b[39;49m\u001b[43mtorch\u001b[49m\u001b[38;5;241;43m.\u001b[39;49m\u001b[43msum\u001b[49m\u001b[43m(\u001b[49m\u001b[43mcoefficientsVector\u001b[49m\u001b[43m)\u001b[49m\u001b[43m)\u001b[49m\u001b[43m)\u001b[49m\n\u001b[1;32m      3\u001b[0m     \u001b[38;5;28;01mreturn\u001b[39;00m \u001b[38;5;241m-\u001b[39mweightedCorrelationCalculation_torch(\n\u001b[1;32m      4\u001b[0m         torch\u001b[38;5;241m.\u001b[39mmatmul(rarityMatrix, coefficientsVector), relativePriceVector, weightVector\n\u001b[1;32m      5\u001b[0m     )\n",
      "\u001b[0;31mRuntimeError\u001b[0m: zero-dimensional tensor (at position 1) cannot be concatenated"
     ]
    }
   ],
   "source": [
    "# torch\n",
    "minimizationResults = minimize_constr(\n",
    "    objectiveToMinimize_torch, x0=coefficientsStart_torch,\n",
    ")\n",
    "display(minimizationResults)"
   ]
  },
  {
   "cell_type": "code",
   "execution_count": 104,
   "id": "5f3a318d",
   "metadata": {
    "colab": {
     "base_uri": "https://localhost:8080/",
     "height": 294
    },
    "id": "MLDf5ISeQrkY",
    "outputId": "adca305d-7b45-4b81-f0ca-3236f400e565"
   },
   "outputs": [
    {
     "name": "stdout",
     "output_type": "stream",
     "text": [
      "Inequality constraints incompatible    (Exit mode 4)\n",
      "            Current function value: nan\n",
      "            Iterations: 1\n",
      "            Function evaluations: 15\n",
      "            Gradient evaluations: 1\n"
     ]
    },
    {
     "data": {
      "text/plain": [
       " message: Inequality constraints incompatible\n",
       " success: False\n",
       "  status: 4\n",
       "     fun: nan\n",
       "       x: [ 6.667e-02  6.667e-02 ...  6.667e-02  6.667e-02]\n",
       "     nit: 1\n",
       "     jac: [       nan        nan ...        nan        nan]\n",
       "    nfev: 15\n",
       "    njev: 1"
      ]
     },
     "metadata": {},
     "output_type": "display_data"
    }
   ],
   "source": [
    "# running optimization once just to try it\n",
    "minimizationResults = minimize(\n",
    "    objectiveToMinimize, x0=coefficientsStart,\n",
    "    args=(relativeRarityMatrix, relativePriceVector, weightsVector),\n",
    "    constraints=linearConstraints, options={'disp': True},\n",
    ")\n",
    "display(minimizationResults)"
   ]
  },
  {
   "cell_type": "code",
   "execution_count": 105,
   "id": "9c19ab44",
   "metadata": {
    "colab": {
     "base_uri": "https://localhost:8080/",
     "height": 104
    },
    "id": "iKylZs6zZ-hG",
    "outputId": "28ac6294-e586-4949-c24f-17795b81918f"
   },
   "outputs": [
    {
     "data": {
      "text/plain": [
       "array([0.06666666666666667, 0.06666666666666667, 0.06666666666666667,\n",
       "       0.06666666666666667, 0.06666666666666667, 0.06666666666666667,\n",
       "       0.06666666666666667, 0.06666666666666667, 0.06666666666666667,\n",
       "       0.06666666666666667, 0.06666666666666667, 0.06666666666666667,\n",
       "       0.06666666666666667, 0.06666666666666667, 0.06666666666666676])"
      ]
     },
     "metadata": {},
     "output_type": "display_data"
    }
   ],
   "source": [
    "coefficentsFinal = minimizationResults.x\n",
    "coefficentsFinal = np.append(coefficentsFinal, 1 - np.sum(coefficentsFinal))\n",
    "display(coefficentsFinal)"
   ]
  },
  {
   "cell_type": "code",
   "execution_count": null,
   "id": "67c6d5dc",
   "metadata": {
    "id": "XFE7nzTxd4eC"
   },
   "outputs": [],
   "source": [
    "numberOfIterations = 10\n",
    "coefficientsStartVector = np.zeros((numberOfIterations, numberOfFreeCoefficients))\n",
    "coefficientsFinalVector = np.zeros((numberOfIterations, numberOfFreeCoefficients))\n",
    "functionValuesVector = np.zeros(numberOfIterations)"
   ]
  },
  {
   "cell_type": "code",
   "execution_count": null,
   "id": "7dd6027b",
   "metadata": {
    "colab": {
     "base_uri": "https://localhost:8080/"
    },
    "id": "epFpu1kNdfQv",
    "outputId": "3fd50c6e-a05c-4325-b426-8c59c22e1664"
   },
   "outputs": [
    {
     "name": "stdout",
     "output_type": "stream",
     "text": [
      "iteration:  0\n",
      "Optimization terminated successfully    (Exit mode 0)\n",
      "            Current function value: -0.1594866115097278\n",
      "            Iterations: 11\n",
      "            Function evaluations: 165\n",
      "            Gradient evaluations: 11\n",
      "iteration:  1\n",
      "Optimization terminated successfully    (Exit mode 0)\n",
      "            Current function value: -0.15948739258466585\n",
      "            Iterations: 11\n",
      "            Function evaluations: 165\n",
      "            Gradient evaluations: 11\n",
      "iteration:  2\n",
      "Optimization terminated successfully    (Exit mode 0)\n",
      "            Current function value: -0.15948777820146698\n",
      "            Iterations: 9\n",
      "            Function evaluations: 136\n",
      "            Gradient evaluations: 9\n",
      "iteration:  3\n",
      "Optimization terminated successfully    (Exit mode 0)\n",
      "            Current function value: -0.15948651542586317\n",
      "            Iterations: 11\n",
      "            Function evaluations: 165\n",
      "            Gradient evaluations: 11\n",
      "iteration:  4\n",
      "Optimization terminated successfully    (Exit mode 0)\n",
      "            Current function value: -0.1594874382280142\n",
      "            Iterations: 12\n",
      "            Function evaluations: 180\n",
      "            Gradient evaluations: 12\n",
      "iteration:  5\n",
      "Optimization terminated successfully    (Exit mode 0)\n",
      "            Current function value: -0.159487774583173\n",
      "            Iterations: 10\n",
      "            Function evaluations: 151\n",
      "            Gradient evaluations: 10\n",
      "iteration:  6\n",
      "Optimization terminated successfully    (Exit mode 0)\n",
      "            Current function value: -0.15948760957309943\n",
      "            Iterations: 7\n",
      "            Function evaluations: 105\n",
      "            Gradient evaluations: 7\n",
      "iteration:  7\n",
      "Optimization terminated successfully    (Exit mode 0)\n",
      "            Current function value: -0.1594864780830706\n",
      "            Iterations: 12\n",
      "            Function evaluations: 181\n",
      "            Gradient evaluations: 12\n",
      "iteration:  8\n",
      "Optimization terminated successfully    (Exit mode 0)\n",
      "            Current function value: -0.15948756615339268\n",
      "            Iterations: 10\n",
      "            Function evaluations: 150\n",
      "            Gradient evaluations: 10\n",
      "iteration:  9\n",
      "Optimization terminated successfully    (Exit mode 0)\n",
      "            Current function value: -0.1594871090886921\n",
      "            Iterations: 10\n",
      "            Function evaluations: 150\n",
      "            Gradient evaluations: 10\n"
     ]
    }
   ],
   "source": [
    "for iteration in range(numberOfIterations):\n",
    "    print('iteration: ', iteration)\n",
    "    \n",
    "    boundaries = np.random.rand(numberOfFreeCoefficients)\n",
    "\n",
    "    coefficientStart = boundaries\n",
    "    coefficientsStartVector[iteration] = (coefficientStart)\n",
    "\n",
    "    minimizationResults = minimize(objectiveToMinimize, x0=coefficientStart, args=(relativeRarityMatrix, relativeRarityVector, weightVector), \n",
    "                               constraints=linearConstraints, options={'disp': True}) # method='nelder-mead',\n",
    "    coefficientsFinal = minimizationResults.x\n",
    "    functionValueFinal = minimizationResults.fun\n",
    "    coefficientsStartVector[iteration] = (coefficientsFinal)\n",
    "    functionValuesVector[iteration] = (functionValueFinal)"
   ]
  },
  {
   "cell_type": "code",
   "execution_count": null,
   "id": "fb3f60d5",
   "metadata": {
    "colab": {
     "base_uri": "https://localhost:8080/",
     "height": 52
    },
    "id": "2Abqs66OctJ1",
    "outputId": "bcf24feb-edcf-4ccd-ef2a-3a27f0900d49"
   },
   "outputs": [
    {
     "data": {
      "text/plain": [
       "array([0., 0., 0., 0., 0., 0., 0., 0., 0., 0., 0., 0., 0., 0.])"
      ]
     },
     "metadata": {},
     "output_type": "display_data"
    },
    {
     "data": {
      "text/plain": [
       "0.15948777820146698"
      ]
     },
     "metadata": {},
     "output_type": "display_data"
    }
   ],
   "source": [
    "minimumValueIndex = np.argmin(functionValuesVector)\n",
    "\n",
    "display(coefficientsFinalVector[minimumValueIndex], \n",
    "        -functionValuesVector[minimumValueIndex])"
   ]
  },
  {
   "cell_type": "code",
   "execution_count": null,
   "id": "0f64465e",
   "metadata": {
    "colab": {
     "base_uri": "https://localhost:8080/"
    },
    "id": "Kk7w2ivHc3-h",
    "outputId": "c011543e-9d61-47fd-f742-4de03370ff30"
   },
   "outputs": [
    {
     "data": {
      "text/plain": [
       "array([-0.15948661, -0.15948739, -0.15948778, -0.15948652, -0.15948744,\n",
       "       -0.15948777, -0.15948761, -0.15948648, -0.15948757, -0.15948711])"
      ]
     },
     "execution_count": 470,
     "metadata": {},
     "output_type": "execute_result"
    }
   ],
   "source": [
    "functionValuesVector"
   ]
  },
  {
   "cell_type": "code",
   "execution_count": null,
   "id": "07994efa",
   "metadata": {
    "colab": {
     "base_uri": "https://localhost:8080/"
    },
    "id": "eXxlmAkBi-yK",
    "outputId": "663fc6ed-2c8d-46f7-8c90-353e09c43f99"
   },
   "outputs": [
    {
     "data": {
      "text/plain": [
       "Index(['tokenId-1', 'tokenId-2', 'fee-1', 'fee-2', 'transactionHash-1',\n",
       "       'transactionHash-2', 'blockNumber-1', 'blockNumber-2',\n",
       "       'blockNumberDelta', 'relativePrice', 'Spirit rarity score relative',\n",
       "       'Rarity score relative', 'Strength rarity score relative',\n",
       "       'Style rarity score relative', 'Extra rarity score relative',\n",
       "       'Head rarity score relative', 'Face rarity score relative',\n",
       "       'Hair rarity score relative', 'Wear rarity score relative',\n",
       "       'Mouth rarity score relative', 'Eyes rarity score relative',\n",
       "       'Body rarity score relative', 'Background rarity score relative',\n",
       "       'Type rarity score relative', 'Domain rarity score relative',\n",
       "       'Helmet rarity score relative'],\n",
       "      dtype='object')"
      ]
     },
     "execution_count": 474,
     "metadata": {},
     "output_type": "execute_result"
    }
   ],
   "source": [
    "pairwiseTransactions.columns"
   ]
  },
  {
   "cell_type": "code",
   "execution_count": null,
   "id": "c34abb1b",
   "metadata": {
    "id": "IN-zUp5BjN4G"
   },
   "outputs": [],
   "source": []
  }
 ],
 "metadata": {
  "colab": {
   "provenance": []
  },
  "kernelspec": {
   "display_name": "Python 3 (ipykernel)",
   "language": "python",
   "name": "python3"
  },
  "language_info": {
   "codemirror_mode": {
    "name": "ipython",
    "version": 3
   },
   "file_extension": ".py",
   "mimetype": "text/x-python",
   "name": "python",
   "nbconvert_exporter": "python",
   "pygments_lexer": "ipython3",
   "version": "3.8.9"
  }
 },
 "nbformat": 4,
 "nbformat_minor": 5
}
