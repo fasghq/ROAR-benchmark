{
 "cells": [
  {
   "cell_type": "code",
   "execution_count": 11,
   "id": "d4b5c8fe",
   "metadata": {},
   "outputs": [],
   "source": [
    "import numpy as np\n",
    "import pandas as pd"
   ]
  },
  {
   "cell_type": "code",
   "execution_count": 12,
   "id": "56684dfe",
   "metadata": {},
   "outputs": [],
   "source": [
    "filepath = '../results/openrarity_scores'"
   ]
  },
  {
   "cell_type": "code",
   "execution_count": 13,
   "id": "3540edd8",
   "metadata": {},
   "outputs": [],
   "source": [
    "def get_df(name: str) -> pd.DataFrame:\n",
    "    df = pd.read_csv(filepath + '/' + name + '_openrarity_scores.csv')\n",
    "    return df"
   ]
  },
  {
   "cell_type": "code",
   "execution_count": 14,
   "id": "438af6cd",
   "metadata": {},
   "outputs": [],
   "source": [
    "df = get_df('KILLABEARS')"
   ]
  },
  {
   "cell_type": "code",
   "execution_count": 15,
   "id": "9bdbf7b5",
   "metadata": {},
   "outputs": [
    {
     "data": {
      "text/plain": [
       "2861.8216062643473"
      ]
     },
     "execution_count": 15,
     "metadata": {},
     "output_type": "execute_result"
    }
   ],
   "source": [
    "factor = 1437.41 / 0.502271\n",
    "factor"
   ]
  },
  {
   "cell_type": "code",
   "execution_count": null,
   "id": "033e65fd",
   "metadata": {},
   "outputs": [],
   "source": []
  },
  {
   "cell_type": "code",
   "execution_count": 16,
   "id": "656dc842",
   "metadata": {},
   "outputs": [],
   "source": [
    "real_rarity = {\n",
    "    1819: 1435.30,\n",
    "    7711: 1446.19,\n",
    "    8394: 1447.80,\n",
    "    7715: 1472.71,\n",
    "    668:  34773.85,\n",
    "}"
   ]
  },
  {
   "cell_type": "code",
   "execution_count": 17,
   "id": "24726bf7",
   "metadata": {},
   "outputs": [
    {
     "data": {
      "text/html": [
       "<div>\n",
       "<style scoped>\n",
       "    .dataframe tbody tr th:only-of-type {\n",
       "        vertical-align: middle;\n",
       "    }\n",
       "\n",
       "    .dataframe tbody tr th {\n",
       "        vertical-align: top;\n",
       "    }\n",
       "\n",
       "    .dataframe thead th {\n",
       "        text-align: right;\n",
       "    }\n",
       "</style>\n",
       "<table border=\"1\" class=\"dataframe\">\n",
       "  <thead>\n",
       "    <tr style=\"text-align: right;\">\n",
       "      <th></th>\n",
       "      <th>Unnamed: 0</th>\n",
       "      <th>Mouth information value</th>\n",
       "      <th>Eyebrows information value</th>\n",
       "      <th>Eyelids information value</th>\n",
       "      <th>Eyes information value</th>\n",
       "      <th>Fur information value</th>\n",
       "      <th>Background information value</th>\n",
       "      <th>Clothing information value</th>\n",
       "      <th>Hair information value</th>\n",
       "      <th>Eyewear information value</th>\n",
       "      <th>Head Gear information value</th>\n",
       "      <th>Mask information value</th>\n",
       "      <th>Special Head information value</th>\n",
       "      <th>Trait count information value</th>\n",
       "      <th>Unique Trait count</th>\n",
       "      <th>Token Id</th>\n",
       "      <th>Rarity score</th>\n",
       "    </tr>\n",
       "  </thead>\n",
       "  <tbody>\n",
       "    <tr>\n",
       "      <th>667</th>\n",
       "      <td>667</td>\n",
       "      <td>2.967896</td>\n",
       "      <td>1.44994</td>\n",
       "      <td>1.244199</td>\n",
       "      <td>2.362756</td>\n",
       "      <td>2.251394</td>\n",
       "      <td>3.259662</td>\n",
       "      <td>4.783742</td>\n",
       "      <td>0.137504</td>\n",
       "      <td>0.36945</td>\n",
       "      <td>0.451715</td>\n",
       "      <td>5.795715</td>\n",
       "      <td>0.062361</td>\n",
       "      <td>4.016105</td>\n",
       "      <td>0</td>\n",
       "      <td>668</td>\n",
       "      <td>0.479037</td>\n",
       "    </tr>\n",
       "  </tbody>\n",
       "</table>\n",
       "</div>"
      ],
      "text/plain": [
       "     Unnamed: 0  Mouth information value  Eyebrows information value  \\\n",
       "667         667                 2.967896                     1.44994   \n",
       "\n",
       "     Eyelids information value  Eyes information value  Fur information value  \\\n",
       "667                   1.244199                2.362756               2.251394   \n",
       "\n",
       "     Background information value  Clothing information value  \\\n",
       "667                      3.259662                    4.783742   \n",
       "\n",
       "     Hair information value  Eyewear information value  \\\n",
       "667                0.137504                    0.36945   \n",
       "\n",
       "     Head Gear information value  Mask information value  \\\n",
       "667                     0.451715                5.795715   \n",
       "\n",
       "     Special Head information value  Trait count information value  \\\n",
       "667                        0.062361                       4.016105   \n",
       "\n",
       "     Unique Trait count  Token Id  Rarity score  \n",
       "667                   0       668      0.479037  "
      ]
     },
     "execution_count": 17,
     "metadata": {},
     "output_type": "execute_result"
    }
   ],
   "source": [
    "df[df['Token Id'] == 668]"
   ]
  },
  {
   "cell_type": "code",
   "execution_count": 18,
   "id": "bbe88b6e",
   "metadata": {},
   "outputs": [
    {
     "data": {
      "text/plain": [
       "88.20696199999999"
      ]
     },
     "execution_count": 18,
     "metadata": {},
     "output_type": "execute_result"
    }
   ],
   "source": [
    "sum([10.70275, 10.70275,10.70275,10.70275,10.70275,10.70275,13.287712,10.70275])"
   ]
  },
  {
   "cell_type": "code",
   "execution_count": 19,
   "id": "eb33be6b",
   "metadata": {},
   "outputs": [],
   "source": [
    "from os import listdir\n",
    "from os.path import isfile, join\n",
    "from collections import ChainMap\n",
    "import pandas as pd\n",
    "import numpy as np\n",
    "from natsort import natsorted\n",
    "from tqdm import tqdm\n",
    "import json\n",
    "\n",
    "\n",
    "def metadataJsonToDF(metadata):\n",
    "    traits = []\n",
    "    problems = {'No Traits tokens': [], 'Wrong Traits format tokens': []}\n",
    "    for token in metadata:\n",
    "        if token['traits']:\n",
    "            token['traits'].append({'value': token['collectionTokenId'], 'trait_type': 'Token Id'})\n",
    "            trait_list = []\n",
    "            for d in token['traits']:\n",
    "                try:\n",
    "                    trait_list.append({d['trait_type']: d['value']})\n",
    "                except:\n",
    "                    problems['Wrong Traits format tokens'].append(token['collectionTokenId'])\n",
    "                    trait_list.append({'Noname Trait': d['value']})\n",
    "            traits.append([dict(ChainMap(*trait_list))])\n",
    "        else:\n",
    "            problems['No Traits tokens'].append(token['collectionTokenId'])\n",
    "            token['traits'].append({'value': token['collectionTokenId'], 'trait_type': 'Token Id'})\n",
    "            traits.append([dict(ChainMap(*[{d['trait_type']: d['value']} for d in token['traits']]))])\n",
    "    traitsDF = pd.concat([pd.DataFrame(trait) for trait in traits]).reset_index(drop=True)\n",
    "    return traitsDF, problems\n",
    "\n",
    "\n",
    "def rarityToolsScore(traits_data, weighted=False):\n",
    "    tokenIdColumn = traits_data['Token Id']\n",
    "    traits_data = traits_data.drop('Token Id', axis=1)\n",
    "    if not('Trait count' in traits_data.columns):\n",
    "        traits_data['Trait count'] = traits_data.count(axis=1)\n",
    "    traits_data = traits_data.replace(np.nan, \"None\")\n",
    "    rarity_values = {}\n",
    "    for attribute in traits_data.columns:\n",
    "        value_counts = traits_data[attribute].value_counts()\n",
    "        total_token_count = len(traits_data)\n",
    "        if weighted is False:\n",
    "            rarity = 1 / (value_counts / total_token_count)\n",
    "        elif weighted is True:\n",
    "            rarity = total_token_count / (value_counts * len(value_counts))\n",
    "        rarity_values[attribute + ' rarity score'] = traits_data[attribute].map(rarity)\n",
    "\n",
    "    rarityScores = pd.DataFrame(rarity_values)\n",
    "    rarityScores['Rarity score'] = rarityScores.sum(axis=\"columns\")\n",
    "    rarityScores['Token Id'] = tokenIdColumn\n",
    "    return rarityScores\n",
    "\n",
    "# metadataPath = '../data/metadata_quicknode'\n",
    "metadataPath = '/Users/maksimshuklin/Desktop/metadata'\n",
    "rarityToolsScoresPath =  '../results/raritytools_scores'\n",
    "onlyfiles = natsorted([f for f in listdir(metadataPath) if isfile(join(metadataPath, f))])"
   ]
  },
  {
   "cell_type": "code",
   "execution_count": 22,
   "id": "30e2d486",
   "metadata": {},
   "outputs": [
    {
     "name": "stdout",
     "output_type": "stream",
     "text": [
      "BAYC - start processing.\n"
     ]
    }
   ],
   "source": [
    "fileName = 'BAYC_metadata.json'\n",
    "problems = {}\n",
    "\n",
    "print(f\"{fileName.split('_')[0]} - start processing.\")\n",
    "\n",
    "with open(metadataPath + '/' + fileName, 'r') as file:\n",
    "    metadataDF, collection_problems = metadataJsonToDF(json.load(file))\n",
    "    problems[fileName[:fileName.find(\"_\")]] = collection_problems\n",
    "scores = rarityToolsScore(metadataDF, weighted=False) # added weighed=True \n",
    "scores.to_csv(rarityToolsScoresPath + '/' + fileName[:fileName.find(\"_\")] + '_raritytools_scores.csv')"
   ]
  },
  {
   "cell_type": "code",
   "execution_count": 23,
   "id": "6066e017",
   "metadata": {},
   "outputs": [
    {
     "data": {
      "text/html": [
       "<div>\n",
       "<style scoped>\n",
       "    .dataframe tbody tr th:only-of-type {\n",
       "        vertical-align: middle;\n",
       "    }\n",
       "\n",
       "    .dataframe tbody tr th {\n",
       "        vertical-align: top;\n",
       "    }\n",
       "\n",
       "    .dataframe thead th {\n",
       "        text-align: right;\n",
       "    }\n",
       "</style>\n",
       "<table border=\"1\" class=\"dataframe\">\n",
       "  <thead>\n",
       "    <tr style=\"text-align: right;\">\n",
       "      <th></th>\n",
       "      <th>Token Id</th>\n",
       "      <th>Eyes</th>\n",
       "      <th>Mouth</th>\n",
       "      <th>Clothes</th>\n",
       "      <th>Fur</th>\n",
       "      <th>Background</th>\n",
       "      <th>Earring</th>\n",
       "      <th>Hat</th>\n",
       "    </tr>\n",
       "  </thead>\n",
       "  <tbody>\n",
       "    <tr>\n",
       "      <th>0</th>\n",
       "      <td>0</td>\n",
       "      <td>X Eyes</td>\n",
       "      <td>Discomfort</td>\n",
       "      <td>Striped Tee</td>\n",
       "      <td>Robot</td>\n",
       "      <td>Orange</td>\n",
       "      <td>Silver Hoop</td>\n",
       "      <td>NaN</td>\n",
       "    </tr>\n",
       "    <tr>\n",
       "      <th>1</th>\n",
       "      <td>1</td>\n",
       "      <td>Blue Beams</td>\n",
       "      <td>Grin</td>\n",
       "      <td>Vietnam Jacket</td>\n",
       "      <td>Robot</td>\n",
       "      <td>Orange</td>\n",
       "      <td>NaN</td>\n",
       "      <td>NaN</td>\n",
       "    </tr>\n",
       "    <tr>\n",
       "      <th>2</th>\n",
       "      <td>2</td>\n",
       "      <td>3d</td>\n",
       "      <td>Bored Cigarette</td>\n",
       "      <td>NaN</td>\n",
       "      <td>Robot</td>\n",
       "      <td>Aquamarine</td>\n",
       "      <td>NaN</td>\n",
       "      <td>Sea Captain's Hat</td>\n",
       "    </tr>\n",
       "    <tr>\n",
       "      <th>3</th>\n",
       "      <td>3</td>\n",
       "      <td>Bored</td>\n",
       "      <td>Tongue Out</td>\n",
       "      <td>Bone Necklace</td>\n",
       "      <td>Cheetah</td>\n",
       "      <td>Purple</td>\n",
       "      <td>NaN</td>\n",
       "      <td>NaN</td>\n",
       "    </tr>\n",
       "    <tr>\n",
       "      <th>4</th>\n",
       "      <td>4</td>\n",
       "      <td>Closed</td>\n",
       "      <td>Phoneme L</td>\n",
       "      <td>Navy Striped Tee</td>\n",
       "      <td>Golden Brown</td>\n",
       "      <td>Blue</td>\n",
       "      <td>NaN</td>\n",
       "      <td>Party Hat 2</td>\n",
       "    </tr>\n",
       "    <tr>\n",
       "      <th>...</th>\n",
       "      <td>...</td>\n",
       "      <td>...</td>\n",
       "      <td>...</td>\n",
       "      <td>...</td>\n",
       "      <td>...</td>\n",
       "      <td>...</td>\n",
       "      <td>...</td>\n",
       "      <td>...</td>\n",
       "    </tr>\n",
       "    <tr>\n",
       "      <th>9995</th>\n",
       "      <td>9995</td>\n",
       "      <td>Closed</td>\n",
       "      <td>Bored</td>\n",
       "      <td>Smoking Jacket</td>\n",
       "      <td>Pink</td>\n",
       "      <td>Gray</td>\n",
       "      <td>NaN</td>\n",
       "      <td>NaN</td>\n",
       "    </tr>\n",
       "    <tr>\n",
       "      <th>9996</th>\n",
       "      <td>9996</td>\n",
       "      <td>3d</td>\n",
       "      <td>Dumbfounded</td>\n",
       "      <td>Guayabera</td>\n",
       "      <td>Dark Brown</td>\n",
       "      <td>New Punk Blue</td>\n",
       "      <td>Silver Hoop</td>\n",
       "      <td>NaN</td>\n",
       "    </tr>\n",
       "    <tr>\n",
       "      <th>9997</th>\n",
       "      <td>9997</td>\n",
       "      <td>Bored</td>\n",
       "      <td>Grin Multicolored</td>\n",
       "      <td>Sailor Shirt</td>\n",
       "      <td>Black</td>\n",
       "      <td>Purple</td>\n",
       "      <td>NaN</td>\n",
       "      <td>Halo</td>\n",
       "    </tr>\n",
       "    <tr>\n",
       "      <th>9998</th>\n",
       "      <td>9998</td>\n",
       "      <td>Heart</td>\n",
       "      <td>Bored Unshaven Cigarette</td>\n",
       "      <td>Bayc T Red</td>\n",
       "      <td>Brown</td>\n",
       "      <td>Yellow</td>\n",
       "      <td>NaN</td>\n",
       "      <td>NaN</td>\n",
       "    </tr>\n",
       "    <tr>\n",
       "      <th>9999</th>\n",
       "      <td>9999</td>\n",
       "      <td>Scumbag</td>\n",
       "      <td>Bored Unshaven</td>\n",
       "      <td>NaN</td>\n",
       "      <td>Gray</td>\n",
       "      <td>Purple</td>\n",
       "      <td>Gold Hoop</td>\n",
       "      <td>Army Hat</td>\n",
       "    </tr>\n",
       "  </tbody>\n",
       "</table>\n",
       "<p>10000 rows × 8 columns</p>\n",
       "</div>"
      ],
      "text/plain": [
       "     Token Id        Eyes                     Mouth           Clothes  \\\n",
       "0           0      X Eyes                Discomfort       Striped Tee   \n",
       "1           1  Blue Beams                      Grin    Vietnam Jacket   \n",
       "2           2          3d           Bored Cigarette               NaN   \n",
       "3           3       Bored                Tongue Out     Bone Necklace   \n",
       "4           4      Closed                 Phoneme L  Navy Striped Tee   \n",
       "...       ...         ...                       ...               ...   \n",
       "9995     9995      Closed                     Bored    Smoking Jacket   \n",
       "9996     9996          3d               Dumbfounded         Guayabera   \n",
       "9997     9997       Bored         Grin Multicolored      Sailor Shirt   \n",
       "9998     9998       Heart  Bored Unshaven Cigarette        Bayc T Red   \n",
       "9999     9999     Scumbag            Bored Unshaven               NaN   \n",
       "\n",
       "               Fur     Background      Earring                Hat  \n",
       "0            Robot         Orange  Silver Hoop                NaN  \n",
       "1            Robot         Orange          NaN                NaN  \n",
       "2            Robot     Aquamarine          NaN  Sea Captain's Hat  \n",
       "3          Cheetah         Purple          NaN                NaN  \n",
       "4     Golden Brown           Blue          NaN        Party Hat 2  \n",
       "...            ...            ...          ...                ...  \n",
       "9995          Pink           Gray          NaN                NaN  \n",
       "9996    Dark Brown  New Punk Blue  Silver Hoop                NaN  \n",
       "9997         Black         Purple          NaN               Halo  \n",
       "9998         Brown         Yellow          NaN                NaN  \n",
       "9999          Gray         Purple    Gold Hoop           Army Hat  \n",
       "\n",
       "[10000 rows x 8 columns]"
      ]
     },
     "execution_count": 23,
     "metadata": {},
     "output_type": "execute_result"
    }
   ],
   "source": [
    "metadataDF"
   ]
  },
  {
   "cell_type": "code",
   "execution_count": 43,
   "id": "82d19578",
   "metadata": {},
   "outputs": [],
   "source": [
    "fileName = 'VFT_metadata.json'\n",
    "\n",
    "with open(metadataPath + '/ + fileName, 'r') as file:\n",
    "    metadataDF, _ = metadataJsonToDF(json.load(file))"
   ]
  },
  {
   "cell_type": "code",
   "execution_count": 44,
   "id": "22950f37",
   "metadata": {},
   "outputs": [
    {
     "data": {
      "text/plain": [
       "2 of 3     73\n",
       "9 of 15    73\n",
       "1 of 2     52\n",
       "5 of 15    32\n",
       "1 of 3     25\n",
       "8 of 15    19\n",
       "0 of 2     13\n",
       "0 of 3      2\n",
       "6 of 15     1\n",
       "Name: Access Remaining, dtype: int64"
      ]
     },
     "execution_count": 44,
     "metadata": {},
     "output_type": "execute_result"
    }
   ],
   "source": [
    "metadataDF['Access Remaining'].value_counts()"
   ]
  },
  {
   "cell_type": "code",
   "execution_count": 33,
   "id": "65740188",
   "metadata": {},
   "outputs": [
    {
     "data": {
      "text/plain": [
       "6874    197.211538\n",
       "Name: Access Remaining rarity score, dtype: float64"
      ]
     },
     "execution_count": 33,
     "metadata": {},
     "output_type": "execute_result"
    }
   ],
   "source": [
    "metadataDF[metadataDF['Token Id'] == '0']['Access Remaining']\n",
    "scores[scores['Token Id'] == '6874']['Access Remaining rarity score']"
   ]
  },
  {
   "cell_type": "code",
   "execution_count": 40,
   "id": "4a41ea31",
   "metadata": {},
   "outputs": [
    {
     "data": {
      "text/plain": [
       "(52, 12)"
      ]
     },
     "execution_count": 40,
     "metadata": {},
     "output_type": "execute_result"
    }
   ],
   "source": [
    "metadataDF[metadataDF['Access Remaining'] == '1 of 2'].shape"
   ]
  },
  {
   "cell_type": "code",
   "execution_count": 41,
   "id": "b53381ab",
   "metadata": {},
   "outputs": [
    {
     "data": {
      "text/plain": [
       "2 of 3     73\n",
       "9 of 15    73\n",
       "1 of 2     52\n",
       "5 of 15    32\n",
       "1 of 3     25\n",
       "8 of 15    19\n",
       "0 of 2     13\n",
       "0 of 3      2\n",
       "6 of 15     1\n",
       "Name: Access Remaining, dtype: int64"
      ]
     },
     "execution_count": 41,
     "metadata": {},
     "output_type": "execute_result"
    }
   ],
   "source": [
    "metadataDF['Access Remaining'].value_counts()"
   ]
  },
  {
   "cell_type": "code",
   "execution_count": 32,
   "id": "a69909c1",
   "metadata": {},
   "outputs": [
    {
     "data": {
      "text/html": [
       "<div>\n",
       "<style scoped>\n",
       "    .dataframe tbody tr th:only-of-type {\n",
       "        vertical-align: middle;\n",
       "    }\n",
       "\n",
       "    .dataframe tbody tr th {\n",
       "        vertical-align: top;\n",
       "    }\n",
       "\n",
       "    .dataframe thead th {\n",
       "        text-align: right;\n",
       "    }\n",
       "</style>\n",
       "<table border=\"1\" class=\"dataframe\">\n",
       "  <thead>\n",
       "    <tr style=\"text-align: right;\">\n",
       "      <th></th>\n",
       "      <th>Token Id</th>\n",
       "      <th>Character</th>\n",
       "      <th>Edition #</th>\n",
       "      <th>Token Benefit</th>\n",
       "      <th>Spectacular Type</th>\n",
       "      <th>Rarity</th>\n",
       "      <th>Gary Originally Owned</th>\n",
       "      <th>Access Remaining</th>\n",
       "      <th>Access Type</th>\n",
       "      <th>Just Art</th>\n",
       "      <th>Gifts Remaining</th>\n",
       "      <th>Redemptions</th>\n",
       "    </tr>\n",
       "  </thead>\n",
       "  <tbody>\n",
       "    <tr>\n",
       "      <th>6874</th>\n",
       "      <td>6874</td>\n",
       "      <td>Part Of The Team Dream</td>\n",
       "      <td>1 of 1</td>\n",
       "      <td>Access</td>\n",
       "      <td>NaN</td>\n",
       "      <td>NaN</td>\n",
       "      <td>NaN</td>\n",
       "      <td>1 of 2</td>\n",
       "      <td>One on One</td>\n",
       "      <td>Just Art</td>\n",
       "      <td>NaN</td>\n",
       "      <td>NaN</td>\n",
       "    </tr>\n",
       "  </tbody>\n",
       "</table>\n",
       "</div>"
      ],
      "text/plain": [
       "     Token Id               Character Edition # Token Benefit  \\\n",
       "6874     6874  Part Of The Team Dream    1 of 1        Access   \n",
       "\n",
       "     Spectacular Type Rarity Gary Originally Owned Access Remaining  \\\n",
       "6874              NaN    NaN                   NaN           1 of 2   \n",
       "\n",
       "     Access Type  Just Art Gifts Remaining Redemptions  \n",
       "6874  One on One  Just Art             NaN         NaN  "
      ]
     },
     "execution_count": 32,
     "metadata": {},
     "output_type": "execute_result"
    }
   ],
   "source": [
    "metadataDF[metadataDF['Token Id'] == '6874']"
   ]
  },
  {
   "cell_type": "code",
   "execution_count": null,
   "id": "f5165c48",
   "metadata": {},
   "outputs": [],
   "source": []
  },
  {
   "cell_type": "code",
   "execution_count": null,
   "id": "d17d41c8",
   "metadata": {},
   "outputs": [],
   "source": []
  },
  {
   "cell_type": "code",
   "execution_count": null,
   "id": "1a83243d",
   "metadata": {},
   "outputs": [],
   "source": []
  },
  {
   "cell_type": "code",
   "execution_count": null,
   "id": "1684ed96",
   "metadata": {},
   "outputs": [],
   "source": []
  },
  {
   "cell_type": "code",
   "execution_count": null,
   "id": "ebd29f7b",
   "metadata": {},
   "outputs": [],
   "source": []
  },
  {
   "cell_type": "code",
   "execution_count": null,
   "id": "73827e94",
   "metadata": {},
   "outputs": [],
   "source": []
  },
  {
   "cell_type": "code",
   "execution_count": null,
   "id": "431691ce",
   "metadata": {},
   "outputs": [],
   "source": []
  },
  {
   "cell_type": "code",
   "execution_count": null,
   "id": "69289796",
   "metadata": {},
   "outputs": [],
   "source": []
  },
  {
   "cell_type": "code",
   "execution_count": null,
   "id": "18741ed5",
   "metadata": {},
   "outputs": [],
   "source": []
  },
  {
   "cell_type": "code",
   "execution_count": null,
   "id": "52f2531e",
   "metadata": {},
   "outputs": [],
   "source": []
  },
  {
   "cell_type": "code",
   "execution_count": null,
   "id": "7332aaeb",
   "metadata": {},
   "outputs": [],
   "source": []
  },
  {
   "cell_type": "code",
   "execution_count": 215,
   "id": "2083d052",
   "metadata": {},
   "outputs": [],
   "source": [
    "from os import listdir\n",
    "from os.path import isfile, join\n",
    "from collections import ChainMap\n",
    "import pandas as pd\n",
    "import numpy as np\n",
    "from natsort import natsorted\n",
    "from tqdm import tqdm\n",
    "import json\n",
    "\n",
    "\n",
    "def metadataJsonToDF(metadata):\n",
    "    traits = []\n",
    "    problems = {'No Traits tokens': [], 'Wrong Traits format tokens': []}\n",
    "    for token in metadata:\n",
    "        if token['traits']:\n",
    "            token['traits'].append({'value': token['collectionTokenId'], 'trait_type': 'Token Id'})\n",
    "            trait_list = []\n",
    "            for d in token['traits']:\n",
    "                try:\n",
    "                    trait_list.append({d['trait_type']: d['value']})\n",
    "                except:\n",
    "                    problems['Wrong Traits format tokens'].append(token['collectionTokenId'])\n",
    "                    trait_list.append({'Noname Trait': d['value']})\n",
    "            traits.append([dict(ChainMap(*trait_list))])\n",
    "        else:\n",
    "            problems['No Traits tokens'].append(token['collectionTokenId'])\n",
    "            token['traits'].append({'value': token['collectionTokenId'], 'trait_type': 'Token Id'})\n",
    "            traits.append([dict(ChainMap(*[{d['trait_type']: d['value']} for d in token['traits']]))])\n",
    "    traitsDF = pd.concat([pd.DataFrame(trait) for trait in traits]).reset_index(drop=True)\n",
    "    return traitsDF, problems\n",
    "\n",
    "\n",
    "def countUniqueTraits(traits_data):\n",
    "    uniqueTraitCount = [0 for _ in range(len(traits_data))]\n",
    "    for attribute in traits_data.columns[:-1]:\n",
    "        duplicates = traits_data[attribute].duplicated(keep=False)\n",
    "        duplicates = duplicates[duplicates == False]\n",
    "        if not duplicates.empty:\n",
    "            unique_values_ids = duplicates.index\n",
    "            for id in unique_values_ids:\n",
    "                uniqueTraitCount[id] += 1\n",
    "    return uniqueTraitCount\n",
    "\n",
    "\n",
    "def openRarityScore(traits_data):\n",
    "    tokenIdColumn = traits_data['Token Id']\n",
    "    traits_data = traits_data.drop('Token Id', axis=1)\n",
    "    if not('Trait count' in traits_data.columns):\n",
    "        traits_data['Trait count'] = traits_data.count(axis=1)\n",
    "    traits_data = traits_data.replace(np.nan, \"None\")\n",
    "\n",
    "    uniqueTraitCount = countUniqueTraits(traits_data)\n",
    "\n",
    "    informationValues = {}\n",
    "    #expectedValues = {}\n",
    "    total_token_count = len(traits_data)\n",
    "    total_attribute_count = len(traits_data.columns)\n",
    "\n",
    "    for attribute in traits_data.columns:\n",
    "        value_counts = traits_data[attribute].value_counts()\n",
    "        prob = value_counts / total_token_count\n",
    "        logProb = (1 / prob).apply(np.log2)\n",
    "        expectInform = logProb\n",
    "        #expectNorm = prob * logProb\n",
    "        informationValues[attribute + ' information value'] = traits_data[attribute].map(expectInform)\n",
    "        #expectedValues[attribute + ' expected value'] = traits_data[attribute].map(expectNorm)\n",
    "\n",
    "    rarityScores = pd.DataFrame(informationValues)\n",
    "    #normScores = pd.DataFrame(expectedValues)\n",
    "    #rarityScores['Rarity score'] = rarityScores.sum(axis=\"columns\") / normScores.sum().sum()\n",
    "\n",
    "    rarityScores['Information content'] = rarityScores.sum(axis=\"columns\")\n",
    "    rarityScores['Norm factor'] = rarityScores.sum(axis=\"columns\").sum(axis=\"rows\") / total_token_count\n",
    "    rarityScores['Unique Trait count'] = uniqueTraitCount \n",
    "    rarityScores['Token Id'] = tokenIdColumn\n",
    "    rarityScores['Rarity score'] = (rarityScores['Information content'] + rarityScores['Unique Trait count'] * (total_attribute_count - 1) * np.log2(total_token_count)) / rarityScores['Norm factor']\n",
    "    rarityScores = rarityScores.drop(['Information content', 'Norm factor'], axis=1)\n",
    "    return rarityScores\n",
    "\n",
    "\n",
    "metadataPath = '../data/metadata'\n",
    "openRarityScoresPath = '../results/openrarity_scores'\n",
    "onlyfiles = natsorted([f for f in listdir(metadataPath) if isfile(join(metadataPath, f))])"
   ]
  },
  {
   "cell_type": "code",
   "execution_count": 222,
   "id": "9b9d00ad",
   "metadata": {},
   "outputs": [
    {
     "name": "stdout",
     "output_type": "stream",
     "text": [
      "MICE - start processing.\n"
     ]
    }
   ],
   "source": [
    "problems = {}\n",
    "fileName = 'MICE' + '_metadata.json'\n",
    "print(f\"{fileName.split('_')[0]} - start processing.\")\n",
    "with open(metadataPath + '/' + fileName, 'r') as file:\n",
    "    metadataDF, collection_problems = metadataJsonToDF(json.load(file))\n",
    "    problems[fileName[:fileName.find(\"_\")]] = collection_problems\n",
    "scores = openRarityScore(metadataDF)"
   ]
  },
  {
   "cell_type": "code",
   "execution_count": 223,
   "id": "f31dcef8",
   "metadata": {},
   "outputs": [
    {
     "data": {
      "text/html": [
       "<div>\n",
       "<style scoped>\n",
       "    .dataframe tbody tr th:only-of-type {\n",
       "        vertical-align: middle;\n",
       "    }\n",
       "\n",
       "    .dataframe tbody tr th {\n",
       "        vertical-align: top;\n",
       "    }\n",
       "\n",
       "    .dataframe thead th {\n",
       "        text-align: right;\n",
       "    }\n",
       "</style>\n",
       "<table border=\"1\" class=\"dataframe\">\n",
       "  <thead>\n",
       "    <tr style=\"text-align: right;\">\n",
       "      <th></th>\n",
       "      <th>character information value</th>\n",
       "      <th>nose information value</th>\n",
       "      <th>mouth information value</th>\n",
       "      <th>eyes information value</th>\n",
       "      <th>earrings information value</th>\n",
       "      <th>neck information value</th>\n",
       "      <th>whiskers information value</th>\n",
       "      <th>hat information value</th>\n",
       "      <th>burned information value</th>\n",
       "      <th>Trait count information value</th>\n",
       "      <th>Unique Trait count</th>\n",
       "      <th>Token Id</th>\n",
       "      <th>Rarity score</th>\n",
       "    </tr>\n",
       "  </thead>\n",
       "  <tbody>\n",
       "    <tr>\n",
       "      <th>0</th>\n",
       "      <td>3.296191</td>\n",
       "      <td>2.311148</td>\n",
       "      <td>2.825210</td>\n",
       "      <td>2.375572</td>\n",
       "      <td>0.151042</td>\n",
       "      <td>3.140507</td>\n",
       "      <td>1.742265</td>\n",
       "      <td>3.923578</td>\n",
       "      <td>1.494516</td>\n",
       "      <td>0.0</td>\n",
       "      <td>0</td>\n",
       "      <td>0</td>\n",
       "      <td>0.578906</td>\n",
       "    </tr>\n",
       "    <tr>\n",
       "      <th>1</th>\n",
       "      <td>3.149441</td>\n",
       "      <td>2.311148</td>\n",
       "      <td>2.769059</td>\n",
       "      <td>2.375572</td>\n",
       "      <td>0.151042</td>\n",
       "      <td>0.613520</td>\n",
       "      <td>1.742265</td>\n",
       "      <td>0.932086</td>\n",
       "      <td>1.494516</td>\n",
       "      <td>0.0</td>\n",
       "      <td>0</td>\n",
       "      <td>1</td>\n",
       "      <td>0.423114</td>\n",
       "    </tr>\n",
       "    <tr>\n",
       "      <th>2</th>\n",
       "      <td>3.089267</td>\n",
       "      <td>2.311148</td>\n",
       "      <td>2.774972</td>\n",
       "      <td>3.660178</td>\n",
       "      <td>0.151042</td>\n",
       "      <td>0.613520</td>\n",
       "      <td>1.095111</td>\n",
       "      <td>3.289122</td>\n",
       "      <td>1.494516</td>\n",
       "      <td>0.0</td>\n",
       "      <td>0</td>\n",
       "      <td>2</td>\n",
       "      <td>0.503176</td>\n",
       "    </tr>\n",
       "    <tr>\n",
       "      <th>3</th>\n",
       "      <td>3.296191</td>\n",
       "      <td>2.236503</td>\n",
       "      <td>2.786870</td>\n",
       "      <td>4.248793</td>\n",
       "      <td>0.151042</td>\n",
       "      <td>3.167475</td>\n",
       "      <td>3.159718</td>\n",
       "      <td>0.932086</td>\n",
       "      <td>1.494516</td>\n",
       "      <td>0.0</td>\n",
       "      <td>0</td>\n",
       "      <td>3</td>\n",
       "      <td>0.584710</td>\n",
       "    </tr>\n",
       "    <tr>\n",
       "      <th>4</th>\n",
       "      <td>3.089267</td>\n",
       "      <td>2.345931</td>\n",
       "      <td>2.786870</td>\n",
       "      <td>2.469130</td>\n",
       "      <td>0.151042</td>\n",
       "      <td>0.613520</td>\n",
       "      <td>1.095111</td>\n",
       "      <td>0.932086</td>\n",
       "      <td>1.494516</td>\n",
       "      <td>0.0</td>\n",
       "      <td>0</td>\n",
       "      <td>4</td>\n",
       "      <td>0.407833</td>\n",
       "    </tr>\n",
       "    <tr>\n",
       "      <th>...</th>\n",
       "      <td>...</td>\n",
       "      <td>...</td>\n",
       "      <td>...</td>\n",
       "      <td>...</td>\n",
       "      <td>...</td>\n",
       "      <td>...</td>\n",
       "      <td>...</td>\n",
       "      <td>...</td>\n",
       "      <td>...</td>\n",
       "      <td>...</td>\n",
       "      <td>...</td>\n",
       "      <td>...</td>\n",
       "      <td>...</td>\n",
       "    </tr>\n",
       "    <tr>\n",
       "      <th>9995</th>\n",
       "      <td>3.149441</td>\n",
       "      <td>2.345931</td>\n",
       "      <td>2.825210</td>\n",
       "      <td>2.375572</td>\n",
       "      <td>0.151042</td>\n",
       "      <td>0.613520</td>\n",
       "      <td>1.095111</td>\n",
       "      <td>0.932086</td>\n",
       "      <td>1.494516</td>\n",
       "      <td>0.0</td>\n",
       "      <td>0</td>\n",
       "      <td>9995</td>\n",
       "      <td>0.407968</td>\n",
       "    </tr>\n",
       "    <tr>\n",
       "      <th>9996</th>\n",
       "      <td>3.149441</td>\n",
       "      <td>2.236503</td>\n",
       "      <td>2.825210</td>\n",
       "      <td>2.375572</td>\n",
       "      <td>0.151042</td>\n",
       "      <td>0.613520</td>\n",
       "      <td>1.095111</td>\n",
       "      <td>3.923578</td>\n",
       "      <td>1.494516</td>\n",
       "      <td>0.0</td>\n",
       "      <td>0</td>\n",
       "      <td>9996</td>\n",
       "      <td>0.486446</td>\n",
       "    </tr>\n",
       "    <tr>\n",
       "      <th>9997</th>\n",
       "      <td>2.810966</td>\n",
       "      <td>2.359194</td>\n",
       "      <td>2.827256</td>\n",
       "      <td>4.483581</td>\n",
       "      <td>0.151042</td>\n",
       "      <td>0.613520</td>\n",
       "      <td>1.742265</td>\n",
       "      <td>0.932086</td>\n",
       "      <td>1.494516</td>\n",
       "      <td>0.0</td>\n",
       "      <td>0</td>\n",
       "      <td>9997</td>\n",
       "      <td>0.474191</td>\n",
       "    </tr>\n",
       "    <tr>\n",
       "      <th>9998</th>\n",
       "      <td>3.089267</td>\n",
       "      <td>2.345931</td>\n",
       "      <td>2.774972</td>\n",
       "      <td>2.469130</td>\n",
       "      <td>4.733124</td>\n",
       "      <td>0.613520</td>\n",
       "      <td>1.095111</td>\n",
       "      <td>4.187050</td>\n",
       "      <td>1.494516</td>\n",
       "      <td>0.0</td>\n",
       "      <td>0</td>\n",
       "      <td>9998</td>\n",
       "      <td>0.620910</td>\n",
       "    </tr>\n",
       "    <tr>\n",
       "      <th>9999</th>\n",
       "      <td>3.089267</td>\n",
       "      <td>2.359194</td>\n",
       "      <td>2.769059</td>\n",
       "      <td>2.380071</td>\n",
       "      <td>0.151042</td>\n",
       "      <td>3.167475</td>\n",
       "      <td>1.742265</td>\n",
       "      <td>3.289122</td>\n",
       "      <td>1.494516</td>\n",
       "      <td>0.0</td>\n",
       "      <td>0</td>\n",
       "      <td>9999</td>\n",
       "      <td>0.556632</td>\n",
       "    </tr>\n",
       "  </tbody>\n",
       "</table>\n",
       "<p>10000 rows × 13 columns</p>\n",
       "</div>"
      ],
      "text/plain": [
       "      character information value  nose information value  \\\n",
       "0                        3.296191                2.311148   \n",
       "1                        3.149441                2.311148   \n",
       "2                        3.089267                2.311148   \n",
       "3                        3.296191                2.236503   \n",
       "4                        3.089267                2.345931   \n",
       "...                           ...                     ...   \n",
       "9995                     3.149441                2.345931   \n",
       "9996                     3.149441                2.236503   \n",
       "9997                     2.810966                2.359194   \n",
       "9998                     3.089267                2.345931   \n",
       "9999                     3.089267                2.359194   \n",
       "\n",
       "      mouth information value  eyes information value  \\\n",
       "0                    2.825210                2.375572   \n",
       "1                    2.769059                2.375572   \n",
       "2                    2.774972                3.660178   \n",
       "3                    2.786870                4.248793   \n",
       "4                    2.786870                2.469130   \n",
       "...                       ...                     ...   \n",
       "9995                 2.825210                2.375572   \n",
       "9996                 2.825210                2.375572   \n",
       "9997                 2.827256                4.483581   \n",
       "9998                 2.774972                2.469130   \n",
       "9999                 2.769059                2.380071   \n",
       "\n",
       "      earrings information value  neck information value  \\\n",
       "0                       0.151042                3.140507   \n",
       "1                       0.151042                0.613520   \n",
       "2                       0.151042                0.613520   \n",
       "3                       0.151042                3.167475   \n",
       "4                       0.151042                0.613520   \n",
       "...                          ...                     ...   \n",
       "9995                    0.151042                0.613520   \n",
       "9996                    0.151042                0.613520   \n",
       "9997                    0.151042                0.613520   \n",
       "9998                    4.733124                0.613520   \n",
       "9999                    0.151042                3.167475   \n",
       "\n",
       "      whiskers information value  hat information value  \\\n",
       "0                       1.742265               3.923578   \n",
       "1                       1.742265               0.932086   \n",
       "2                       1.095111               3.289122   \n",
       "3                       3.159718               0.932086   \n",
       "4                       1.095111               0.932086   \n",
       "...                          ...                    ...   \n",
       "9995                    1.095111               0.932086   \n",
       "9996                    1.095111               3.923578   \n",
       "9997                    1.742265               0.932086   \n",
       "9998                    1.095111               4.187050   \n",
       "9999                    1.742265               3.289122   \n",
       "\n",
       "      burned information value  Trait count information value  \\\n",
       "0                     1.494516                            0.0   \n",
       "1                     1.494516                            0.0   \n",
       "2                     1.494516                            0.0   \n",
       "3                     1.494516                            0.0   \n",
       "4                     1.494516                            0.0   \n",
       "...                        ...                            ...   \n",
       "9995                  1.494516                            0.0   \n",
       "9996                  1.494516                            0.0   \n",
       "9997                  1.494516                            0.0   \n",
       "9998                  1.494516                            0.0   \n",
       "9999                  1.494516                            0.0   \n",
       "\n",
       "      Unique Trait count Token Id  Rarity score  \n",
       "0                      0        0      0.578906  \n",
       "1                      0        1      0.423114  \n",
       "2                      0        2      0.503176  \n",
       "3                      0        3      0.584710  \n",
       "4                      0        4      0.407833  \n",
       "...                  ...      ...           ...  \n",
       "9995                   0     9995      0.407968  \n",
       "9996                   0     9996      0.486446  \n",
       "9997                   0     9997      0.474191  \n",
       "9998                   0     9998      0.620910  \n",
       "9999                   0     9999      0.556632  \n",
       "\n",
       "[10000 rows x 13 columns]"
      ]
     },
     "execution_count": 223,
     "metadata": {},
     "output_type": "execute_result"
    }
   ],
   "source": [
    "scores"
   ]
  },
  {
   "cell_type": "code",
   "execution_count": 224,
   "id": "0224d21c",
   "metadata": {},
   "outputs": [],
   "source": [
    "def get_score(token_id: int):\n",
    "    return scores[scores['Token Id'] == str(token_id)]['Rarity score'].item()"
   ]
  },
  {
   "cell_type": "code",
   "execution_count": 88,
   "id": "44110e69",
   "metadata": {},
   "outputs": [
    {
     "name": "stdout",
     "output_type": "stream",
     "text": [
      "{'Token Id': '0', 'Character': '\"Content\" Condor', 'Edition #': '1 of 1', 'Token Benefit': 'Admission', 'Spectacular Type': 'Bubble Gum', 'Rarity': 'Spectacular', 'Gary Originally Owned': nan, 'Access Remaining': nan, 'Access Type': nan, 'Just Art': nan, 'Gifts Remaining': nan, 'Redemptions': nan}\n"
     ]
    }
   ],
   "source": [
    "for i, row in metadataDF.iterrows():\n",
    "    print(row.to_dict())\n",
    "    if i == 0:\n",
    "        break"
   ]
  },
  {
   "cell_type": "code",
   "execution_count": 87,
   "id": "fa9b53c9",
   "metadata": {},
   "outputs": [
    {
     "data": {
      "text/plain": [
       "{'\"Content\" Condor',\n",
       " '0',\n",
       " '1 of 1',\n",
       " 'Admission',\n",
       " 'Bubble Gum',\n",
       " 'Spectacular',\n",
       " nan}"
      ]
     },
     "execution_count": 87,
     "metadata": {},
     "output_type": "execute_result"
    }
   ],
   "source": [
    "row = row.to_dict()\n",
    "row = set(map(lambda x: row[x], row))\n",
    "row"
   ]
  },
  {
   "cell_type": "code",
   "execution_count": 92,
   "id": "0a67d03b",
   "metadata": {},
   "outputs": [
    {
     "data": {
      "text/plain": [
       "{1, 2, 3, 4}"
      ]
     },
     "execution_count": 92,
     "metadata": {},
     "output_type": "execute_result"
    }
   ],
   "source": [
    "row1 = set({1, 2, 3})\n",
    "row2 = set({1, 2, 4})\n",
    "(row1 | row2)"
   ]
  },
  {
   "cell_type": "code",
   "execution_count": 95,
   "id": "b7418f3e",
   "metadata": {},
   "outputs": [
    {
     "data": {
      "text/plain": [
       "array([1., 0., 0., 0., 0.])"
      ]
     },
     "execution_count": 95,
     "metadata": {},
     "output_type": "execute_result"
    }
   ],
   "source": [
    "a = np.zeros(5)\n",
    "a[0] = 1\n",
    "a"
   ]
  },
  {
   "cell_type": "code",
   "execution_count": 99,
   "id": "b7511016",
   "metadata": {},
   "outputs": [
    {
     "data": {
      "text/html": [
       "<div>\n",
       "<style scoped>\n",
       "    .dataframe tbody tr th:only-of-type {\n",
       "        vertical-align: middle;\n",
       "    }\n",
       "\n",
       "    .dataframe tbody tr th {\n",
       "        vertical-align: top;\n",
       "    }\n",
       "\n",
       "    .dataframe thead th {\n",
       "        text-align: right;\n",
       "    }\n",
       "</style>\n",
       "<table border=\"1\" class=\"dataframe\">\n",
       "  <thead>\n",
       "    <tr style=\"text-align: right;\">\n",
       "      <th></th>\n",
       "      <th>a</th>\n",
       "      <th>b</th>\n",
       "    </tr>\n",
       "  </thead>\n",
       "  <tbody>\n",
       "    <tr>\n",
       "      <th>0</th>\n",
       "      <td>1.0</td>\n",
       "      <td>2</td>\n",
       "    </tr>\n",
       "    <tr>\n",
       "      <th>1</th>\n",
       "      <td>2.4</td>\n",
       "      <td>3</td>\n",
       "    </tr>\n",
       "    <tr>\n",
       "      <th>2</th>\n",
       "      <td>3.0</td>\n",
       "      <td>4</td>\n",
       "    </tr>\n",
       "  </tbody>\n",
       "</table>\n",
       "</div>"
      ],
      "text/plain": [
       "     a  b\n",
       "0  1.0  2\n",
       "1  2.4  3\n",
       "2  3.0  4"
      ]
     },
     "execution_count": 99,
     "metadata": {},
     "output_type": "execute_result"
    }
   ],
   "source": [
    "pd.DataFrame({\n",
    "    'a': np.array([1.0, 2.4, 3]),\n",
    "    'b': [2, 3, 4]\n",
    "})"
   ]
  },
  {
   "cell_type": "code",
   "execution_count": null,
   "id": "011dc4ce",
   "metadata": {},
   "outputs": [],
   "source": []
  },
  {
   "cell_type": "code",
   "execution_count": 4,
   "id": "ce87199b",
   "metadata": {},
   "outputs": [],
   "source": [
    "NFTGO_API_KEY = '54804bbd-44b7-4f50-8229-3c5fa3db2dac'"
   ]
  },
  {
   "cell_type": "code",
   "execution_count": 46,
   "id": "ab71750e",
   "metadata": {},
   "outputs": [],
   "source": [
    "URL = 'https://data-api.nftgo.io/eth/v1/nft/{contractAddress}/{tokenId}/info'"
   ]
  },
  {
   "cell_type": "code",
   "execution_count": 49,
   "id": "25bead8b",
   "metadata": {},
   "outputs": [],
   "source": [
    "request_url = URL.format(\n",
    "    contractAddress=0xbc4ca0eda7647a8ab7c2061c2e118a18a936f13d,\n",
    "    tokenId=4495\n",
    ")"
   ]
  },
  {
   "cell_type": "code",
   "execution_count": 52,
   "id": "a4b73850",
   "metadata": {},
   "outputs": [
    {
     "data": {
      "text/plain": [
       "'https://data-api.nftgo.io/eth/v1/nft/1074999140385142990242729887528841825919887143229/4495/info'"
      ]
     },
     "execution_count": 52,
     "metadata": {},
     "output_type": "execute_result"
    }
   ],
   "source": [
    "request_url"
   ]
  },
  {
   "cell_type": "code",
   "execution_count": 51,
   "id": "c89ac619",
   "metadata": {},
   "outputs": [
    {
     "name": "stdout",
     "output_type": "stream",
     "text": [
      "curl: (6) Could not resolve host: request_url\r\n"
     ]
    }
   ],
   "source": [
    "curl 'https://data-api.nftgo.io/<your-request-url> -H X-API-KEY:<YOUR-API-KEY>"
   ]
  },
  {
   "cell_type": "code",
   "execution_count": 57,
   "id": "bcd504c5",
   "metadata": {},
   "outputs": [
    {
     "name": "stdout",
     "output_type": "stream",
     "text": [
      "{\"detail\":[{\"loc\":[\"path\",\"contract_address\"],\"msg\":\"ensure this value has at most 42 characters\",\"type\":\"value_error.any_str.max_length\",\"ctx\":{\"limit_value\":42}}]}"
     ]
    }
   ],
   "source": [
    "!curl 'https://data-api.nftgo.io/eth/v1/nft/1074999140385142990242729887528841825919887143229/4495/info' -H X-API-KEY:'54804bbd-44b7-4f50-8229-3c5fa3db2dac'"
   ]
  },
  {
   "cell_type": "code",
   "execution_count": 1,
   "id": "54963814",
   "metadata": {},
   "outputs": [],
   "source": [
    "import requests"
   ]
  },
  {
   "cell_type": "code",
   "execution_count": 71,
   "id": "b40b1e1b",
   "metadata": {},
   "outputs": [
    {
     "data": {
      "text/plain": [
       "b'{\"detail\":[{\"loc\":[\"path\",\"contract_address\"],\"msg\":\"ensure this value has at most 42 characters\",\"type\":\"value_error.any_str.max_length\",\"ctx\":{\"limit_value\":42}}]}'"
      ]
     },
     "execution_count": 71,
     "metadata": {},
     "output_type": "execute_result"
    }
   ],
   "source": [
    "requests.get(\n",
    "    request_url,\n",
    "    headers={\n",
    "        'X-API-KEY': '54804bbd-44b7-4f50-8229-3c5fa3db2dac'\n",
    "    }\n",
    ").content"
   ]
  },
  {
   "cell_type": "raw",
   "id": "c8324f91",
   "metadata": {},
   "source": [
    "NFTGO_API_KEY"
   ]
  },
  {
   "cell_type": "code",
   "execution_count": 6,
   "id": "6a3f36d6",
   "metadata": {},
   "outputs": [
    {
     "name": "stdout",
     "output_type": "stream",
     "text": [
      "54804bbd-44b7-4f50-8229-3c5fa3db2dac\n"
     ]
    }
   ],
   "source": [
    "print(NFTGO_API_KEY)"
   ]
  },
  {
   "cell_type": "code",
   "execution_count": 78,
   "id": "3cdf6cee",
   "metadata": {},
   "outputs": [],
   "source": [
    "tokenId = 2\n",
    "contractAddress = '0xb452ff31b35dee74f2fdfd5194b91af1bad07b91'\n",
    "url = f'https://data-api.nftgo.io/eth/v1/nft/{contractAddress}/{tokenId}/info'"
   ]
  },
  {
   "cell_type": "code",
   "execution_count": 79,
   "id": "9e3d106a",
   "metadata": {},
   "outputs": [],
   "source": [
    "response = requests.get(\n",
    "    url=url,\n",
    "    headers={\n",
    "        'X-API-KEY': NFTGO_API_KEY\n",
    "    },\n",
    ")"
   ]
  },
  {
   "cell_type": "code",
   "execution_count": 80,
   "id": "07e9ef93",
   "metadata": {},
   "outputs": [
    {
     "data": {
      "text/plain": [
       "b'{\"blockchain\":\"ETH\",\"collection_name\":\"XBorg NFT\",\"collection_slug\":\"x-borg-nft\",\"collection_opensea_slug\":\"xborg-nft\",\"collection_logo\":null,\"contract_type\":\"ERC721\",\"contract_address\":\"0xb452ff31b35dee74f2fdfd5194b91af1bad07b91\",\"token_id\":\"2\",\"name\":\"XBorg #2\",\"description\":\"XBorgs\\xe2\\x80\\x99 are a genesis collection of 2,500 NFTs on Ethereum blockchain and a brand mascot of VISPX. The XBorg NFTs are made up of hundreds of hand-drawn exciting visual traits that make them unique. Known for its powerhouse of features, holding this unique NFT unlocks 10+ utilities including\",\"image\":\"https://lh3.googleusercontent.com/XOtHf9H4t5rqO1Hmw0oz5C4dYhO9i2eIVKTs_q8_f45uEA241n2K91fECvQa3ORqnnEUCYzkZJQr9zP2q_kpIBziy_BATZUEng\",\"animation_url\":null,\"owner_addresses\":[\"0x1ee4c5c57a442ef86605dcaa204f5c48843f1825\"],\"traits\":[{\"type\":\"Class\",\"value\":\"Common\",\"percentage\":0.6},{\"type\":\"Background\",\"value\":\"Attitude\",\"percentage\":0.0204},{\"type\":\"Skin\",\"value\":\"Purple\",\"percentage\":0.0524},{\"type\":\"Antenna\",\"value\":\"Top-Hat-Grey\",\"percentage\":0.012},{\"type\":\"Mouth\",\"value\":\"Displeased\",\"percentage\":0.0252},{\"type\":\"Eyes\",\"value\":\"Banana-Shades\",\"percentage\":0.062},{\"type\":\"Clothes\",\"value\":\"None\",\"percentage\":0.9156},{\"type\":\"Mask\",\"value\":\"None\",\"percentage\":0.9924},{\"type\":\"Pet\",\"value\":\"None\",\"percentage\":0.988},{\"type\":\"Stamina\",\"value\":\"973.94\",\"percentage\":0.0008}],\"rarity\":{\"score\":11.2,\"rank\":1209,\"total\":2500},\"owners\":null,\"extra_rarity_info\":null,\"suspicious\":false,\"last_sale\":null,\"best_offer\":{\"payment_token\":{\"address\":\"0xc02aaa39b223fe8d0a0e5c4f27ead9083c756cc2\",\"symbol\":\"WETH\",\"decimals\":18},\"raw_value\":210000000000000000,\"value\":0.21,\"usd\":437.33255,\"market_name\":\"opensea\",\"order_id\":\"6563ba4db808b69649b6313d\"},\"best_listing\":null}'"
      ]
     },
     "execution_count": 80,
     "metadata": {},
     "output_type": "execute_result"
    }
   ],
   "source": [
    "response.content"
   ]
  },
  {
   "cell_type": "code",
   "execution_count": 92,
   "id": "8da79706",
   "metadata": {},
   "outputs": [
    {
     "name": "stdout",
     "output_type": "stream",
     "text": [
      "  % Total    % Received % Xferd  Average Speed   Time    Time     Time  Current\n",
      "                                 Dload  Upload   Total   Spent    Left  Speed\n",
      "100  1751    0  1751    0     0   3329      0 --:--:-- --:--:-- --:--:--  3360\n",
      "\u001b[1;39m{\n",
      "  \u001b[0m\u001b[1;34m\"blockchain\"\u001b[0m\u001b[1;39m: \u001b[0m\u001b[0;32m\"ETH\"\u001b[0m\u001b[1;39m,\n",
      "  \u001b[0m\u001b[1;34m\"collection_name\"\u001b[0m\u001b[1;39m: \u001b[0m\u001b[0;32m\"XBorg NFT\"\u001b[0m\u001b[1;39m,\n",
      "  \u001b[0m\u001b[1;34m\"collection_slug\"\u001b[0m\u001b[1;39m: \u001b[0m\u001b[0;32m\"x-borg-nft\"\u001b[0m\u001b[1;39m,\n",
      "  \u001b[0m\u001b[1;34m\"collection_opensea_slug\"\u001b[0m\u001b[1;39m: \u001b[0m\u001b[0;32m\"xborg-nft\"\u001b[0m\u001b[1;39m,\n",
      "  \u001b[0m\u001b[1;34m\"collection_logo\"\u001b[0m\u001b[1;39m: \u001b[0m\u001b[0;90mnull\u001b[0m\u001b[1;39m,\n",
      "  \u001b[0m\u001b[1;34m\"contract_type\"\u001b[0m\u001b[1;39m: \u001b[0m\u001b[0;32m\"ERC721\"\u001b[0m\u001b[1;39m,\n",
      "  \u001b[0m\u001b[1;34m\"contract_address\"\u001b[0m\u001b[1;39m: \u001b[0m\u001b[0;32m\"0xb452ff31b35dee74f2fdfd5194b91af1bad07b91\"\u001b[0m\u001b[1;39m,\n",
      "  \u001b[0m\u001b[1;34m\"token_id\"\u001b[0m\u001b[1;39m: \u001b[0m\u001b[0;32m\"2\"\u001b[0m\u001b[1;39m,\n",
      "  \u001b[0m\u001b[1;34m\"name\"\u001b[0m\u001b[1;39m: \u001b[0m\u001b[0;32m\"XBorg #2\"\u001b[0m\u001b[1;39m,\n",
      "  \u001b[0m\u001b[1;34m\"description\"\u001b[0m\u001b[1;39m: \u001b[0m\u001b[0;32m\"XBorgs’ are a genesis collection of 2,500 NFTs on Ethereum blockchain and a brand mascot of VISPX. The XBorg NFTs are made up of hundreds of hand-drawn exciting visual traits that make them unique. Known for its powerhouse of features, holding this unique NFT unlocks 10+ utilities including\"\u001b[0m\u001b[1;39m,\n",
      "  \u001b[0m\u001b[1;34m\"image\"\u001b[0m\u001b[1;39m: \u001b[0m\u001b[0;32m\"https://lh3.googleusercontent.com/XOtHf9H4t5rqO1Hmw0oz5C4dYhO9i2eIVKTs_q8_f45uEA241n2K91fECvQa3ORqnnEUCYzkZJQr9zP2q_kpIBziy_BATZUEng\"\u001b[0m\u001b[1;39m,\n",
      "  \u001b[0m\u001b[1;34m\"animation_url\"\u001b[0m\u001b[1;39m: \u001b[0m\u001b[0;90mnull\u001b[0m\u001b[1;39m,\n",
      "  \u001b[0m\u001b[1;34m\"owner_addresses\"\u001b[0m\u001b[1;39m: \u001b[0m\u001b[1;39m[\n",
      "    \u001b[0;32m\"0x1ee4c5c57a442ef86605dcaa204f5c48843f1825\"\u001b[0m\u001b[1;39m\n",
      "  \u001b[1;39m]\u001b[0m\u001b[1;39m,\n",
      "  \u001b[0m\u001b[1;34m\"traits\"\u001b[0m\u001b[1;39m: \u001b[0m\u001b[1;39m[\n",
      "    \u001b[1;39m{\n",
      "      \u001b[0m\u001b[1;34m\"type\"\u001b[0m\u001b[1;39m: \u001b[0m\u001b[0;32m\"Class\"\u001b[0m\u001b[1;39m,\n",
      "      \u001b[0m\u001b[1;34m\"value\"\u001b[0m\u001b[1;39m: \u001b[0m\u001b[0;32m\"Common\"\u001b[0m\u001b[1;39m,\n",
      "      \u001b[0m\u001b[1;34m\"percentage\"\u001b[0m\u001b[1;39m: \u001b[0m\u001b[0;39m0.6\u001b[0m\u001b[1;39m\n",
      "    \u001b[1;39m}\u001b[0m\u001b[1;39m,\n",
      "    \u001b[1;39m{\n",
      "      \u001b[0m\u001b[1;34m\"type\"\u001b[0m\u001b[1;39m: \u001b[0m\u001b[0;32m\"Background\"\u001b[0m\u001b[1;39m,\n",
      "      \u001b[0m\u001b[1;34m\"value\"\u001b[0m\u001b[1;39m: \u001b[0m\u001b[0;32m\"Attitude\"\u001b[0m\u001b[1;39m,\n",
      "      \u001b[0m\u001b[1;34m\"percentage\"\u001b[0m\u001b[1;39m: \u001b[0m\u001b[0;39m0.0204\u001b[0m\u001b[1;39m\n",
      "    \u001b[1;39m}\u001b[0m\u001b[1;39m,\n",
      "    \u001b[1;39m{\n",
      "      \u001b[0m\u001b[1;34m\"type\"\u001b[0m\u001b[1;39m: \u001b[0m\u001b[0;32m\"Skin\"\u001b[0m\u001b[1;39m,\n",
      "      \u001b[0m\u001b[1;34m\"value\"\u001b[0m\u001b[1;39m: \u001b[0m\u001b[0;32m\"Purple\"\u001b[0m\u001b[1;39m,\n",
      "      \u001b[0m\u001b[1;34m\"percentage\"\u001b[0m\u001b[1;39m: \u001b[0m\u001b[0;39m0.0524\u001b[0m\u001b[1;39m\n",
      "    \u001b[1;39m}\u001b[0m\u001b[1;39m,\n",
      "    \u001b[1;39m{\n",
      "      \u001b[0m\u001b[1;34m\"type\"\u001b[0m\u001b[1;39m: \u001b[0m\u001b[0;32m\"Antenna\"\u001b[0m\u001b[1;39m,\n",
      "      \u001b[0m\u001b[1;34m\"value\"\u001b[0m\u001b[1;39m: \u001b[0m\u001b[0;32m\"Top-Hat-Grey\"\u001b[0m\u001b[1;39m,\n",
      "      \u001b[0m\u001b[1;34m\"percentage\"\u001b[0m\u001b[1;39m: \u001b[0m\u001b[0;39m0.012\u001b[0m\u001b[1;39m\n",
      "    \u001b[1;39m}\u001b[0m\u001b[1;39m,\n",
      "    \u001b[1;39m{\n",
      "      \u001b[0m\u001b[1;34m\"type\"\u001b[0m\u001b[1;39m: \u001b[0m\u001b[0;32m\"Mouth\"\u001b[0m\u001b[1;39m,\n",
      "      \u001b[0m\u001b[1;34m\"value\"\u001b[0m\u001b[1;39m: \u001b[0m\u001b[0;32m\"Displeased\"\u001b[0m\u001b[1;39m,\n",
      "      \u001b[0m\u001b[1;34m\"percentage\"\u001b[0m\u001b[1;39m: \u001b[0m\u001b[0;39m0.0252\u001b[0m\u001b[1;39m\n",
      "    \u001b[1;39m}\u001b[0m\u001b[1;39m,\n",
      "    \u001b[1;39m{\n",
      "      \u001b[0m\u001b[1;34m\"type\"\u001b[0m\u001b[1;39m: \u001b[0m\u001b[0;32m\"Eyes\"\u001b[0m\u001b[1;39m,\n",
      "      \u001b[0m\u001b[1;34m\"value\"\u001b[0m\u001b[1;39m: \u001b[0m\u001b[0;32m\"Banana-Shades\"\u001b[0m\u001b[1;39m,\n",
      "      \u001b[0m\u001b[1;34m\"percentage\"\u001b[0m\u001b[1;39m: \u001b[0m\u001b[0;39m0.062\u001b[0m\u001b[1;39m\n",
      "    \u001b[1;39m}\u001b[0m\u001b[1;39m,\n",
      "    \u001b[1;39m{\n",
      "      \u001b[0m\u001b[1;34m\"type\"\u001b[0m\u001b[1;39m: \u001b[0m\u001b[0;32m\"Clothes\"\u001b[0m\u001b[1;39m,\n",
      "      \u001b[0m\u001b[1;34m\"value\"\u001b[0m\u001b[1;39m: \u001b[0m\u001b[0;32m\"None\"\u001b[0m\u001b[1;39m,\n",
      "      \u001b[0m\u001b[1;34m\"percentage\"\u001b[0m\u001b[1;39m: \u001b[0m\u001b[0;39m0.9156\u001b[0m\u001b[1;39m\n",
      "    \u001b[1;39m}\u001b[0m\u001b[1;39m,\n",
      "    \u001b[1;39m{\n",
      "      \u001b[0m\u001b[1;34m\"type\"\u001b[0m\u001b[1;39m: \u001b[0m\u001b[0;32m\"Mask\"\u001b[0m\u001b[1;39m,\n",
      "      \u001b[0m\u001b[1;34m\"value\"\u001b[0m\u001b[1;39m: \u001b[0m\u001b[0;32m\"None\"\u001b[0m\u001b[1;39m,\n",
      "      \u001b[0m\u001b[1;34m\"percentage\"\u001b[0m\u001b[1;39m: \u001b[0m\u001b[0;39m0.9924\u001b[0m\u001b[1;39m\n",
      "    \u001b[1;39m}\u001b[0m\u001b[1;39m,\n",
      "    \u001b[1;39m{\n",
      "      \u001b[0m\u001b[1;34m\"type\"\u001b[0m\u001b[1;39m: \u001b[0m\u001b[0;32m\"Pet\"\u001b[0m\u001b[1;39m,\n",
      "      \u001b[0m\u001b[1;34m\"value\"\u001b[0m\u001b[1;39m: \u001b[0m\u001b[0;32m\"None\"\u001b[0m\u001b[1;39m,\n",
      "      \u001b[0m\u001b[1;34m\"percentage\"\u001b[0m\u001b[1;39m: \u001b[0m\u001b[0;39m0.988\u001b[0m\u001b[1;39m\n",
      "    \u001b[1;39m}\u001b[0m\u001b[1;39m,\n",
      "    \u001b[1;39m{\n",
      "      \u001b[0m\u001b[1;34m\"type\"\u001b[0m\u001b[1;39m: \u001b[0m\u001b[0;32m\"Stamina\"\u001b[0m\u001b[1;39m,\n",
      "      \u001b[0m\u001b[1;34m\"value\"\u001b[0m\u001b[1;39m: \u001b[0m\u001b[0;32m\"973.94\"\u001b[0m\u001b[1;39m,\n",
      "      \u001b[0m\u001b[1;34m\"percentage\"\u001b[0m\u001b[1;39m: \u001b[0m\u001b[0;39m0.0008\u001b[0m\u001b[1;39m\n",
      "    \u001b[1;39m}\u001b[0m\u001b[1;39m\n",
      "  \u001b[1;39m]\u001b[0m\u001b[1;39m,\n",
      "  \u001b[0m\u001b[1;34m\"rarity\"\u001b[0m\u001b[1;39m: \u001b[0m\u001b[1;39m{\n",
      "    \u001b[0m\u001b[1;34m\"score\"\u001b[0m\u001b[1;39m: \u001b[0m\u001b[0;39m11.2\u001b[0m\u001b[1;39m,\n",
      "    \u001b[0m\u001b[1;34m\"rank\"\u001b[0m\u001b[1;39m: \u001b[0m\u001b[0;39m1209\u001b[0m\u001b[1;39m,\n",
      "    \u001b[0m\u001b[1;34m\"total\"\u001b[0m\u001b[1;39m: \u001b[0m\u001b[0;39m2500\u001b[0m\u001b[1;39m\n",
      "  \u001b[1;39m}\u001b[0m\u001b[1;39m,\n",
      "  \u001b[0m\u001b[1;34m\"owners\"\u001b[0m\u001b[1;39m: \u001b[0m\u001b[0;90mnull\u001b[0m\u001b[1;39m,\n",
      "  \u001b[0m\u001b[1;34m\"extra_rarity_info\"\u001b[0m\u001b[1;39m: \u001b[0m\u001b[0;90mnull\u001b[0m\u001b[1;39m,\n",
      "  \u001b[0m\u001b[1;34m\"suspicious\"\u001b[0m\u001b[1;39m: \u001b[0m\u001b[0;39mfalse\u001b[0m\u001b[1;39m,\n",
      "  \u001b[0m\u001b[1;34m\"last_sale\"\u001b[0m\u001b[1;39m: \u001b[0m\u001b[0;90mnull\u001b[0m\u001b[1;39m,\n",
      "  \u001b[0m\u001b[1;34m\"best_offer\"\u001b[0m\u001b[1;39m: \u001b[0m\u001b[1;39m{\n",
      "    \u001b[0m\u001b[1;34m\"payment_token\"\u001b[0m\u001b[1;39m: \u001b[0m\u001b[1;39m{\n",
      "      \u001b[0m\u001b[1;34m\"address\"\u001b[0m\u001b[1;39m: \u001b[0m\u001b[0;32m\"0xc02aaa39b223fe8d0a0e5c4f27ead9083c756cc2\"\u001b[0m\u001b[1;39m,\n",
      "      \u001b[0m\u001b[1;34m\"symbol\"\u001b[0m\u001b[1;39m: \u001b[0m\u001b[0;32m\"WETH\"\u001b[0m\u001b[1;39m,\n",
      "      \u001b[0m\u001b[1;34m\"decimals\"\u001b[0m\u001b[1;39m: \u001b[0m\u001b[0;39m18\u001b[0m\u001b[1;39m\n",
      "    \u001b[1;39m}\u001b[0m\u001b[1;39m,\n",
      "    \u001b[0m\u001b[1;34m\"raw_value\"\u001b[0m\u001b[1;39m: \u001b[0m\u001b[0;39m210000000000000000\u001b[0m\u001b[1;39m,\n",
      "    \u001b[0m\u001b[1;34m\"value\"\u001b[0m\u001b[1;39m: \u001b[0m\u001b[0;39m0.21\u001b[0m\u001b[1;39m,\n",
      "    \u001b[0m\u001b[1;34m\"usd\"\u001b[0m\u001b[1;39m: \u001b[0m\u001b[0;39m437.33255\u001b[0m\u001b[1;39m,\n",
      "    \u001b[0m\u001b[1;34m\"market_name\"\u001b[0m\u001b[1;39m: \u001b[0m\u001b[0;32m\"opensea\"\u001b[0m\u001b[1;39m,\n",
      "    \u001b[0m\u001b[1;34m\"order_id\"\u001b[0m\u001b[1;39m: \u001b[0m\u001b[0;32m\"6563ba4db808b69649b6313d\"\u001b[0m\u001b[1;39m\n",
      "  \u001b[1;39m}\u001b[0m\u001b[1;39m,\n",
      "  \u001b[0m\u001b[1;34m\"best_listing\"\u001b[0m\u001b[1;39m: \u001b[0m\u001b[0;90mnull\u001b[0m\u001b[1;39m\n",
      "\u001b[1;39m}\u001b[0m\n"
     ]
    }
   ],
   "source": [
    "!curl https://data-api.nftgo.io/eth/v1/nft/0xb452ff31b35dee74f2fdfd5194b91af1bad07b91/2/info -H X-API-KEY:54804bbd-44b7-4f50-8229-3c5fa3db2dac | jq"
   ]
  },
  {
   "cell_type": "code",
   "execution_count": 74,
   "id": "e160ed8c",
   "metadata": {},
   "outputs": [],
   "source": [
    "import requests\n",
    "\n",
    "response = requests.get(\n",
    "    url='https://data-api.nftgo.io/eth/v1/nft/0xb452ff31b35dee74f2fdfd5194b91af1bad07b91/2/info',\n",
    "    headers={\n",
    "        'X-API-KEY': NFTGO_API_KEY,\n",
    "    }\n",
    ")"
   ]
  },
  {
   "cell_type": "code",
   "execution_count": 75,
   "id": "f0a83a25",
   "metadata": {},
   "outputs": [
    {
     "data": {
      "text/plain": [
       "b'{\"blockchain\":\"ETH\",\"collection_name\":\"XBorg NFT\",\"collection_slug\":\"x-borg-nft\",\"collection_opensea_slug\":\"xborg-nft\",\"collection_logo\":null,\"contract_type\":\"ERC721\",\"contract_address\":\"0xb452ff31b35dee74f2fdfd5194b91af1bad07b91\",\"token_id\":\"2\",\"name\":\"XBorg #2\",\"description\":\"XBorgs\\xe2\\x80\\x99 are a genesis collection of 2,500 NFTs on Ethereum blockchain and a brand mascot of VISPX. The XBorg NFTs are made up of hundreds of hand-drawn exciting visual traits that make them unique. Known for its powerhouse of features, holding this unique NFT unlocks 10+ utilities including\",\"image\":\"https://lh3.googleusercontent.com/XOtHf9H4t5rqO1Hmw0oz5C4dYhO9i2eIVKTs_q8_f45uEA241n2K91fECvQa3ORqnnEUCYzkZJQr9zP2q_kpIBziy_BATZUEng\",\"animation_url\":null,\"owner_addresses\":[\"0x1ee4c5c57a442ef86605dcaa204f5c48843f1825\"],\"traits\":[{\"type\":\"Class\",\"value\":\"Common\",\"percentage\":0.6},{\"type\":\"Background\",\"value\":\"Attitude\",\"percentage\":0.0204},{\"type\":\"Skin\",\"value\":\"Purple\",\"percentage\":0.0524},{\"type\":\"Antenna\",\"value\":\"Top-Hat-Grey\",\"percentage\":0.012},{\"type\":\"Mouth\",\"value\":\"Displeased\",\"percentage\":0.0252},{\"type\":\"Eyes\",\"value\":\"Banana-Shades\",\"percentage\":0.062},{\"type\":\"Clothes\",\"value\":\"None\",\"percentage\":0.9156},{\"type\":\"Mask\",\"value\":\"None\",\"percentage\":0.9924},{\"type\":\"Pet\",\"value\":\"None\",\"percentage\":0.988},{\"type\":\"Stamina\",\"value\":\"973.94\",\"percentage\":0.0008}],\"rarity\":{\"score\":11.2,\"rank\":1209,\"total\":2500},\"owners\":null,\"extra_rarity_info\":null,\"suspicious\":false,\"last_sale\":null,\"best_offer\":{\"payment_token\":{\"address\":\"0xc02aaa39b223fe8d0a0e5c4f27ead9083c756cc2\",\"symbol\":\"WETH\",\"decimals\":18},\"raw_value\":210000000000000000,\"value\":0.21,\"usd\":437.33255,\"market_name\":\"opensea\",\"order_id\":\"6563ba4db808b69649b6313d\"},\"best_listing\":null}'"
      ]
     },
     "execution_count": 75,
     "metadata": {},
     "output_type": "execute_result"
    }
   ],
   "source": [
    "response.content"
   ]
  },
  {
   "cell_type": "code",
   "execution_count": 85,
   "id": "e546d3b2",
   "metadata": {},
   "outputs": [],
   "source": [
    "import asyncio\n",
    "import aiohttp\n",
    "import requests\n",
    "import threading\n",
    "\n",
    "\n",
    "async def async_fetch(session, url):\n",
    "    \"\"\"\n",
    "    Asyncronously fetch (get-request) single url using provided session\n",
    "    :param session: aiohttp session object\n",
    "    :param url: target http url\n",
    "    :return: fetched text\n",
    "    \"\"\"\n",
    "    async with session.get(url) as response:\n",
    "        html = await response.text()\n",
    "        return html\n",
    "\n",
    "\n",
    "async def async_requests(urls):\n",
    "    \"\"\"\n",
    "    Concurrently fetch provided urls using aiohttp\n",
    "    :param urls: list of http urls ot fetch\n",
    "    :return: list of fetched texts\n",
    "    \"\"\"\n",
    "    fetched_texts: list[str] = []\n",
    "    async with aiohttp.ClientSession() as session:\n",
    "        tasks = []\n",
    "        for url in urls:\n",
    "            task = asyncio.create_task(async_fetch(session, url))\n",
    "            tasks.append(task)\n",
    "        for task in tasks:\n",
    "            html = await task\n",
    "            fetched_texts.append(html)\n",
    "    return fetched_texts"
   ]
  },
  {
   "cell_type": "code",
   "execution_count": 91,
   "id": "c17af77e",
   "metadata": {},
   "outputs": [
    {
     "name": "stderr",
     "output_type": "stream",
     "text": [
      "/var/folders/tv/9n19nz5j7cq_q4j3vm06dp9w0000gn/T/ipykernel_65005/2145108653.py:1: RuntimeWarning: coroutine 'async_requests' was never awaited\n",
      "  kek = async_requests('http://example.com')\n",
      "RuntimeWarning: Enable tracemalloc to get the object allocation traceback\n"
     ]
    },
    {
     "data": {
      "text/plain": [
       "<coroutine object async_requests at 0x1218c8240>"
      ]
     },
     "execution_count": 91,
     "metadata": {},
     "output_type": "execute_result"
    }
   ],
   "source": [
    "kek = async_requests('http://example.com')\n",
    "kek"
   ]
  },
  {
   "cell_type": "code",
   "execution_count": 104,
   "id": "7dec9c87",
   "metadata": {},
   "outputs": [],
   "source": [
    "import requests\n",
    "import json\n",
    "\n",
    "def get_token_score(tokenId: int):\n",
    "    url = f'https://data-api.nftgo.io/eth/v1/nft/{contractAddress}/{tokenId}/info'\n",
    "    response = requests.get(\n",
    "        url=url,\n",
    "        headers={\n",
    "            'X-API-KEY': NFTGO_API_KEY,\n",
    "        }\n",
    "    )\n",
    "    json_response = json.loads(response.content.decode())\n",
    "    return json_response['rarity']['score']"
   ]
  },
  {
   "cell_type": "code",
   "execution_count": 136,
   "id": "87125ae4",
   "metadata": {},
   "outputs": [
    {
     "name": "stderr",
     "output_type": "stream",
     "text": [
      "\n",
      "KeyboardInterrupt\n",
      "\n"
     ]
    }
   ],
   "source": [
    "import pandas as pd\n",
    "\n",
    "df = pd.DataFrame({\n",
    "    'tokenId': [i for i in range(100)],\n",
    "    'score': [get_token_score(i) for i in range(100)]\n",
    "})"
   ]
  },
  {
   "cell_type": "code",
   "execution_count": 252,
   "id": "bf6503c8",
   "metadata": {},
   "outputs": [],
   "source": [
    "import numpy as np"
   ]
  },
  {
   "cell_type": "code",
   "execution_count": 253,
   "id": "45ad0ba0",
   "metadata": {},
   "outputs": [],
   "source": [
    "dima_df = pd.read_csv('../results/nftgo_scores/XBORG_nftgo_scores.csv')\n",
    "my_df = pd.read_csv('../results/nftgo_scores/XBORG_raritytools_scores.csv')"
   ]
  },
  {
   "cell_type": "code",
   "execution_count": 254,
   "id": "e8a94487",
   "metadata": {},
   "outputs": [],
   "source": [
    "correct = np.array(df['score'].tolist()[:100])\n",
    "dimas = np.array(list(map(lambda x: round(x, 2), ours_df['Rarity score'].tolist()[:100])))\n",
    "my = np.array(list(map(lambda x: round(x, 2), ours_df['Rarity score'].tolist()[:100])))"
   ]
  },
  {
   "cell_type": "code",
   "execution_count": 255,
   "id": "2243bc3d",
   "metadata": {},
   "outputs": [
    {
     "name": "stdout",
     "output_type": "stream",
     "text": [
      "[71.4  65.59 11.2   4.48  5.8  11.54 25.56  4.44 13.05  4.18 10.19 68.38\n",
      " 11.31 66.96 11.82]\n"
     ]
    }
   ],
   "source": [
    "print(correct[:15])"
   ]
  },
  {
   "cell_type": "code",
   "execution_count": 256,
   "id": "95d787fe",
   "metadata": {},
   "outputs": [
    {
     "name": "stdout",
     "output_type": "stream",
     "text": [
      "[78.34 51.32  8.68  3.47  4.49  8.95 19.89  3.45 10.12  3.25  7.9  53.52\n",
      "  8.78 52.39  9.17]\n"
     ]
    }
   ],
   "source": [
    "print(dimas[:15])"
   ]
  },
  {
   "cell_type": "code",
   "execution_count": 257,
   "id": "9875eae1",
   "metadata": {},
   "outputs": [
    {
     "data": {
      "text/plain": [
       "array([78.34, 51.32,  8.68,  3.47,  4.49,  8.95, 19.89,  3.45, 10.12,\n",
       "        3.25,  7.9 , 53.52,  8.78, 52.39,  9.17])"
      ]
     },
     "execution_count": 257,
     "metadata": {},
     "output_type": "execute_result"
    }
   ],
   "source": [
    "my[:15]"
   ]
  },
  {
   "cell_type": "code",
   "execution_count": 259,
   "id": "80e1a795",
   "metadata": {},
   "outputs": [
    {
     "data": {
      "text/plain": [
       "array([ True,  True,  True,  True,  True,  True,  True,  True,  True,\n",
       "        True,  True,  True,  True,  True,  True,  True,  True,  True,\n",
       "        True,  True,  True,  True,  True,  True,  True,  True,  True,\n",
       "        True,  True,  True,  True,  True,  True,  True,  True,  True,\n",
       "        True,  True,  True,  True,  True,  True,  True,  True,  True,\n",
       "        True,  True,  True,  True,  True,  True,  True,  True,  True,\n",
       "        True,  True,  True,  True,  True,  True,  True,  True,  True,\n",
       "        True,  True,  True,  True,  True,  True,  True,  True,  True,\n",
       "        True,  True,  True,  True,  True,  True,  True,  True,  True,\n",
       "        True,  True,  True,  True,  True,  True,  True,  True,  True,\n",
       "        True,  True,  True,  True,  True,  True,  True,  True,  True,\n",
       "        True])"
      ]
     },
     "execution_count": 259,
     "metadata": {},
     "output_type": "execute_result"
    }
   ],
   "source": [
    "my == dimas"
   ]
  },
  {
   "cell_type": "code",
   "execution_count": 260,
   "id": "4dedc210",
   "metadata": {},
   "outputs": [
    {
     "data": {
      "text/plain": [
       "array([ True,  True,  True,  True,  True,  True,  True,  True,  True,\n",
       "        True,  True,  True,  True,  True,  True,  True,  True,  True,\n",
       "        True,  True,  True,  True,  True,  True,  True,  True,  True,\n",
       "        True,  True,  True,  True,  True,  True,  True,  True,  True,\n",
       "        True,  True,  True,  True,  True,  True,  True,  True,  True,\n",
       "        True,  True,  True,  True,  True,  True,  True,  True,  True,\n",
       "        True,  True,  True,  True,  True,  True,  True,  True,  True,\n",
       "        True,  True,  True,  True,  True,  True,  True,  True,  True,\n",
       "        True,  True,  True,  True,  True,  True,  True,  True,  True,\n",
       "        True,  True,  True,  True,  True,  True,  True,  True,  True,\n",
       "       False, False, False, False, False, False, False, False, False,\n",
       "        True])"
      ]
     },
     "execution_count": 260,
     "metadata": {},
     "output_type": "execute_result"
    }
   ],
   "source": [
    "np.argsort(correct) == np.argsort(dimas)"
   ]
  },
  {
   "cell_type": "code",
   "execution_count": 261,
   "id": "9e2a4631",
   "metadata": {},
   "outputs": [
    {
     "data": {
      "text/plain": [
       "array([17, 70, 56, 82, 85, 15, 91, 66,  9, 69,  7,  3, 78, 68, 50, 72, 97,\n",
       "       19,  4, 99, 18, 46, 43, 47, 55, 20, 87, 35, 98, 76, 93, 71, 28, 42,\n",
       "       86, 24, 73, 95, 61, 10, 23, 60, 90,  2, 12, 77, 45,  5, 14, 83, 32,\n",
       "       39,  8, 75, 49, 58, 62, 79, 81, 84, 21, 53, 92, 16, 64, 36, 22, 48,\n",
       "       51, 96, 89, 94, 88,  6, 44, 38, 65, 31, 33, 37, 25, 59, 34, 41, 30,\n",
       "       52, 29, 63, 67, 80, 40, 27, 54,  1, 13, 74, 57, 11, 26,  0])"
      ]
     },
     "execution_count": 261,
     "metadata": {},
     "output_type": "execute_result"
    }
   ],
   "source": [
    "np.argsort(correct)"
   ]
  },
  {
   "cell_type": "code",
   "execution_count": 262,
   "id": "621d4127",
   "metadata": {},
   "outputs": [
    {
     "data": {
      "text/plain": [
       "array([17, 70, 56, 82, 85, 15, 91, 66,  9, 69,  7,  3, 78, 68, 50, 72, 97,\n",
       "       19,  4, 99, 18, 46, 43, 47, 55, 20, 87, 35, 98, 76, 93, 71, 28, 42,\n",
       "       86, 24, 73, 95, 61, 10, 23, 60, 90,  2, 12, 77, 45,  5, 14, 83, 32,\n",
       "       39,  8, 75, 49, 58, 62, 79, 81, 84, 21, 53, 92, 16, 64, 36, 22, 48,\n",
       "       51, 96, 89, 94, 88,  6, 44, 38, 65, 31, 33, 37, 25, 59, 34, 41, 30,\n",
       "       52, 29, 63, 67, 80, 27,  1, 13, 74, 57, 11, 26, 40, 54,  0])"
      ]
     },
     "execution_count": 262,
     "metadata": {},
     "output_type": "execute_result"
    }
   ],
   "source": [
    "np.argsort(ours)"
   ]
  },
  {
   "cell_type": "code",
   "execution_count": 263,
   "id": "1a0e0e17",
   "metadata": {},
   "outputs": [
    {
     "data": {
      "text/plain": [
       "8"
      ]
     },
     "execution_count": 263,
     "metadata": {},
     "output_type": "execute_result"
    }
   ],
   "source": [
    "a = [40, 27, 54,  1, 13, 74, 57, 11, 26,  0]\n",
    "b = [27,  1, 13, 74, 57, 11, 26, 40, 54,  0]\n",
    "dp = [[0 for i in range(10 + 1)] for j in range(10 + 1)]\n",
    "for i in range(1, 10 + 1):\n",
    "    for j in range(1, 10 + 1):\n",
    "        if a[i - 1] == b[j - 1]:\n",
    "            dp[i][j] = max(dp[i][j], dp[i - 1][j - 1]) + 1\n",
    "        dp[i][j] = max(dp[i][j], dp[i - 1][j])\n",
    "        dp[i][j] = max(dp[i][j], dp[i][j - 1])\n",
    "dp[10][10]"
   ]
  },
  {
   "cell_type": "code",
   "execution_count": 264,
   "id": "b4e47f91",
   "metadata": {},
   "outputs": [
    {
     "name": "stdout",
     "output_type": "stream",
     "text": [
      "1 -- 40\n",
      "1 -- 54\n",
      "11 -- 40\n",
      "11 -- 54\n",
      "13 -- 40\n",
      "13 -- 54\n",
      "26 -- 40\n",
      "26 -- 54\n",
      "27 -- 40\n",
      "40 -- 1\n",
      "40 -- 11\n",
      "40 -- 13\n",
      "40 -- 26\n",
      "40 -- 27\n",
      "40 -- 57\n",
      "40 -- 74\n",
      "54 -- 1\n",
      "54 -- 11\n",
      "54 -- 13\n",
      "54 -- 26\n",
      "54 -- 57\n",
      "54 -- 74\n",
      "57 -- 40\n",
      "57 -- 54\n",
      "74 -- 40\n",
      "74 -- 54\n"
     ]
    }
   ],
   "source": [
    "for i in range(100):\n",
    "    for j in range(100):\n",
    "        if ours[i] > ours[j] and correct[i] < correct[j]:\n",
    "            print(f'{i} -- {j}')\n",
    "        if ours[i] < ours[j] and correct[i] > correct[j]:\n",
    "            print(f'{i} -- {j}')"
   ]
  },
  {
   "cell_type": "code",
   "execution_count": 265,
   "id": "fa2fe2a3",
   "metadata": {},
   "outputs": [
    {
     "data": {
      "text/html": [
       "<div>\n",
       "<style scoped>\n",
       "    .dataframe tbody tr th:only-of-type {\n",
       "        vertical-align: middle;\n",
       "    }\n",
       "\n",
       "    .dataframe tbody tr th {\n",
       "        vertical-align: top;\n",
       "    }\n",
       "\n",
       "    .dataframe thead th {\n",
       "        text-align: right;\n",
       "    }\n",
       "</style>\n",
       "<table border=\"1\" class=\"dataframe\">\n",
       "  <thead>\n",
       "    <tr style=\"text-align: right;\">\n",
       "      <th></th>\n",
       "      <th>Unnamed: 0</th>\n",
       "      <th>Stamina</th>\n",
       "      <th>Special Set</th>\n",
       "      <th>Pet</th>\n",
       "      <th>Mask</th>\n",
       "      <th>Clothes</th>\n",
       "      <th>Eyes</th>\n",
       "      <th>Mouth</th>\n",
       "      <th>Antenna</th>\n",
       "      <th>Skin</th>\n",
       "      <th>Background</th>\n",
       "      <th>Class</th>\n",
       "      <th>Rarity score</th>\n",
       "      <th>Token Id</th>\n",
       "    </tr>\n",
       "  </thead>\n",
       "  <tbody>\n",
       "    <tr>\n",
       "      <th>54</th>\n",
       "      <td>54</td>\n",
       "      <td>4293.24</td>\n",
       "      <td>Shark-Onesie</td>\n",
       "      <td>None</td>\n",
       "      <td>None</td>\n",
       "      <td>Shark-Onesie</td>\n",
       "      <td>Goof</td>\n",
       "      <td>Happy-Fangs</td>\n",
       "      <td>None</td>\n",
       "      <td>Silver</td>\n",
       "      <td>Electric-Purple</td>\n",
       "      <td>Elite</td>\n",
       "      <td>73.681974</td>\n",
       "      <td>54</td>\n",
       "    </tr>\n",
       "  </tbody>\n",
       "</table>\n",
       "</div>"
      ],
      "text/plain": [
       "    Unnamed: 0  Stamina   Special Set   Pet  Mask       Clothes  Eyes  \\\n",
       "54          54  4293.24  Shark-Onesie  None  None  Shark-Onesie  Goof   \n",
       "\n",
       "          Mouth Antenna    Skin       Background  Class  Rarity score  \\\n",
       "54  Happy-Fangs    None  Silver  Electric-Purple  Elite     73.681974   \n",
       "\n",
       "    Token Id  \n",
       "54        54  "
      ]
     },
     "execution_count": 265,
     "metadata": {},
     "output_type": "execute_result"
    }
   ],
   "source": [
    "ours_df[ours_df['Token Id'] == 54]"
   ]
  },
  {
   "cell_type": "code",
   "execution_count": 266,
   "id": "5fe33aa3",
   "metadata": {},
   "outputs": [
    {
     "data": {
      "text/plain": [
       "(14, 14)"
      ]
     },
     "execution_count": 266,
     "metadata": {},
     "output_type": "execute_result"
    }
   ],
   "source": [
    "ours_df[ours_df['Special Set'] != 'None'].shape"
   ]
  },
  {
   "cell_type": "code",
   "execution_count": 268,
   "id": "588f679c",
   "metadata": {},
   "outputs": [
    {
     "data": {
      "text/plain": [
       "Unnamed: 0      False\n",
       "Stamina         False\n",
       "Special Set     False\n",
       "Pet             False\n",
       "Mask            False\n",
       "Clothes         False\n",
       "Eyes            False\n",
       "Mouth           False\n",
       "Antenna         False\n",
       "Skin            False\n",
       "Background      False\n",
       "Class           False\n",
       "Rarity score    False\n",
       "Token Id        False\n",
       "dtype: bool"
      ]
     },
     "execution_count": 268,
     "metadata": {},
     "output_type": "execute_result"
    }
   ],
   "source": [
    "ours_df.isna().any()"
   ]
  },
  {
   "cell_type": "code",
   "execution_count": null,
   "id": "495e0d46",
   "metadata": {},
   "outputs": [],
   "source": []
  }
 ],
 "metadata": {
  "kernelspec": {
   "display_name": "Python 3 (ipykernel)",
   "language": "python",
   "name": "python3"
  },
  "language_info": {
   "codemirror_mode": {
    "name": "ipython",
    "version": 3
   },
   "file_extension": ".py",
   "mimetype": "text/x-python",
   "name": "python",
   "nbconvert_exporter": "python",
   "pygments_lexer": "ipython3",
   "version": "3.11.8"
  }
 },
 "nbformat": 4,
 "nbformat_minor": 5
}
